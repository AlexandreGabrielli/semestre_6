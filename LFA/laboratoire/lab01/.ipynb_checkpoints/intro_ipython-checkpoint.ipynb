{
 "cells": [
  {
   "cell_type": "markdown",
   "metadata": {},
   "source": [
    "# LFA - Laboratoire 1\n",
    "## Introduction to python\n",
    "\n",
    "<i> Modified from lab-1 MLBD, courtesy of Julien Rebetez, Aitana Lebrand. </i>\n",
    "- Professeur: Carlos Peña (<a href=\"mailto:carlos.pena@heig-vd.ch\">carlos.pena@heig-vd.ch</a>)\n",
    "- Assistant 2016: Héctor Satizábal (<a href=\"mailto:hector-fabio.satizaba-mejia@heig-vd.ch\">hector-fabio.satizaba-mejia@heig-vd.ch</a>)\n",
    "- Assistant 2017: Diogo Leite (<a href=\"mailto:diogo.leite@heig-vd.ch\">diogo.leite@heig-vd.ch</a>)\n",
    "- Assistant 2018: Gary Marigliano ~~(gary.marigliano@heig-vd.ch)~~\n",
    "- Assistant 2019: Diogo Leite (<a href=\"mailto:diogo.leite@heig-vd.ch\">diogo.leite@heig-vd.ch</a>)\n",
    "- Assistant 2020: Héctor Satizábal (<a href=\"mailto:hector-fabio.satizaba-mejia@heig-vd.ch\">hector-fabio.satizaba-mejia@heig-vd.ch</a>)\n",
    "\n",
    "Date: Spring 2020"
   ]
  },
  {
   "cell_type": "markdown",
   "metadata": {},
   "source": [
    "> Throughout the laboratories, the questions that you should answer are highlighted as follows :\n",
    "> <p style=\"background-color:#AFEEEE;padding:3px\"><font size=\"4\"><b>0. </b></font> This is a question.</p>"
   ]
  },
  {
   "cell_type": "markdown",
   "metadata": {},
   "source": [
    "## 1. Introduction to IPython notebooks"
   ]
  },
  {
   "cell_type": "markdown",
   "metadata": {},
   "source": [
    "In this laboratory you are going to learn how to perform interactive computing using **IPython**. **IPython** is an interactive shell for python that has more functionnalities than the basic one. \n",
    "\n",
    "**Warning:** This guide does not start from the basics of the general purpose language **python**. If you do not know this language, it is recommended to follow a **python** tutorial in order to learn the basic concepts and commands. You can have a look at the [official python tutorial](https://docs.python.org/2/tutorial/) or [Google's python tutorial](https://developers.google.com/edu/python/) for example.\n",
    "\n",
    "Note that for this course, we will use Python 3.X\n",
    "\n",
    "You will use a browser-based notebook to interactively explore a dataset by:\n",
    "- Reading raw data from ascii files\n",
    "- Reading typed data (data frames) from ascii files\n",
    "- Selecting specific columns and/or rows from a dataset\n",
    "- Filtering datasets\n",
    "- Plotting the information in the dataset (e.g., scatter-plot, boxplot, histogram)\n",
    "\n",
    "\n",
    "In data science (and related fields) it is common to use Python + Numpy (math) + Matplotlib (plots) + Pandas (data wrangling) + Scipy (stats) + ... You really should follow tutorials to keep up with this course. You can start by reading the following:\n",
    "\n",
    "* [Official python tutorial](https://docs.python.org/2/tutorial/)\n",
    "* [Google's python tutorial](https://developers.google.com/edu/python/)\n",
    "* [Learn Python in 5 minutes](https://learnxinyminutes.com/docs/python/)\n",
    "* [Quick start Numpy tutorial](https://docs.scipy.org/doc/numpy/user/quickstart.html)\n",
    "* [Effective Matplotlib](http://pbpython.com/effective-matplotlib.html)"
   ]
  },
  {
   "cell_type": "markdown",
   "metadata": {},
   "source": [
    "### Using the notebooks"
   ]
  },
  {
   "cell_type": "markdown",
   "metadata": {},
   "source": [
    "You are in an IPython notebook right now. An IPython notebook is a web interface to a Python interpreter.\n",
    "\n",
    "A notebook is made of cells. Each cell has a type which defines what happens when it is run. \n",
    "\n",
    "- Markdown cells allow you to write [Markdown](http://daringfireball.net/projects/markdown/) text in them. They are just displayed as HTML when run.\n",
    "- Code cells contain python code. When the cell is run, the code is sent to the python interpreter, executed and you get the result in the cell output.\n",
    "- Various header cells that allow you to structure your document.\n",
    "\n",
    "You can change the type of a cell using the drop-down menu in the toolbar.\n",
    "\n",
    "You can click (for Code cells) or double-click (for headers and markdown cells) on cells to edit their content. You can then use keyboard shortcuts to run them :\n",
    "\n",
    "- Ctrl + Enter : run in place\n",
    "- Shift + Enter : run and move to next cell\n",
    "- Alt + Enter : run and insert new cell after"
   ]
  },
  {
   "cell_type": "code",
   "execution_count": 1,
   "metadata": {},
   "outputs": [
    {
     "name": "stdout",
     "output_type": "stream",
     "text": [
      "4\n"
     ]
    }
   ],
   "source": [
    "# This is a code cell containing python code !\n",
    "print(2+2)"
   ]
  },
  {
   "cell_type": "markdown",
   "metadata": {},
   "source": [
    "The python interpreter that executes the code you write in the notebook is called a *Kernel*. You can restart the kernel (the interpreter) using the *Kernel* menu. This is useful if you want to delete all your variables."
   ]
  },
  {
   "cell_type": "markdown",
   "metadata": {},
   "source": [
    "Ipython has also \"magic\" functions that start with % . They allow you to do a lot of useful things with your ipython environment :\n",
    "\n",
    "http://nbviewer.ipython.org/github/ipython/ipython/blob/1.x/examples/notebooks/Cell%20Magics.ipynb\n",
    "\n",
    "The %who magic gives you a list of the defined python variables. object? can be used to get documentation about an object :"
   ]
  },
  {
   "cell_type": "code",
   "execution_count": 2,
   "metadata": {},
   "outputs": [
    {
     "name": "stdout",
     "output_type": "stream",
     "text": [
      "a\t \n"
     ]
    }
   ],
   "source": [
    "a = 2\n",
    "%who"
   ]
  },
  {
   "cell_type": "code",
   "execution_count": 3,
   "metadata": {},
   "outputs": [
    {
     "name": "stdout",
     "output_type": "stream",
     "text": [
      "3\n",
      "This is the traditional python help() function :\n",
      "\n",
      "Help on function my_documented_function in module __main__:\n",
      "\n",
      "my_documented_function(a)\n",
      "    This is a revolutionary function that returns a + 1\n",
      "\n",
      "End of help() command output \n",
      "\n"
     ]
    }
   ],
   "source": [
    "def my_documented_function(a):\n",
    "    \"\"\"This is a revolutionary function that returns a + 1\"\"\"\n",
    "    return a + 1\n",
    "\n",
    "print(my_documented_function(2))\n",
    "print('This is the traditional python help() function :\\n')\n",
    "help(my_documented_function)\n",
    "print('End of help() command output \\n')\n",
    "\n",
    "# We can access the same info with just ? (note that you have to run this cell to view the effect).\n",
    "my_documented_function?\n",
    "# The output may be provided in a separate pane in your browser"
   ]
  },
  {
   "cell_type": "markdown",
   "metadata": {},
   "source": [
    "## 2. Scientific computing with NumPy"
   ]
  },
  {
   "cell_type": "markdown",
   "metadata": {},
   "source": [
    "Python has a number of packages (libraries) dedicated to scientific programming :\n",
    "\n",
    "The foundation is [numpy](http://www.numpy.org/) which provides a N-dimensional array implementation with a nice indexing syntax (similar to MATLAB).\n",
    "\n",
    "Then comes [scipy](http://www.scipy.org/) which contains a number of algorithms (signal processing, distance computation, etc...) built on top of numpy.\n",
    "\n",
    "[matplotlib](http://matplotlib.org/) is a library to create 2D plots.\n",
    "\n",
    "[pandas](http://pandas.pydata.org/) provides a DataFrame implementation, which is a layer on top of numpy arrays that makes some things (handling missing values, date indexing) easier. Heavily inspired by the [R](http://www.r-project.org/) statistical computing language.\n",
    "\n",
    "[scikit-learn](http://scikit-learn.org/stable/) is a machine learning library that contains implementations of many of the most popular machine learning algorithms.\n",
    "\n",
    "[tensorflow](https://www.tensorflow.org/) and [pytorch](https://pytorch.org/) allow you to run deep learning models on a GPU.\n",
    "\n",
    "Finally, this is not a python package, but [stack overflow](http://stackoverflow.com/) is a really good question-and-answers site where you can probably find answers to the most common problems you'll have :-)"
   ]
  },
  {
   "cell_type": "markdown",
   "metadata": {},
   "source": [
    "For this course, we strongly suggest that you install and use [miniconda](https://docs.conda.io/en/latest/miniconda.html). It is a \"python distribution\" that comes with a package manager (conda) and all of the scientific packages listed above (and many others) pre-installed."
   ]
  },
  {
   "cell_type": "markdown",
   "metadata": {},
   "source": [
    "## 3. Quick numpy introduction"
   ]
  },
  {
   "cell_type": "markdown",
   "metadata": {},
   "source": [
    "Numpy allows you to define [multidimensionnal arrays](http://docs.scipy.org/doc/numpy/reference/arrays.ndarray.html) (recommended reading)."
   ]
  },
  {
   "cell_type": "code",
   "execution_count": 4,
   "metadata": {},
   "outputs": [
    {
     "name": "stdout",
     "output_type": "stream",
     "text": [
      "(2, 3)\n"
     ]
    },
    {
     "data": {
      "text/plain": [
       "array([[1, 2, 3],\n",
       "       [4, 5, 6]])"
      ]
     },
     "execution_count": 4,
     "metadata": {},
     "output_type": "execute_result"
    }
   ],
   "source": [
    "# Makes the numpy function available as np.<funcname> (np is a convention)\n",
    "import numpy as np\n",
    "\n",
    "array1 = np.array([ [1, 2, 3],\n",
    "                    [4, 5, 6] ])\n",
    "\n",
    "print(array1.shape)\n",
    "\n",
    "# The last line of a python cell is evaluated and used as the output for the cell\n",
    "array1"
   ]
  },
  {
   "cell_type": "markdown",
   "metadata": {},
   "source": [
    "The array elements can be accessed using the [indexing syntax](http://docs.scipy.org/doc/numpy/reference/arrays.indexing.html#arrays-indexing) (recommended reading). Numpy (and python) uses 0-based indexing."
   ]
  },
  {
   "cell_type": "code",
   "execution_count": 9,
   "metadata": {},
   "outputs": [
    {
     "name": "stdout",
     "output_type": "stream",
     "text": [
      "element (2,3) :  6\n",
      "first row     :  [1 2 3]\n",
      "second column :  [2 5]\n",
      "second and third element of the second row :  [5 6]\n"
     ]
    }
   ],
   "source": [
    "print(\"element (2,3) : \", array1[1,2])\n",
    "print(\"first row     : \", array1[0,:])\n",
    "print(\"second column : \", array1[:,1])\n",
    "print(\"second and third element of the second row : \", array1[1, 1:])"
   ]
  },
  {
   "cell_type": "markdown",
   "metadata": {},
   "source": [
    "You can do a [lot of things](http://docs.scipy.org/doc/numpy/reference/) with numpy arrays. For example, we can compute the mean of each line :"
   ]
  },
  {
   "cell_type": "code",
   "execution_count": 10,
   "metadata": {},
   "outputs": [
    {
     "data": {
      "text/plain": [
       "array([2., 5.])"
      ]
     },
     "execution_count": 10,
     "metadata": {},
     "output_type": "execute_result"
    }
   ],
   "source": [
    "array1.mean(axis=1)"
   ]
  },
  {
   "cell_type": "markdown",
   "metadata": {},
   "source": [
    "We can also sort an array :"
   ]
  },
  {
   "cell_type": "code",
   "execution_count": 11,
   "metadata": {},
   "outputs": [
    {
     "name": "stdout",
     "output_type": "stream",
     "text": [
      "original      :  [5 8 2 9 4 3]\n",
      "using argsort :  [2 3 4 5 8 9]\n",
      "after sort()  :  [2 3 4 5 8 9]\n"
     ]
    }
   ],
   "source": [
    "array2 = np.array([5, 8, 2, 9, 4, 3])\n",
    "print(\"original      : \", array2)\n",
    "\n",
    "print(\"using argsort : \", array2[np.argsort(array2)]) # the fancy indexing version\n",
    "\n",
    "array2.sort() # not that this does in-place sorting, so it *modifies* array2\n",
    "print(\"after sort()  : \", array2)"
   ]
  },
  {
   "cell_type": "markdown",
   "metadata": {},
   "source": [
    "We can also use comparison operators on arrays, giving us a boolean mask. And then use the mask to index the array :"
   ]
  },
  {
   "cell_type": "code",
   "execution_count": 5,
   "metadata": {},
   "outputs": [
    {
     "name": "stdout",
     "output_type": "stream",
     "text": [
      "[[1 2 3]\n",
      " [4 5 6]]\n",
      "[[False False False]\n",
      " [False  True False]]\n",
      "[5]\n"
     ]
    }
   ],
   "source": [
    "mask = array1 == 5\n",
    "print(array1)\n",
    "print(mask)\n",
    "print(array1[mask])"
   ]
  },
  {
   "cell_type": "markdown",
   "metadata": {},
   "source": [
    "As exercices, do the following :\n",
    "\n",
    "- Compute the max of each row. Each column ?\n",
    "- Print the elements of array1 that are less than 4 (without a for loop)"
   ]
  },
  {
   "cell_type": "code",
   "execution_count": 15,
   "metadata": {},
   "outputs": [
    {
     "name": "stdout",
     "output_type": "stream",
     "text": [
      "3\n",
      "6\n",
      "[1 2 3]\n"
     ]
    }
   ],
   "source": [
    "for row in array1: \n",
    "    print(row[ np.argmax(row)])\n",
    "mask = (array1<4)\n",
    "print (array1[mask])"
   ]
  },
  {
   "cell_type": "markdown",
   "metadata": {},
   "source": [
    "Python have the same conditional (**if**) and looping (**for** and **while**) instructions than other programming languages. You can also use lists to save values."
   ]
  },
  {
   "cell_type": "code",
   "execution_count": 16,
   "metadata": {},
   "outputs": [
    {
     "name": "stdout",
     "output_type": "stream",
     "text": [
      "These are the values: \n",
      "6\n",
      "3\n",
      "3\n",
      "11\n",
      "4\n",
      "count value: 1\n",
      "count value: 2\n",
      "count value: 4\n",
      "count value: 4\n",
      "count value: 4\n",
      "count value: 4\n",
      "count value: 6\n",
      "count value: 6\n",
      "count value: 9\n",
      "count value: 11\n",
      "List: [1, 1, 2, 0, 0, 0, 2, 0, 3, 2]\n"
     ]
    }
   ],
   "source": [
    "from random import randint\n",
    "\n",
    "list_values = []\n",
    "\n",
    "array_rnd = np.random.randint(15, size=5)\n",
    "print (\"These are the values: \")\n",
    "for value in array_rnd:\n",
    "    print (value)\n",
    "\n",
    "count = 0\n",
    "while count < 10:\n",
    "    rand_value = randint(0,3)\n",
    "    count += rand_value\n",
    "    list_values.append(rand_value)\n",
    "    print (\"count value: \" + str(count))\n",
    "    \n",
    "print (\"List: \" + str(list_values))"
   ]
  },
  {
   "cell_type": "markdown",
   "metadata": {},
   "source": [
    "As exercices, do the following :\n",
    "- Try to write a script that takes two arrays a and b and, in each position, sums the values if they are even, save it into a structure and print all the values sorted."
   ]
  },
  {
   "cell_type": "code",
   "execution_count": 28,
   "metadata": {},
   "outputs": [
    {
     "name": "stdout",
     "output_type": "stream",
     "text": [
      "[False, False, False, False, False]\n"
     ]
    }
   ],
   "source": [
    "a = [1, 2, 3, 4, 5]\n",
    "b = [16, 8, 4, 2, 1]\n",
    "print(list(map(lambda x,y: x==y if x+y else nan,a,b)))\n"
   ]
  },
  {
   "cell_type": "markdown",
   "metadata": {},
   "source": [
    "In python you have a dictionary to organise your information by pair key-value"
   ]
  },
  {
   "cell_type": "code",
   "execution_count": 29,
   "metadata": {},
   "outputs": [
    {
     "name": "stdout",
     "output_type": "stream",
     "text": [
      "--- 1 ---\n",
      "red\n",
      "blue\n",
      "orange\n",
      "--- 2 ---\n",
      "4\n",
      "10\n",
      "2\n",
      "--- 3 ---\n",
      "red 4\n",
      "blue 10\n",
      "orange 2\n"
     ]
    }
   ],
   "source": [
    "#this is an empty dictionary\n",
    "dict_empty = {}\n",
    "#this is a dictionary with values\n",
    "dict_values = {\"red\":4, \"blue\":10, \"orange\":2}\n",
    "#Some possibles ways to see the contents\n",
    "print (\"--- 1 ---\")\n",
    "for key in dict_values:\n",
    "    print (key)\n",
    "    \n",
    "print (\"--- 2 ---\")\n",
    "for key in dict_values:\n",
    "    print (dict_values[key])\n",
    "    \n",
    "print (\"--- 3 ---\")\n",
    "for key, val in dict_values.items():\n",
    "    print (key, val)\n",
    "    "
   ]
  },
  {
   "cell_type": "markdown",
   "metadata": {},
   "source": [
    "As exercices, do the following :\n",
    "- Create a script that count even and odd values in \"vec_values\" and save the frequency in \"dict_results\""
   ]
  },
  {
   "cell_type": "code",
   "execution_count": 39,
   "metadata": {},
   "outputs": [
    {
     "name": "stdout",
     "output_type": "stream",
     "text": [
      "{'even': 5, 'odd': 5}\n"
     ]
    }
   ],
   "source": [
    "vec_values = [1,2,3,4,5,6,7,8,9,10]\n",
    "dict_results = {\"even\":0, \"odd\":0}\n",
    "for value in vec_values : \n",
    "    if value%2 == 0 :\n",
    "        dict_results[\"even\"]+=1\n",
    "    else : \n",
    "         dict_results[\"odd\"]+=1\n",
    "# (lambda x: x%2==0 if dict_results[\"even\"]=1 else dict_results[\"odd\"]=1,vec_values)\n",
    "print(dict_results)\n"
   ]
  },
  {
   "cell_type": "markdown",
   "metadata": {},
   "source": [
    "## 4. Membership functions\n",
    "\n",
    "During this course we will use many times membership functions to represent information. In this part we try to introduce you how to use them. The functions used have some limitations:\n",
    "* They have a personalized dimension in the x axis but the y axis is limited to 0 for the minimum value and 1 for the maximum.\n",
    "* It's only possible to draw triangular functions (in this laboratory)\n",
    "\n",
    "To plot the functionality it's necessary to have the values of both axis:\n",
    "* For x axis we use numpy arrange given the minimum and maximum x values and the range used to map the values in y axis\n",
    "* For the y axis it's used calculate_yaxis_value function to map the values that receive three parameters:\n",
    " * the x axis array\n",
    " * the coordinate of the top of the triangle\n",
    " * the size of the base of the triangle (consider that the half length is used for both size)\n"
   ]
  },
  {
   "cell_type": "code",
   "execution_count": 40,
   "metadata": {},
   "outputs": [
    {
     "data": {
      "image/png": "[encoded data removed]",
      "text/plain": [
       "<Figure size 432x288 with 1 Axes>"
      ]
     },
     "metadata": {
      "needs_background": "light"
     },
     "output_type": "display_data"
    },
    {
     "data": {
      "image/png": "[encoded data removed]",
      "text/plain": [
       "<Figure size 432x288 with 1 Axes>"
      ]
     },
     "metadata": {
      "needs_background": "light"
     },
     "output_type": "display_data"
    },
    {
     "data": {
      "image/png": "[encoded data removed]",
      "text/plain": [
       "<Figure size 432x288 with 1 Axes>"
      ]
     },
     "metadata": {
      "needs_background": "light"
     },
     "output_type": "display_data"
    }
   ],
   "source": [
    "import matplotlib.pyplot as plt\n",
    "import numpy as np\n",
    "\n",
    "%matplotlib inline\n",
    "\n",
    "\n",
    "def compute_map_value(value_map, middle_value, h_long_value):\n",
    "    slope_value = 1.0 / h_long_value\n",
    "    if value_map < (middle_value - h_long_value):\n",
    "        return 0.0\n",
    "    elif value_map > (middle_value + h_long_value):\n",
    "        return 0.0\n",
    "    else:\n",
    "        return 1.0 - (np.abs(value_map - middle_value) * slope_value)\n",
    "\n",
    "def compute_yaxis_value(vec_xaxis_value, cent_point, long_dist):\n",
    "    count_aux = 0\n",
    "    vec_yaxis_value = np.zeros(len(vec_xaxis_value))\n",
    "    for value in vec_xaxis_value:\n",
    "        vec_yaxis_value[count_aux] = compute_map_value(value, center_point, half_lenght_value)\n",
    "        count_aux += 1\n",
    "    return vec_yaxis_value\n",
    "\n",
    "#Simple plot example\n",
    "x = np.array([1, 10, 20])\n",
    "y = np.array([0, 1, 1])\n",
    "plt.title(\"Simple example\")\n",
    "plt.plot(x, y)\n",
    "\n",
    "plt.show()\n",
    "\n",
    "#example of two triangular functions\n",
    "center_point = 5\n",
    "half_lenght_value = 3\n",
    "vec_xaxis_value = np.arange(0, 10, 0.1)\n",
    "\n",
    "vec_yaxis_val = compute_yaxis_value(vec_xaxis_value, center_point, half_lenght_value)\n",
    "\n",
    "\n",
    "center_point = 3\n",
    "half_lenght_value = 2\n",
    "vec_xaxis_value_B = np.arange(0, 10, 0.1)\n",
    "\n",
    "vec_yaxis_val_B = compute_yaxis_value(vec_xaxis_value, center_point, half_lenght_value)\n",
    "\n",
    "    \n",
    "plt.plot(vec_xaxis_value, vec_yaxis_val)\n",
    "plt.title(\"Example 1\")\n",
    "plt.show()\n",
    "plt.title(\"Example 2\")\n",
    "plt.plot(vec_xaxis_value_B, vec_yaxis_val_B)\n",
    "plt.show()"
   ]
  },
  {
   "cell_type": "markdown",
   "metadata": {},
   "source": [
    "As exercises, do the following :\n",
    "- create a function to calculate the maximum, minimum and product between two functions"
   ]
  },
  {
   "cell_type": "code",
   "execution_count": null,
   "metadata": {},
   "outputs": [],
   "source": [
    "def computeMaxMinProduct(funcA,funcB):\n",
    "    #maximum, min entre deux fonction ? "
   ]
  },
  {
   "cell_type": "markdown",
   "metadata": {},
   "source": [
    "As exercises, do the following :\n",
    "- create a function that cut the triangular function in a y values as:"
   ]
  },
  {
   "cell_type": "raw",
   "metadata": {},
   "source": [
    "   ______\n",
    "  /      \\\n",
    " /        \\\n",
    "/          \\"
   ]
  },
  {
   "cell_type": "code",
   "execution_count": 45,
   "metadata": {},
   "outputs": [],
   "source": [
    "#the trangular fonction  ? "
   ]
  },
  {
   "cell_type": "markdown",
   "metadata": {},
   "source": [
    "## 5. Classifying the Iris flower dataset\n",
    "\n",
    "We will use the <a href=\"https://en.wikipedia.org/wiki/Iris_flower_data_set\">Iris flower dataset</a> to introduce you to the basics of plotting and machine learning (classification). This dataset contains 150 entries of irises with their petal and sepal lengths/widths. Three different classes of irises are present in this dataset (Setosa, Versicolour, and Virginica). Your goal will be to build a classifier that can recognize the iris class, based on the petal length and petal width. \n",
    "\n",
    "Start by loading the data."
   ]
  },
  {
   "cell_type": "code",
   "execution_count": 18,
   "metadata": {},
   "outputs": [],
   "source": [
    "from sklearn import datasets\n",
    "iris = datasets.load_iris()\n",
    "X = iris.data[:, 2:]  # we only take the last two features.\n",
    "Y = iris.target"
   ]
  },
  {
   "cell_type": "markdown",
   "metadata": {},
   "source": [
    "### Visualization\n",
    "\n",
    "Visualize the data using a scatter plot."
   ]
  },
  {
   "cell_type": "code",
   "execution_count": 19,
   "metadata": {},
   "outputs": [
    {
     "name": "stdout",
     "output_type": "stream",
     "text": [
      "Populating the interactive namespace from numpy and matplotlib\n"
     ]
    },
    {
     "data": {
      "text/plain": [
       "Text(0, 0.5, 'Petal width')"
      ]
     },
     "execution_count": 19,
     "metadata": {},
     "output_type": "execute_result"
    },
    {
     "data": {
      "image/png": "[encoded data removed]",
      "text/plain": [
       "<Figure size 432x288 with 1 Axes>"
      ]
     },
     "metadata": {
      "needs_background": "light"
     },
     "output_type": "display_data"
    }
   ],
   "source": [
    "import pylab as pl # pylab is matplotlib\n",
    "# The line below enables matplotlib-ipython integration and allows plots to be displayed inline in the\n",
    "# notebook. The --no-import-all is to avoid polluting our namespace with a import *\n",
    "%pylab inline --no-import-all\n",
    "\n",
    "pl.scatter(X[:, 0], X[:, 1], c=Y)\n",
    "pl.xlabel('Petal length')\n",
    "pl.ylabel('Petal width')"
   ]
  },
  {
   "cell_type": "markdown",
   "metadata": {},
   "source": [
    "<p style=\"background-color:#AFEEEE;padding:3px\"><font size=\"4\"><b>5.1. </b></font> By looking at this scatter plot, do you feel that building a classifier of iris class based on petal length and petal width will be an easy task? (Justify briefly)</p>"
   ]
  },
  {
   "cell_type": "markdown",
   "metadata": {},
   "source": [
    "Votre réponse..."
   ]
  },
  {
   "cell_type": "markdown",
   "metadata": {},
   "source": [
    "### Classification"
   ]
  },
  {
   "cell_type": "markdown",
   "metadata": {},
   "source": [
    "To build and evaluate a machine learning model, we need to split our data into training and testing sets. Scikit learn has a [cross_validation](http://scikit-learn.org/stable/modules/cross_validation.html#cross-validation) module that helps with this task."
   ]
  },
  {
   "cell_type": "code",
   "execution_count": 49,
   "metadata": {},
   "outputs": [
    {
     "ename": "NameError",
     "evalue": "name 'X' is not defined",
     "output_type": "error",
     "traceback": [
      "\u001b[1;31m---------------------------------------------------------------------------\u001b[0m",
      "\u001b[1;31mNameError\u001b[0m                                 Traceback (most recent call last)",
      "\u001b[1;32m<ipython-input-49-abef4138efb3>\u001b[0m in \u001b[0;36m<module>\u001b[1;34m\u001b[0m\n\u001b[0;32m      2\u001b[0m \u001b[1;31m# train and test are indices arrays containing the indices of train/test samples\u001b[0m\u001b[1;33m\u001b[0m\u001b[1;33m\u001b[0m\u001b[1;33m\u001b[0m\u001b[0m\n\u001b[0;32m      3\u001b[0m X_train, X_test, y_train, y_test = train_test_split(\n\u001b[1;32m----> 4\u001b[1;33m     \u001b[0mX\u001b[0m\u001b[1;33m,\u001b[0m \u001b[0mY\u001b[0m\u001b[1;33m,\u001b[0m \u001b[0mtest_size\u001b[0m\u001b[1;33m=\u001b[0m\u001b[1;36m0.4\u001b[0m\u001b[1;33m,\u001b[0m \u001b[0mrandom_state\u001b[0m\u001b[1;33m=\u001b[0m\u001b[1;36m0\u001b[0m \u001b[1;31m# we fix random state for reproducibility)\u001b[0m\u001b[1;33m\u001b[0m\u001b[1;33m\u001b[0m\u001b[0m\n\u001b[0m\u001b[0;32m      5\u001b[0m )\n\u001b[0;32m      6\u001b[0m \u001b[1;33m\u001b[0m\u001b[0m\n",
      "\u001b[1;31mNameError\u001b[0m: name 'X' is not defined"
     ]
    }
   ],
   "source": [
    "from sklearn.model_selection import train_test_split \n",
    "# train and test are indices arrays containing the indices of train/test samples\n",
    "X_train, X_test, y_train, y_test = train_test_split(\n",
    "    X, Y, test_size=0.4, random_state=0 # we fix random state for reproducibility)\n",
    ")\n",
    "\n",
    "print(\"train shape : \", X_train.shape)\n",
    "print(\"test shape  : \", X_test.shape)"
   ]
  },
  {
   "cell_type": "markdown",
   "metadata": {},
   "source": [
    "We'll use the [k Nearest Neighbor](http://en.wikipedia.org/wiki/K-nearest_neighbors_algorithm) to classify the iris flower dataset. This classifier will classify a new sample by assigning it the class of its k-nearest neighbors.\n",
    "\n",
    "The algorithm therefore consists of the following three steps:\n",
    "- compute the distance between a sample in the test set and all the samples in the training set\n",
    "- find the k-nearest neighbors in the training set\n",
    "- assign a class to the sample in the test set by taking the majority class among the k-nearest neighbors."
   ]
  },
  {
   "cell_type": "code",
   "execution_count": 21,
   "metadata": {},
   "outputs": [],
   "source": [
    "from sklearn import neighbors\n",
    "\n",
    "n_neighbors = 5 # k=5, i.e. 5-nearest neighbors\n",
    "\n",
    "clf = neighbors.KNeighborsClassifier(n_neighbors) \n",
    "clf.fit(X_train, y_train)\n",
    "\n",
    "# predict class of entries in the test set\n",
    "pred_kNN = clf.predict(X_test)"
   ]
  },
  {
   "cell_type": "markdown",
   "metadata": {},
   "source": [
    "In order to visualize the performance of the classifier, represent the confusion matrix:"
   ]
  },
  {
   "cell_type": "code",
   "execution_count": 48,
   "metadata": {},
   "outputs": [
    {
     "ename": "NameError",
     "evalue": "name 'y_test' is not defined",
     "output_type": "error",
     "traceback": [
      "\u001b[1;31m---------------------------------------------------------------------------\u001b[0m",
      "\u001b[1;31mNameError\u001b[0m                                 Traceback (most recent call last)",
      "\u001b[1;32m<ipython-input-48-f53aaac69b50>\u001b[0m in \u001b[0;36m<module>\u001b[1;34m\u001b[0m\n\u001b[0;32m     11\u001b[0m     \u001b[0mplt\u001b[0m\u001b[1;33m.\u001b[0m\u001b[0mylabel\u001b[0m\u001b[1;33m(\u001b[0m\u001b[1;34m'True label'\u001b[0m\u001b[1;33m)\u001b[0m\u001b[1;33m\u001b[0m\u001b[1;33m\u001b[0m\u001b[0m\n\u001b[0;32m     12\u001b[0m     \u001b[0mplt\u001b[0m\u001b[1;33m.\u001b[0m\u001b[0mxlabel\u001b[0m\u001b[1;33m(\u001b[0m\u001b[1;34m'Predicted label'\u001b[0m\u001b[1;33m)\u001b[0m\u001b[1;33m\u001b[0m\u001b[1;33m\u001b[0m\u001b[0m\n\u001b[1;32m---> 13\u001b[1;33m \u001b[0mcm\u001b[0m \u001b[1;33m=\u001b[0m \u001b[0mconfusion_matrix\u001b[0m\u001b[1;33m(\u001b[0m\u001b[0my_test\u001b[0m\u001b[1;33m,\u001b[0m\u001b[0mpred_kNN\u001b[0m\u001b[1;33m)\u001b[0m\u001b[1;33m\u001b[0m\u001b[1;33m\u001b[0m\u001b[0m\n\u001b[0m\u001b[0;32m     14\u001b[0m \u001b[0mplot_confusion_matrix_iris\u001b[0m\u001b[1;33m(\u001b[0m\u001b[0mcm\u001b[0m\u001b[1;33m)\u001b[0m\u001b[1;33m\u001b[0m\u001b[1;33m\u001b[0m\u001b[0m\n",
      "\u001b[1;31mNameError\u001b[0m: name 'y_test' is not defined"
     ]
    }
   ],
   "source": [
    "from sklearn.metrics import confusion_matrix\n",
    "\n",
    "def plot_confusion_matrix_iris(cm, title='Confusion matrix', cmap=plt.cm.Blues):\n",
    "    plt.imshow(cm, interpolation='nearest', cmap=cmap)\n",
    "    plt.title(title)\n",
    "    plt.colorbar()\n",
    "    tick_marks = np.arange(len(iris.target_names))\n",
    "    plt.xticks(tick_marks, iris.target_names, rotation=45)\n",
    "    plt.yticks(tick_marks, iris.target_names)\n",
    "    plt.tight_layout()\n",
    "    plt.ylabel('True label')\n",
    "    plt.xlabel('Predicted label')\n",
    "cm = confusion_matrix(y_test,pred_kNN)\n",
    "plot_confusion_matrix_iris(cm)"
   ]
  },
  {
   "cell_type": "markdown",
   "metadata": {},
   "source": [
    "<p style=\"background-color:#AFEEEE;padding:3px\"><font size=\"4\"><b>5.2. </b></font> Explain (briefly) what this confusion matrix shows.</p>"
   ]
  },
  {
   "cell_type": "markdown",
   "metadata": {},
   "source": [
    "Votre réponse..."
   ]
  },
  {
   "cell_type": "markdown",
   "metadata": {},
   "source": [
    "In order to have a quantitative measure of performance, several <a href=\"https://en.wikipedia.org/wiki/Precision_and_recall\">metrics</a> can be used. In the following, we use accuracy, i.e., the proportion of true results (both true positives and true negatives) among the total number of cases examined. Note that in general, you should use several metrics, depending on the problem."
   ]
  },
  {
   "cell_type": "code",
   "execution_count": 47,
   "metadata": {},
   "outputs": [
    {
     "ename": "NameError",
     "evalue": "name 'y_test' is not defined",
     "output_type": "error",
     "traceback": [
      "\u001b[1;31m---------------------------------------------------------------------------\u001b[0m",
      "\u001b[1;31mNameError\u001b[0m                                 Traceback (most recent call last)",
      "\u001b[1;32m<ipython-input-47-ee2459fd7c1c>\u001b[0m in \u001b[0;36m<module>\u001b[1;34m\u001b[0m\n\u001b[0;32m      1\u001b[0m \u001b[1;32mfrom\u001b[0m \u001b[0msklearn\u001b[0m\u001b[1;33m.\u001b[0m\u001b[0mmetrics\u001b[0m \u001b[1;32mimport\u001b[0m \u001b[0maccuracy_score\u001b[0m\u001b[1;33m\u001b[0m\u001b[1;33m\u001b[0m\u001b[0m\n\u001b[1;32m----> 2\u001b[1;33m \u001b[0macc\u001b[0m \u001b[1;33m=\u001b[0m \u001b[0maccuracy_score\u001b[0m\u001b[1;33m(\u001b[0m\u001b[0my_test\u001b[0m\u001b[1;33m,\u001b[0m \u001b[0mpred_kNN\u001b[0m\u001b[1;33m)\u001b[0m\u001b[1;33m\u001b[0m\u001b[1;33m\u001b[0m\u001b[0m\n\u001b[0m\u001b[0;32m      3\u001b[0m \u001b[0mprint\u001b[0m\u001b[1;33m(\u001b[0m\u001b[1;34m'Accuracy = '\u001b[0m\u001b[1;33m+\u001b[0m\u001b[0mstr\u001b[0m\u001b[1;33m(\u001b[0m\u001b[1;36m100\u001b[0m\u001b[1;33m*\u001b[0m\u001b[0macc\u001b[0m\u001b[1;33m)\u001b[0m\u001b[1;33m+\u001b[0m\u001b[1;34m'%'\u001b[0m\u001b[1;33m)\u001b[0m\u001b[1;33m\u001b[0m\u001b[1;33m\u001b[0m\u001b[0m\n",
      "\u001b[1;31mNameError\u001b[0m: name 'y_test' is not defined"
     ]
    }
   ],
   "source": [
    "from sklearn.metrics import accuracy_score\n",
    "acc = accuracy_score(y_test, pred_kNN)\n",
    "print('Accuracy = '+str(100*acc)+'%')"
   ]
  },
  {
   "cell_type": "markdown",
   "metadata": {},
   "source": [
    "<p style=\"background-color:#AFEEEE;padding:3px\"><font size=\"4\"><b>5.3. </b></font> In our example, we only used two features (petal length and petal width). Try classifying with all four features and compare the performance. Try also varying the number of neighbors, k.</p>"
   ]
  },
  {
   "cell_type": "markdown",
   "metadata": {},
   "source": [
    "Votre réponse... Décrivez brièvement les résultats que vous obtenez et vos conclusions."
   ]
  },
  {
   "cell_type": "markdown",
   "metadata": {},
   "source": [
    "## 6. Cool links"
   ]
  },
  {
   "cell_type": "markdown",
   "metadata": {},
   "source": [
    "### Scikit-learn cheatsheet"
   ]
  },
  {
   "cell_type": "markdown",
   "metadata": {},
   "source": [
    "There is a [cheatsheet](http://scikit-learn.org/stable/tutorial/machine_learning_map/) available on scikit-learn's website that help you choose an algorithm when you're lost. It is of course simplified and doesn't include all algorithms and criteria, but it is a good starting point."
   ]
  },
  {
   "cell_type": "markdown",
   "metadata": {},
   "source": [
    "### Interesting ipython notebooks"
   ]
  },
  {
   "cell_type": "markdown",
   "metadata": {},
   "source": [
    "[nbviewer.ipython.org](http://nbviewer.ipython.org/) has a nice collection of ipython notebooks that showcase various libraries (and even different languages) that you can use with ipython."
   ]
  }
 ],
 "metadata": {
  "kernelspec": {
   "display_name": "Python 3",
   "language": "python",
   "name": "python3"
  },
  "language_info": {
   "codemirror_mode": {
    "name": "ipython",
    "version": 3
   },
   "file_extension": ".py",
   "mimetype": "text/x-python",
   "name": "python",
   "nbconvert_exporter": "python",
   "pygments_lexer": "ipython3",
   "version": "3.8.1"
  }
 },
 "nbformat": 4,
 "nbformat_minor": 1
}
