{
 "cells": [
  {
   "cell_type": "markdown",
   "metadata": {},
   "source": [
    "# MLG / Introduction to jupyter notebooks"
   ]
  },
  {
   "cell_type": "markdown",
   "metadata": {},
   "source": [
    "In this laboratory you are going to learn how to perform interactive computing using **jupyter**. The **jupyter** project, born out of the IPython Project in 2014, evolved to support interactive data science and scientific computing across all programming languages. It was initially an interactive shell for python that has more functionnalities than the basic one, now it allows you to interact with your scripts using so called **notebooks**. The notebook extends the console-based approach to interactive computing in a qualitatively new direction, providing a web-based application suitable for capturing the whole computation process: developing, documenting, and executing code, as well as communicating the results.\n",
    "\n",
    "This guide does not start from the basics of the general purpose language **python**. If you do not know this language, it is recommended to follow a **python** tutorial in order to learn the basic concepts and commands. You can have a look at the [official python tutorial](https://docs.python.org/2/tutorial/) or [Google's python tutorial](https://developers.google.com/edu/python/) for example.\n",
    "\n",
    "Note that for this course, we will use the Python 3.X series.\n",
    "\n",
    "You will use a browser-based notebook to interactively explore a dataset by:\n",
    "- Reading raw data from ascii files\n",
    "- Reading typed data (data frames) from ascii files\n",
    "- Selecting specific columns and/or rows from a dataset\n",
    "- Filtering datasets\n",
    "- Plotting the information in the dataset (e.g., scatter-plot, boxplot, histogram)"
   ]
  },
  {
   "cell_type": "markdown",
   "metadata": {},
   "source": [
    "## 1. Using the notebooks"
   ]
  },
  {
   "cell_type": "markdown",
   "metadata": {},
   "source": [
    "You are in an jupyter notebook right now. A jupyter notebook is a web interface to a python interpreter.\n",
    "\n",
    "A notebook is made of cells. Each cell has a type which defines what happens when it is run. \n",
    "\n",
    "- Markdown cells allow you to write [Markdown](http://daringfireball.net/projects/markdown/) text in them. They are just displayed as HTML when run.\n",
    "- Code cells contain python code. When the cell is run, the code is sent to the python interpreter, executed and you get the result in the cell output.\n",
    "- Various header cells that allow you to structure your document.\n",
    "\n",
    "You can change the type of a cell using the drop-down menu in the toolbar.\n",
    "\n",
    "You can click (for Code cells) or double-click (for headers and markdown cells) on cells to edit their content. You can then use keyboard shortcuts to run them :\n",
    "\n",
    "- Ctrl + Enter : run in place\n",
    "- Shift + Enter : run and move to next cell\n",
    "- Alt + Enter : run and insert new cell after"
   ]
  },
  {
   "cell_type": "code",
   "execution_count": 2,
   "metadata": {},
   "outputs": [
    {
     "name": "stdout",
     "output_type": "stream",
     "text": [
      "4\n"
     ]
    }
   ],
   "source": [
    "# This is a code cell containing python code !\n",
    "print( 2 + 2 )"
   ]
  },
  {
   "cell_type": "markdown",
   "metadata": {},
   "source": [
    "The python interpreter that executes the code you write in the notebook is called a *Kernel*. You can restart the kernel (the interpreter) using the *Kernel* menu. This is useful if you want to delete all your variables."
   ]
  },
  {
   "cell_type": "markdown",
   "metadata": {},
   "source": [
    "Jupyter has also \"magic\" functions that start with % . They allow you to do a lot of useful things with your ipython environment :\n",
    "\n",
    "http://nbviewer.ipython.org/github/ipython/ipython/blob/1.x/examples/notebooks/Cell%20Magics.ipynb\n",
    "\n",
    "The %who magic gives you a list of the defined python variables. object? can be used to get documentation about an object :"
   ]
  },
  {
   "cell_type": "code",
   "execution_count": 3,
   "metadata": {},
   "outputs": [
    {
     "name": "stdout",
     "output_type": "stream",
     "text": [
      "a\t scale\t \n"
     ]
    }
   ],
   "source": [
    "a = 2\n",
    "%who"
   ]
  },
  {
   "cell_type": "markdown",
   "metadata": {},
   "source": [
    "## 2. Scientific computing with Python"
   ]
  },
  {
   "cell_type": "code",
   "execution_count": 4,
   "metadata": {},
   "outputs": [
    {
     "name": "stdout",
     "output_type": "stream",
     "text": [
      "3\n",
      "This is the traditional python help() function :\n",
      "\n",
      "Help on function my_documented_function in module __main__:\n",
      "\n",
      "my_documented_function(a)\n",
      "    This is a revolutionary function that returns a + 1\n",
      "\n"
     ]
    }
   ],
   "source": [
    "def my_documented_function(a):\n",
    "    '''\n",
    "    This is a revolutionary function that returns a + 1\n",
    "    '''\n",
    "    return a + 1\n",
    "\n",
    "print(my_documented_function(2))\n",
    "print('This is the traditional python help() function :\\n')\n",
    "help(my_documented_function)"
   ]
  },
  {
   "cell_type": "code",
   "execution_count": 5,
   "metadata": {},
   "outputs": [],
   "source": [
    "# We can access the same info with just ? (note that you have to run this cell to view the effect)\n",
    "my_documented_function?"
   ]
  },
  {
   "cell_type": "markdown",
   "metadata": {},
   "source": [
    "Python has a number of packages (libraries) dedicated to scientific programming :\n",
    "\n",
    "The foundation is [numpy](http://www.numpy.org/) which provides a N-dimensional array implementation with a nice indexing syntax (similar to MATLAB).\n",
    "\n",
    "Then comes [scipy](http://www.scipy.org/) which contains a number of algorithms (signal processing, distance computation, etc...) built on top of numpy.\n",
    "\n",
    "[matplotlib](http://matplotlib.org/) is a library to create 2D plots.\n",
    "\n",
    "[pandas](http://pandas.pydata.org/) provides a DataFrame implementation, which is a layer on top of numpy arrays that makes some things (handling missing values, date indexing) easier. Heavily inspired by the [R](http://www.r-project.org/) statistical computing language.\n",
    "\n",
    "[scikit-learn](http://scikit-learn.org/stable/) is a machine learning library that contains implementations of many of the most popular machine learning algorithms.\n",
    "\n",
    "[keras](https://keras.io/), [tensorflow](http://www.tensorflow.org) and [pytorch](https://pytorch.org/) allow you to write programs that are compiled and can run on a GPU.\n",
    "\n",
    "Finally, this is not a python package, but [stackoverflow](http://stackoverflow.com/) is a really good questions and answers platform where you can probably find answers to the most common problems you'll have :-)"
   ]
  },
  {
   "cell_type": "markdown",
   "metadata": {},
   "source": [
    "If you want to install a scientific python environment on your machines, we suggest the use of [anaconda](https://store.continuum.io/cshop/anaconda/). It is a \"python distribution\" that comes with a package manager (conda) and all of the scientific packages listed above (and many others) pre-installed. We strongly recommend to use the [miniconda](https://docs.conda.io/en/latest/miniconda.html) variant, which install only the basic packages and the package manager (conda) while consuming less space in your machine."
   ]
  },
  {
   "cell_type": "markdown",
   "metadata": {},
   "source": [
    "## 3. Quick numpy introduction"
   ]
  },
  {
   "cell_type": "markdown",
   "metadata": {},
   "source": [
    "Numpy allows you to define [multidimensionnal arrays](http://docs.scipy.org/doc/numpy/reference/arrays.ndarray.html) (recommended reading)."
   ]
  },
  {
   "cell_type": "code",
   "execution_count": 6,
   "metadata": {},
   "outputs": [
    {
     "name": "stdout",
     "output_type": "stream",
     "text": [
      "(2, 3)\n"
     ]
    },
    {
     "data": {
      "text/plain": [
       "array([[1, 2, 3],\n",
       "       [4, 5, 6]])"
      ]
     },
     "execution_count": 6,
     "metadata": {},
     "output_type": "execute_result"
    }
   ],
   "source": [
    "# Makes the numpy function available as np.<funcname> (np is a convention)\n",
    "import numpy as np\n",
    "\n",
    "array1 = np.array([\n",
    "    [1, 2, 3],\n",
    "    [4, 5, 6]]\n",
    ")\n",
    "\n",
    "print(array1.shape)\n",
    "\n",
    "# The last line of a python cell is evaluated and used as the output for the cell\n",
    "array1"
   ]
  },
  {
   "cell_type": "markdown",
   "metadata": {},
   "source": [
    "The array elements can be accessed using the [indexing syntax](http://docs.scipy.org/doc/numpy/reference/arrays.indexing.html#arrays-indexing) (recommended reading). Numpy (and python) uses 0-based indexing."
   ]
  },
  {
   "cell_type": "code",
   "execution_count": 7,
   "metadata": {},
   "outputs": [
    {
     "name": "stdout",
     "output_type": "stream",
     "text": [
      "element (2,3) :  6\n",
      "first row     :  [1 2 3]\n",
      "second column :  [2 5]\n",
      "second and third element of the second row :  [5 6]\n"
     ]
    }
   ],
   "source": [
    "print(\"element (2,3) : \", array1[1,2])\n",
    "print(\"first row     : \", array1[0,:])\n",
    "print(\"second column : \", array1[:,1])\n",
    "print(\"second and third element of the second row : \", array1[1, 1:])"
   ]
  },
  {
   "cell_type": "markdown",
   "metadata": {},
   "source": [
    "You can do a [lot of things](http://docs.scipy.org/doc/numpy/reference/) with numpy arrays. For example, we can compute the mean of each row :"
   ]
  },
  {
   "cell_type": "code",
   "execution_count": 8,
   "metadata": {},
   "outputs": [
    {
     "data": {
      "text/plain": [
       "array([2., 5.])"
      ]
     },
     "execution_count": 8,
     "metadata": {},
     "output_type": "execute_result"
    }
   ],
   "source": [
    "array1.mean(axis=1)"
   ]
  },
  {
   "cell_type": "markdown",
   "metadata": {},
   "source": [
    "We can also sort an array :"
   ]
  },
  {
   "cell_type": "code",
   "execution_count": 9,
   "metadata": {},
   "outputs": [
    {
     "name": "stdout",
     "output_type": "stream",
     "text": [
      "original\t :\t [5 8 2 9 4 3]\n",
      "using argsort\t :\t [2 3 4 5 8 9]\n",
      "after sort()\t :\t [2 3 4 5 8 9]\n"
     ]
    }
   ],
   "source": [
    "array2 = np.array([5, 8, 2, 9, 4, 3])\n",
    "print(\"original\\t :\\t\", array2)\n",
    "\n",
    "\n",
    "print(\"using argsort\\t :\\t\", array2[np.argsort(array2)]) # the fancy indexing version\n",
    "\n",
    "array2.sort() # note that this does in-place sorting, so it *modifies* array2\n",
    "print(\"after sort()\\t :\\t\", array2)\n"
   ]
  },
  {
   "cell_type": "markdown",
   "metadata": {},
   "source": [
    "And we can randomly shuffle an array:"
   ]
  },
  {
   "cell_type": "code",
   "execution_count": 10,
   "metadata": {},
   "outputs": [
    {
     "name": "stdout",
     "output_type": "stream",
     "text": [
      "[3 2 9 5 8 4]\n",
      "the max value is at position: 2\n"
     ]
    }
   ],
   "source": [
    "np.random.shuffle(array2)\n",
    "\n",
    "print(array2)\n",
    "\n",
    "print(\"the max value is at position:\", np.argmax(array2))"
   ]
  },
  {
   "cell_type": "markdown",
   "metadata": {},
   "source": [
    "We can also use comparison operators on arrays, giving us a boolean mask. And then use the mask to index the array :"
   ]
  },
  {
   "cell_type": "code",
   "execution_count": 11,
   "metadata": {
    "scrolled": false
   },
   "outputs": [
    {
     "name": "stdout",
     "output_type": "stream",
     "text": [
      "[[1 2 3]\n",
      " [4 5 6]]\n",
      "[[False False  True]\n",
      " [ True False False]]\n",
      "[3 4]\n"
     ]
    }
   ],
   "source": [
    "mask = (array1 > 2) & (array1 < 5)\n",
    "print(array1)\n",
    "print(mask)\n",
    "print(array1[mask])"
   ]
  },
  {
   "cell_type": "markdown",
   "metadata": {},
   "source": [
    "<p style=\"background-color:#660066; color:#fff;padding:5px; font-weight:bold\">Exercises</p>"
   ]
  },
  {
   "cell_type": "markdown",
   "metadata": {},
   "source": [
    "As exercises, do the following :\n",
    "\n",
    "- Compute the max of each row of array1\n",
    "- Compute the max of each column of array1\n",
    "- Print the elements of array1 that are less than 4 (without using a loop)\n",
    "- Convert the range of the values in array2 to [0,1]"
   ]
  },
  {
   "cell_type": "code",
   "execution_count": 12,
   "metadata": {},
   "outputs": [
    {
     "name": "stdout",
     "output_type": "stream",
     "text": [
      "3\n",
      "6\n",
      "[4, 5, 6]\n",
      "[5 6]\n"
     ]
    }
   ],
   "source": [
    "for row in array1: \n",
    "    print(row[ np.argmax(row)])\n",
    "\n",
    "print(list(map(lambda x: np.amax(x),array1.T)))\n",
    "mask = (array1>4)\n",
    "print (array1[mask])\n",
    "##TODO pas compris"
   ]
  },
  {
   "cell_type": "markdown",
   "metadata": {},
   "source": [
    "## 4. Loading a dataset with numpy "
   ]
  },
  {
   "cell_type": "markdown",
   "metadata": {},
   "source": [
    "### The Wine dataset"
   ]
  },
  {
   "cell_type": "markdown",
   "metadata": {},
   "source": [
    "We will use the wine dataset from the UCI repository :\n",
    "https://archive.ics.uci.edu/ml/datasets/Wine\n",
    "\n",
    "The wine.data file is a simple CSV file, which we can be easily loaded as a numpy array with np.genfromtxt."
   ]
  },
  {
   "cell_type": "code",
   "execution_count": 20,
   "metadata": {},
   "outputs": [
    {
     "name": "stdout",
     "output_type": "stream",
     "text": [
      "(178, 14)\n",
      "[[   1.     14.23    1.71 ...    1.04    3.92 1065.  ]\n",
      " [   1.     13.2     1.78 ...    1.05    3.4  1050.  ]\n",
      " [   1.     13.16    2.36 ...    1.03    3.17 1185.  ]\n",
      " ...\n",
      " [   3.     13.27    4.28 ...    0.59    1.56  835.  ]\n",
      " [   3.     13.17    2.59 ...    0.6     1.62  840.  ]\n",
      " [   3.     14.13    4.1  ...    0.61    1.6   560.  ]]\n"
     ]
    }
   ],
   "source": [
    "# Some nicer printing defaults for numpy arrays\n",
    "np.set_printoptions(precision=5, suppress=True)\n",
    "\n",
    "# Be careful to place the database in the right directory or adapt the path\n",
    "data = np.genfromtxt('data/wine/wine.data', delimiter=',')\n",
    "print(data.shape)\n",
    "print(data)"
   ]
  },
  {
   "cell_type": "markdown",
   "metadata": {},
   "source": [
    "So this is a dataset with 178 samples and 14 dimensions for each sample. Let's have a look at the dataset description file (cat is a nice jupyter command that prints the content of a text file, like the unix cat)"
   ]
  },
  {
   "cell_type": "code",
   "execution_count": 21,
   "metadata": {},
   "outputs": [
    {
     "ename": "SyntaxError",
     "evalue": "invalid syntax (<ipython-input-21-d474d2ae0b4c>, line 1)",
     "output_type": "error",
     "traceback": [
      "\u001b[1;36m  File \u001b[1;32m\"<ipython-input-21-d474d2ae0b4c>\"\u001b[1;36m, line \u001b[1;32m1\u001b[0m\n\u001b[1;33m    cat 'data/wine/wine.names'\u001b[0m\n\u001b[1;37m        ^\u001b[0m\n\u001b[1;31mSyntaxError\u001b[0m\u001b[1;31m:\u001b[0m invalid syntax\n"
     ]
    }
   ],
   "source": [
    "cat 'data/wine/wine.names'"
   ]
  },
  {
   "cell_type": "code",
   "execution_count": 22,
   "metadata": {},
   "outputs": [
    {
     "data": {
      "text/plain": [
       "(14,)"
      ]
     },
     "execution_count": 22,
     "metadata": {},
     "output_type": "execute_result"
    }
   ],
   "source": [
    "# store the column names in an array\n",
    "colnames = np.array([\n",
    "    'class', 'alcohol', 'malic acid', 'ash', 'alcalinity of ash', 'magnesium', 'total phenols', \n",
    "    'flavanoids', 'nonflavanoid phenols', 'proanthocyanins', 'color intensity', 'hue',\n",
    "    'OD280/OD315 of diluted wines', 'proline'\n",
    "])\n",
    "colnames.shape"
   ]
  },
  {
   "cell_type": "markdown",
   "metadata": {},
   "source": [
    "## 5. Quick introduction to Pandas"
   ]
  },
  {
   "cell_type": "markdown",
   "metadata": {},
   "source": [
    "Ok, so now we have two numpy arrays. *data* contains our dataset and *colnames* the name of our columns. However, we would like to deal with only one data structure that can store both the data and the columns names. That's what pandas' DataFrame are for ! (or, but a bit less elegant, [numpy structured arrays](http://docs.scipy.org/doc/numpy/user/basics.rec.html)).\n",
    "\n",
    "(Note that we could also directly load our CSV using pandas.read_csv)"
   ]
  },
  {
   "cell_type": "code",
   "execution_count": 23,
   "metadata": {},
   "outputs": [
    {
     "data": {
      "text/html": [
       "<div>\n",
       "<style scoped>\n",
       "    .dataframe tbody tr th:only-of-type {\n",
       "        vertical-align: middle;\n",
       "    }\n",
       "\n",
       "    .dataframe tbody tr th {\n",
       "        vertical-align: top;\n",
       "    }\n",
       "\n",
       "    .dataframe thead th {\n",
       "        text-align: right;\n",
       "    }\n",
       "</style>\n",
       "<table border=\"1\" class=\"dataframe\">\n",
       "  <thead>\n",
       "    <tr style=\"text-align: right;\">\n",
       "      <th></th>\n",
       "      <th>alcohol</th>\n",
       "      <th>malic acid</th>\n",
       "      <th>ash</th>\n",
       "      <th>alcalinity of ash</th>\n",
       "      <th>magnesium</th>\n",
       "      <th>total phenols</th>\n",
       "      <th>flavanoids</th>\n",
       "      <th>nonflavanoid phenols</th>\n",
       "      <th>proanthocyanins</th>\n",
       "      <th>color intensity</th>\n",
       "      <th>hue</th>\n",
       "      <th>OD280/OD315 of diluted wines</th>\n",
       "      <th>proline</th>\n",
       "      <th>class</th>\n",
       "    </tr>\n",
       "  </thead>\n",
       "  <tbody>\n",
       "    <tr>\n",
       "      <th>0</th>\n",
       "      <td>14.23</td>\n",
       "      <td>1.71</td>\n",
       "      <td>2.43</td>\n",
       "      <td>15.6</td>\n",
       "      <td>127.0</td>\n",
       "      <td>2.80</td>\n",
       "      <td>3.06</td>\n",
       "      <td>0.28</td>\n",
       "      <td>2.29</td>\n",
       "      <td>5.64</td>\n",
       "      <td>1.04</td>\n",
       "      <td>3.92</td>\n",
       "      <td>1065.0</td>\n",
       "      <td>1</td>\n",
       "    </tr>\n",
       "    <tr>\n",
       "      <th>1</th>\n",
       "      <td>13.20</td>\n",
       "      <td>1.78</td>\n",
       "      <td>2.14</td>\n",
       "      <td>11.2</td>\n",
       "      <td>100.0</td>\n",
       "      <td>2.65</td>\n",
       "      <td>2.76</td>\n",
       "      <td>0.26</td>\n",
       "      <td>1.28</td>\n",
       "      <td>4.38</td>\n",
       "      <td>1.05</td>\n",
       "      <td>3.40</td>\n",
       "      <td>1050.0</td>\n",
       "      <td>1</td>\n",
       "    </tr>\n",
       "    <tr>\n",
       "      <th>2</th>\n",
       "      <td>13.16</td>\n",
       "      <td>2.36</td>\n",
       "      <td>2.67</td>\n",
       "      <td>18.6</td>\n",
       "      <td>101.0</td>\n",
       "      <td>2.80</td>\n",
       "      <td>3.24</td>\n",
       "      <td>0.30</td>\n",
       "      <td>2.81</td>\n",
       "      <td>5.68</td>\n",
       "      <td>1.03</td>\n",
       "      <td>3.17</td>\n",
       "      <td>1185.0</td>\n",
       "      <td>1</td>\n",
       "    </tr>\n",
       "    <tr>\n",
       "      <th>3</th>\n",
       "      <td>14.37</td>\n",
       "      <td>1.95</td>\n",
       "      <td>2.50</td>\n",
       "      <td>16.8</td>\n",
       "      <td>113.0</td>\n",
       "      <td>3.85</td>\n",
       "      <td>3.49</td>\n",
       "      <td>0.24</td>\n",
       "      <td>2.18</td>\n",
       "      <td>7.80</td>\n",
       "      <td>0.86</td>\n",
       "      <td>3.45</td>\n",
       "      <td>1480.0</td>\n",
       "      <td>1</td>\n",
       "    </tr>\n",
       "    <tr>\n",
       "      <th>4</th>\n",
       "      <td>13.24</td>\n",
       "      <td>2.59</td>\n",
       "      <td>2.87</td>\n",
       "      <td>21.0</td>\n",
       "      <td>118.0</td>\n",
       "      <td>2.80</td>\n",
       "      <td>2.69</td>\n",
       "      <td>0.39</td>\n",
       "      <td>1.82</td>\n",
       "      <td>4.32</td>\n",
       "      <td>1.04</td>\n",
       "      <td>2.93</td>\n",
       "      <td>735.0</td>\n",
       "      <td>1</td>\n",
       "    </tr>\n",
       "    <tr>\n",
       "      <th>...</th>\n",
       "      <td>...</td>\n",
       "      <td>...</td>\n",
       "      <td>...</td>\n",
       "      <td>...</td>\n",
       "      <td>...</td>\n",
       "      <td>...</td>\n",
       "      <td>...</td>\n",
       "      <td>...</td>\n",
       "      <td>...</td>\n",
       "      <td>...</td>\n",
       "      <td>...</td>\n",
       "      <td>...</td>\n",
       "      <td>...</td>\n",
       "      <td>...</td>\n",
       "    </tr>\n",
       "    <tr>\n",
       "      <th>173</th>\n",
       "      <td>13.71</td>\n",
       "      <td>5.65</td>\n",
       "      <td>2.45</td>\n",
       "      <td>20.5</td>\n",
       "      <td>95.0</td>\n",
       "      <td>1.68</td>\n",
       "      <td>0.61</td>\n",
       "      <td>0.52</td>\n",
       "      <td>1.06</td>\n",
       "      <td>7.70</td>\n",
       "      <td>0.64</td>\n",
       "      <td>1.74</td>\n",
       "      <td>740.0</td>\n",
       "      <td>3</td>\n",
       "    </tr>\n",
       "    <tr>\n",
       "      <th>174</th>\n",
       "      <td>13.40</td>\n",
       "      <td>3.91</td>\n",
       "      <td>2.48</td>\n",
       "      <td>23.0</td>\n",
       "      <td>102.0</td>\n",
       "      <td>1.80</td>\n",
       "      <td>0.75</td>\n",
       "      <td>0.43</td>\n",
       "      <td>1.41</td>\n",
       "      <td>7.30</td>\n",
       "      <td>0.70</td>\n",
       "      <td>1.56</td>\n",
       "      <td>750.0</td>\n",
       "      <td>3</td>\n",
       "    </tr>\n",
       "    <tr>\n",
       "      <th>175</th>\n",
       "      <td>13.27</td>\n",
       "      <td>4.28</td>\n",
       "      <td>2.26</td>\n",
       "      <td>20.0</td>\n",
       "      <td>120.0</td>\n",
       "      <td>1.59</td>\n",
       "      <td>0.69</td>\n",
       "      <td>0.43</td>\n",
       "      <td>1.35</td>\n",
       "      <td>10.20</td>\n",
       "      <td>0.59</td>\n",
       "      <td>1.56</td>\n",
       "      <td>835.0</td>\n",
       "      <td>3</td>\n",
       "    </tr>\n",
       "    <tr>\n",
       "      <th>176</th>\n",
       "      <td>13.17</td>\n",
       "      <td>2.59</td>\n",
       "      <td>2.37</td>\n",
       "      <td>20.0</td>\n",
       "      <td>120.0</td>\n",
       "      <td>1.65</td>\n",
       "      <td>0.68</td>\n",
       "      <td>0.53</td>\n",
       "      <td>1.46</td>\n",
       "      <td>9.30</td>\n",
       "      <td>0.60</td>\n",
       "      <td>1.62</td>\n",
       "      <td>840.0</td>\n",
       "      <td>3</td>\n",
       "    </tr>\n",
       "    <tr>\n",
       "      <th>177</th>\n",
       "      <td>14.13</td>\n",
       "      <td>4.10</td>\n",
       "      <td>2.74</td>\n",
       "      <td>24.5</td>\n",
       "      <td>96.0</td>\n",
       "      <td>2.05</td>\n",
       "      <td>0.76</td>\n",
       "      <td>0.56</td>\n",
       "      <td>1.35</td>\n",
       "      <td>9.20</td>\n",
       "      <td>0.61</td>\n",
       "      <td>1.60</td>\n",
       "      <td>560.0</td>\n",
       "      <td>3</td>\n",
       "    </tr>\n",
       "  </tbody>\n",
       "</table>\n",
       "<p>178 rows × 14 columns</p>\n",
       "</div>"
      ],
      "text/plain": [
       "     alcohol  malic acid   ash  alcalinity of ash  magnesium  total phenols  \\\n",
       "0      14.23        1.71  2.43               15.6      127.0           2.80   \n",
       "1      13.20        1.78  2.14               11.2      100.0           2.65   \n",
       "2      13.16        2.36  2.67               18.6      101.0           2.80   \n",
       "3      14.37        1.95  2.50               16.8      113.0           3.85   \n",
       "4      13.24        2.59  2.87               21.0      118.0           2.80   \n",
       "..       ...         ...   ...                ...        ...            ...   \n",
       "173    13.71        5.65  2.45               20.5       95.0           1.68   \n",
       "174    13.40        3.91  2.48               23.0      102.0           1.80   \n",
       "175    13.27        4.28  2.26               20.0      120.0           1.59   \n",
       "176    13.17        2.59  2.37               20.0      120.0           1.65   \n",
       "177    14.13        4.10  2.74               24.5       96.0           2.05   \n",
       "\n",
       "     flavanoids  nonflavanoid phenols  proanthocyanins  color intensity   hue  \\\n",
       "0          3.06                  0.28             2.29             5.64  1.04   \n",
       "1          2.76                  0.26             1.28             4.38  1.05   \n",
       "2          3.24                  0.30             2.81             5.68  1.03   \n",
       "3          3.49                  0.24             2.18             7.80  0.86   \n",
       "4          2.69                  0.39             1.82             4.32  1.04   \n",
       "..          ...                   ...              ...              ...   ...   \n",
       "173        0.61                  0.52             1.06             7.70  0.64   \n",
       "174        0.75                  0.43             1.41             7.30  0.70   \n",
       "175        0.69                  0.43             1.35            10.20  0.59   \n",
       "176        0.68                  0.53             1.46             9.30  0.60   \n",
       "177        0.76                  0.56             1.35             9.20  0.61   \n",
       "\n",
       "     OD280/OD315 of diluted wines  proline  class  \n",
       "0                            3.92   1065.0      1  \n",
       "1                            3.40   1050.0      1  \n",
       "2                            3.17   1185.0      1  \n",
       "3                            3.45   1480.0      1  \n",
       "4                            2.93    735.0      1  \n",
       "..                            ...      ...    ...  \n",
       "173                          1.74    740.0      3  \n",
       "174                          1.56    750.0      3  \n",
       "175                          1.56    835.0      3  \n",
       "176                          1.62    840.0      3  \n",
       "177                          1.60    560.0      3  \n",
       "\n",
       "[178 rows x 14 columns]"
      ]
     },
     "execution_count": 23,
     "metadata": {},
     "output_type": "execute_result"
    }
   ],
   "source": [
    "import pandas as pd # pd is a convention too\n",
    "\n",
    "df = pd.DataFrame(data=data[:,1:], columns=colnames[1:])\n",
    "# Ensure the class column is an int\n",
    "df['class'] = data[:,0].astype(np.int)\n",
    "\n",
    "# Pandas dataframes have a nice pretty-printing for ipython notebooks\n",
    "df"
   ]
  },
  {
   "cell_type": "markdown",
   "metadata": {},
   "source": [
    "DataFrames have a nice <b>describe()</b> function that print some per-column statistics"
   ]
  },
  {
   "cell_type": "code",
   "execution_count": 24,
   "metadata": {},
   "outputs": [
    {
     "data": {
      "text/html": [
       "<div>\n",
       "<style scoped>\n",
       "    .dataframe tbody tr th:only-of-type {\n",
       "        vertical-align: middle;\n",
       "    }\n",
       "\n",
       "    .dataframe tbody tr th {\n",
       "        vertical-align: top;\n",
       "    }\n",
       "\n",
       "    .dataframe thead th {\n",
       "        text-align: right;\n",
       "    }\n",
       "</style>\n",
       "<table border=\"1\" class=\"dataframe\">\n",
       "  <thead>\n",
       "    <tr style=\"text-align: right;\">\n",
       "      <th></th>\n",
       "      <th>alcohol</th>\n",
       "      <th>malic acid</th>\n",
       "      <th>ash</th>\n",
       "      <th>alcalinity of ash</th>\n",
       "      <th>magnesium</th>\n",
       "      <th>total phenols</th>\n",
       "      <th>flavanoids</th>\n",
       "      <th>nonflavanoid phenols</th>\n",
       "      <th>proanthocyanins</th>\n",
       "      <th>color intensity</th>\n",
       "      <th>hue</th>\n",
       "      <th>OD280/OD315 of diluted wines</th>\n",
       "      <th>proline</th>\n",
       "      <th>class</th>\n",
       "    </tr>\n",
       "  </thead>\n",
       "  <tbody>\n",
       "    <tr>\n",
       "      <th>count</th>\n",
       "      <td>178.000000</td>\n",
       "      <td>178.000000</td>\n",
       "      <td>178.000000</td>\n",
       "      <td>178.000000</td>\n",
       "      <td>178.000000</td>\n",
       "      <td>178.000000</td>\n",
       "      <td>178.000000</td>\n",
       "      <td>178.000000</td>\n",
       "      <td>178.000000</td>\n",
       "      <td>178.000000</td>\n",
       "      <td>178.000000</td>\n",
       "      <td>178.000000</td>\n",
       "      <td>178.000000</td>\n",
       "      <td>178.000000</td>\n",
       "    </tr>\n",
       "    <tr>\n",
       "      <th>mean</th>\n",
       "      <td>13.000618</td>\n",
       "      <td>2.336348</td>\n",
       "      <td>2.366517</td>\n",
       "      <td>19.494944</td>\n",
       "      <td>99.741573</td>\n",
       "      <td>2.295112</td>\n",
       "      <td>2.029270</td>\n",
       "      <td>0.361854</td>\n",
       "      <td>1.590899</td>\n",
       "      <td>5.058090</td>\n",
       "      <td>0.957449</td>\n",
       "      <td>2.611685</td>\n",
       "      <td>746.893258</td>\n",
       "      <td>1.938202</td>\n",
       "    </tr>\n",
       "    <tr>\n",
       "      <th>std</th>\n",
       "      <td>0.811827</td>\n",
       "      <td>1.117146</td>\n",
       "      <td>0.274344</td>\n",
       "      <td>3.339564</td>\n",
       "      <td>14.282484</td>\n",
       "      <td>0.625851</td>\n",
       "      <td>0.998859</td>\n",
       "      <td>0.124453</td>\n",
       "      <td>0.572359</td>\n",
       "      <td>2.318286</td>\n",
       "      <td>0.228572</td>\n",
       "      <td>0.709990</td>\n",
       "      <td>314.907474</td>\n",
       "      <td>0.775035</td>\n",
       "    </tr>\n",
       "    <tr>\n",
       "      <th>min</th>\n",
       "      <td>11.030000</td>\n",
       "      <td>0.740000</td>\n",
       "      <td>1.360000</td>\n",
       "      <td>10.600000</td>\n",
       "      <td>70.000000</td>\n",
       "      <td>0.980000</td>\n",
       "      <td>0.340000</td>\n",
       "      <td>0.130000</td>\n",
       "      <td>0.410000</td>\n",
       "      <td>1.280000</td>\n",
       "      <td>0.480000</td>\n",
       "      <td>1.270000</td>\n",
       "      <td>278.000000</td>\n",
       "      <td>1.000000</td>\n",
       "    </tr>\n",
       "    <tr>\n",
       "      <th>25%</th>\n",
       "      <td>12.362500</td>\n",
       "      <td>1.602500</td>\n",
       "      <td>2.210000</td>\n",
       "      <td>17.200000</td>\n",
       "      <td>88.000000</td>\n",
       "      <td>1.742500</td>\n",
       "      <td>1.205000</td>\n",
       "      <td>0.270000</td>\n",
       "      <td>1.250000</td>\n",
       "      <td>3.220000</td>\n",
       "      <td>0.782500</td>\n",
       "      <td>1.937500</td>\n",
       "      <td>500.500000</td>\n",
       "      <td>1.000000</td>\n",
       "    </tr>\n",
       "    <tr>\n",
       "      <th>50%</th>\n",
       "      <td>13.050000</td>\n",
       "      <td>1.865000</td>\n",
       "      <td>2.360000</td>\n",
       "      <td>19.500000</td>\n",
       "      <td>98.000000</td>\n",
       "      <td>2.355000</td>\n",
       "      <td>2.135000</td>\n",
       "      <td>0.340000</td>\n",
       "      <td>1.555000</td>\n",
       "      <td>4.690000</td>\n",
       "      <td>0.965000</td>\n",
       "      <td>2.780000</td>\n",
       "      <td>673.500000</td>\n",
       "      <td>2.000000</td>\n",
       "    </tr>\n",
       "    <tr>\n",
       "      <th>75%</th>\n",
       "      <td>13.677500</td>\n",
       "      <td>3.082500</td>\n",
       "      <td>2.557500</td>\n",
       "      <td>21.500000</td>\n",
       "      <td>107.000000</td>\n",
       "      <td>2.800000</td>\n",
       "      <td>2.875000</td>\n",
       "      <td>0.437500</td>\n",
       "      <td>1.950000</td>\n",
       "      <td>6.200000</td>\n",
       "      <td>1.120000</td>\n",
       "      <td>3.170000</td>\n",
       "      <td>985.000000</td>\n",
       "      <td>3.000000</td>\n",
       "    </tr>\n",
       "    <tr>\n",
       "      <th>max</th>\n",
       "      <td>14.830000</td>\n",
       "      <td>5.800000</td>\n",
       "      <td>3.230000</td>\n",
       "      <td>30.000000</td>\n",
       "      <td>162.000000</td>\n",
       "      <td>3.880000</td>\n",
       "      <td>5.080000</td>\n",
       "      <td>0.660000</td>\n",
       "      <td>3.580000</td>\n",
       "      <td>13.000000</td>\n",
       "      <td>1.710000</td>\n",
       "      <td>4.000000</td>\n",
       "      <td>1680.000000</td>\n",
       "      <td>3.000000</td>\n",
       "    </tr>\n",
       "  </tbody>\n",
       "</table>\n",
       "</div>"
      ],
      "text/plain": [
       "          alcohol  malic acid         ash  alcalinity of ash   magnesium  \\\n",
       "count  178.000000  178.000000  178.000000         178.000000  178.000000   \n",
       "mean    13.000618    2.336348    2.366517          19.494944   99.741573   \n",
       "std      0.811827    1.117146    0.274344           3.339564   14.282484   \n",
       "min     11.030000    0.740000    1.360000          10.600000   70.000000   \n",
       "25%     12.362500    1.602500    2.210000          17.200000   88.000000   \n",
       "50%     13.050000    1.865000    2.360000          19.500000   98.000000   \n",
       "75%     13.677500    3.082500    2.557500          21.500000  107.000000   \n",
       "max     14.830000    5.800000    3.230000          30.000000  162.000000   \n",
       "\n",
       "       total phenols  flavanoids  nonflavanoid phenols  proanthocyanins  \\\n",
       "count     178.000000  178.000000            178.000000       178.000000   \n",
       "mean        2.295112    2.029270              0.361854         1.590899   \n",
       "std         0.625851    0.998859              0.124453         0.572359   \n",
       "min         0.980000    0.340000              0.130000         0.410000   \n",
       "25%         1.742500    1.205000              0.270000         1.250000   \n",
       "50%         2.355000    2.135000              0.340000         1.555000   \n",
       "75%         2.800000    2.875000              0.437500         1.950000   \n",
       "max         3.880000    5.080000              0.660000         3.580000   \n",
       "\n",
       "       color intensity         hue  OD280/OD315 of diluted wines      proline  \\\n",
       "count       178.000000  178.000000                    178.000000   178.000000   \n",
       "mean          5.058090    0.957449                      2.611685   746.893258   \n",
       "std           2.318286    0.228572                      0.709990   314.907474   \n",
       "min           1.280000    0.480000                      1.270000   278.000000   \n",
       "25%           3.220000    0.782500                      1.937500   500.500000   \n",
       "50%           4.690000    0.965000                      2.780000   673.500000   \n",
       "75%           6.200000    1.120000                      3.170000   985.000000   \n",
       "max          13.000000    1.710000                      4.000000  1680.000000   \n",
       "\n",
       "            class  \n",
       "count  178.000000  \n",
       "mean     1.938202  \n",
       "std      0.775035  \n",
       "min      1.000000  \n",
       "25%      1.000000  \n",
       "50%      2.000000  \n",
       "75%      3.000000  \n",
       "max      3.000000  "
      ]
     },
     "execution_count": 24,
     "metadata": {},
     "output_type": "execute_result"
    }
   ],
   "source": [
    "df.describe()"
   ]
  },
  {
   "cell_type": "markdown",
   "metadata": {},
   "source": [
    "<p style=\"background-color:#660066; color:#fff;padding:5px; font-weight:bold\">Exercise</p>"
   ]
  },
  {
   "cell_type": "markdown",
   "metadata": {},
   "source": [
    "Describe in statistical terms the alcohol variable for each class of wine. E.g., use the describe() function of dataframes for each class of wine."
   ]
  },
  {
   "cell_type": "code",
   "execution_count": 25,
   "metadata": {},
   "outputs": [
    {
     "data": {
      "text/html": [
       "<div>\n",
       "<style scoped>\n",
       "    .dataframe tbody tr th:only-of-type {\n",
       "        vertical-align: middle;\n",
       "    }\n",
       "\n",
       "    .dataframe tbody tr th {\n",
       "        vertical-align: top;\n",
       "    }\n",
       "\n",
       "    .dataframe thead tr th {\n",
       "        text-align: left;\n",
       "    }\n",
       "\n",
       "    .dataframe thead tr:last-of-type th {\n",
       "        text-align: right;\n",
       "    }\n",
       "</style>\n",
       "<table border=\"1\" class=\"dataframe\">\n",
       "  <thead>\n",
       "    <tr>\n",
       "      <th></th>\n",
       "      <th colspan=\"8\" halign=\"left\">alcohol</th>\n",
       "      <th colspan=\"2\" halign=\"left\">malic acid</th>\n",
       "      <th>...</th>\n",
       "      <th colspan=\"2\" halign=\"left\">OD280/OD315 of diluted wines</th>\n",
       "      <th colspan=\"8\" halign=\"left\">proline</th>\n",
       "    </tr>\n",
       "    <tr>\n",
       "      <th></th>\n",
       "      <th>count</th>\n",
       "      <th>mean</th>\n",
       "      <th>std</th>\n",
       "      <th>min</th>\n",
       "      <th>25%</th>\n",
       "      <th>50%</th>\n",
       "      <th>75%</th>\n",
       "      <th>max</th>\n",
       "      <th>count</th>\n",
       "      <th>mean</th>\n",
       "      <th>...</th>\n",
       "      <th>75%</th>\n",
       "      <th>max</th>\n",
       "      <th>count</th>\n",
       "      <th>mean</th>\n",
       "      <th>std</th>\n",
       "      <th>min</th>\n",
       "      <th>25%</th>\n",
       "      <th>50%</th>\n",
       "      <th>75%</th>\n",
       "      <th>max</th>\n",
       "    </tr>\n",
       "    <tr>\n",
       "      <th>class</th>\n",
       "      <th></th>\n",
       "      <th></th>\n",
       "      <th></th>\n",
       "      <th></th>\n",
       "      <th></th>\n",
       "      <th></th>\n",
       "      <th></th>\n",
       "      <th></th>\n",
       "      <th></th>\n",
       "      <th></th>\n",
       "      <th></th>\n",
       "      <th></th>\n",
       "      <th></th>\n",
       "      <th></th>\n",
       "      <th></th>\n",
       "      <th></th>\n",
       "      <th></th>\n",
       "      <th></th>\n",
       "      <th></th>\n",
       "      <th></th>\n",
       "      <th></th>\n",
       "    </tr>\n",
       "  </thead>\n",
       "  <tbody>\n",
       "    <tr>\n",
       "      <th>1</th>\n",
       "      <td>59.0</td>\n",
       "      <td>13.744746</td>\n",
       "      <td>0.462125</td>\n",
       "      <td>12.85</td>\n",
       "      <td>13.400</td>\n",
       "      <td>13.750</td>\n",
       "      <td>14.100</td>\n",
       "      <td>14.83</td>\n",
       "      <td>59.0</td>\n",
       "      <td>2.010678</td>\n",
       "      <td>...</td>\n",
       "      <td>3.42</td>\n",
       "      <td>4.00</td>\n",
       "      <td>59.0</td>\n",
       "      <td>1115.711864</td>\n",
       "      <td>221.520767</td>\n",
       "      <td>680.0</td>\n",
       "      <td>987.5</td>\n",
       "      <td>1095.0</td>\n",
       "      <td>1280.0</td>\n",
       "      <td>1680.0</td>\n",
       "    </tr>\n",
       "    <tr>\n",
       "      <th>2</th>\n",
       "      <td>71.0</td>\n",
       "      <td>12.278732</td>\n",
       "      <td>0.537964</td>\n",
       "      <td>11.03</td>\n",
       "      <td>11.915</td>\n",
       "      <td>12.290</td>\n",
       "      <td>12.515</td>\n",
       "      <td>13.86</td>\n",
       "      <td>71.0</td>\n",
       "      <td>1.932676</td>\n",
       "      <td>...</td>\n",
       "      <td>3.16</td>\n",
       "      <td>3.69</td>\n",
       "      <td>71.0</td>\n",
       "      <td>519.507042</td>\n",
       "      <td>157.211220</td>\n",
       "      <td>278.0</td>\n",
       "      <td>406.5</td>\n",
       "      <td>495.0</td>\n",
       "      <td>625.0</td>\n",
       "      <td>985.0</td>\n",
       "    </tr>\n",
       "    <tr>\n",
       "      <th>3</th>\n",
       "      <td>48.0</td>\n",
       "      <td>13.153750</td>\n",
       "      <td>0.530241</td>\n",
       "      <td>12.20</td>\n",
       "      <td>12.805</td>\n",
       "      <td>13.165</td>\n",
       "      <td>13.505</td>\n",
       "      <td>14.34</td>\n",
       "      <td>48.0</td>\n",
       "      <td>3.333750</td>\n",
       "      <td>...</td>\n",
       "      <td>1.82</td>\n",
       "      <td>2.47</td>\n",
       "      <td>48.0</td>\n",
       "      <td>629.895833</td>\n",
       "      <td>115.097043</td>\n",
       "      <td>415.0</td>\n",
       "      <td>545.0</td>\n",
       "      <td>627.5</td>\n",
       "      <td>695.0</td>\n",
       "      <td>880.0</td>\n",
       "    </tr>\n",
       "  </tbody>\n",
       "</table>\n",
       "<p>3 rows × 104 columns</p>\n",
       "</div>"
      ],
      "text/plain": [
       "      alcohol                                                             \\\n",
       "        count       mean       std    min     25%     50%     75%    max   \n",
       "class                                                                      \n",
       "1        59.0  13.744746  0.462125  12.85  13.400  13.750  14.100  14.83   \n",
       "2        71.0  12.278732  0.537964  11.03  11.915  12.290  12.515  13.86   \n",
       "3        48.0  13.153750  0.530241  12.20  12.805  13.165  13.505  14.34   \n",
       "\n",
       "      malic acid            ... OD280/OD315 of diluted wines       proline  \\\n",
       "           count      mean  ...                          75%   max   count   \n",
       "class                       ...                                              \n",
       "1           59.0  2.010678  ...                         3.42  4.00    59.0   \n",
       "2           71.0  1.932676  ...                         3.16  3.69    71.0   \n",
       "3           48.0  3.333750  ...                         1.82  2.47    48.0   \n",
       "\n",
       "                                                                      \n",
       "              mean         std    min    25%     50%     75%     max  \n",
       "class                                                                 \n",
       "1      1115.711864  221.520767  680.0  987.5  1095.0  1280.0  1680.0  \n",
       "2       519.507042  157.211220  278.0  406.5   495.0   625.0   985.0  \n",
       "3       629.895833  115.097043  415.0  545.0   627.5   695.0   880.0  \n",
       "\n",
       "[3 rows x 104 columns]"
      ]
     },
     "execution_count": 25,
     "metadata": {},
     "output_type": "execute_result"
    }
   ],
   "source": [
    "df.groupby('class').describe()"
   ]
  },
  {
   "cell_type": "markdown",
   "metadata": {},
   "source": [
    "## 6. Visual exploratory analysis of data "
   ]
  },
  {
   "cell_type": "markdown",
   "metadata": {},
   "source": [
    "In statistics, exploratory data analysis (EDA) is an approach for analyzing datasets to summarize their main characteristics, often with visual methods.\n",
    "\n",
    "For example, box and whisker plots use a graphical box: the bottom and top of the box are always the first (Q1) and third (Q3) quartiles, and the band inside the box is always the second quartile (the median). The whiskers are placed at Q1 - 1.5 IQR and Q3 + 1.5 IQR, where IQR means Inter-quartile range.\n",
    "See [Boxplot definition at Wikipedia](https://en.wikipedia.org/wiki/Box_plot)"
   ]
  },
  {
   "cell_type": "markdown",
   "metadata": {},
   "source": [
    "### Boxplots with matplotlib"
   ]
  },
  {
   "cell_type": "code",
   "execution_count": 26,
   "metadata": {},
   "outputs": [],
   "source": [
    "from matplotlib import pyplot as pl # pylab is matplotlib\n",
    "# The line below enables matplotlib-jupyter integration and allows plots to be displayed inline in the notebook.\n",
    "%matplotlib inline"
   ]
  },
  {
   "cell_type": "markdown",
   "metadata": {},
   "source": [
    "We want to see what the distribution of each feature is for each class. We'll use the [boxplot](http://matplotlib.org/api/pyplot_api.html#matplotlib.pyplot.boxplot) function of pylab/pyplot."
   ]
  },
  {
   "cell_type": "code",
   "execution_count": 27,
   "metadata": {},
   "outputs": [
    {
     "name": "stdout",
     "output_type": "stream",
     "text": [
      "classes :  [1 2 3]\n"
     ]
    },
    {
     "data": {
      "image/png": "[encoded data removed]",
      "text/plain": [
       "<Figure size 432x288 with 1 Axes>"
      ]
     },
     "metadata": {
      "needs_background": "light"
     },
     "output_type": "display_data"
    }
   ],
   "source": [
    "classes = np.unique(df['class'])\n",
    "print('classes : ', classes)\n",
    "\n",
    "alcohol_by_class = [df['alcohol'][df['class'] == c] for c in classes]\n",
    "\n",
    "pl.boxplot(alcohol_by_class)\n",
    "pl.grid()"
   ]
  },
  {
   "cell_type": "markdown",
   "metadata": {},
   "source": [
    "dataframes have a [boxplot](https://pandas.pydata.org/pandas-docs/stable/reference/api/pandas.DataFrame.boxplot.html) function that does per-class plotting with the *by* parameter :"
   ]
  },
  {
   "cell_type": "code",
   "execution_count": 28,
   "metadata": {},
   "outputs": [
    {
     "data": {
      "image/png": "[encoded data removed]",
      "text/plain": [
       "<Figure size 432x288 with 1 Axes>"
      ]
     },
     "metadata": {
      "needs_background": "light"
     },
     "output_type": "display_data"
    }
   ],
   "source": [
    "df.boxplot(column='alcohol', by='class');     # the ; at the end makes Python not to print the response of boxplot"
   ]
  },
  {
   "cell_type": "markdown",
   "metadata": {},
   "source": [
    "We can do that for each column"
   ]
  },
  {
   "cell_type": "code",
   "execution_count": 29,
   "metadata": {
    "scrolled": true
   },
   "outputs": [
    {
     "data": {
      "image/png": "[encoded data removed]",
      "text/plain": [
       "<Figure size 432x288 with 1 Axes>"
      ]
     },
     "metadata": {
      "needs_background": "light"
     },
     "output_type": "display_data"
    },
    {
     "data": {
      "image/png": "[encoded data removed]",
      "text/plain": [
       "<Figure size 432x288 with 1 Axes>"
      ]
     },
     "metadata": {
      "needs_background": "light"
     },
     "output_type": "display_data"
    },
    {
     "data": {
      "image/png": "[encoded data removed]",
      "text/plain": [
       "<Figure size 432x288 with 1 Axes>"
      ]
     },
     "metadata": {
      "needs_background": "light"
     },
     "output_type": "display_data"
    },
    {
     "data": {
      "image/png": "[encoded data removed]",
      "text/plain": [
       "<Figure size 432x288 with 1 Axes>"
      ]
     },
     "metadata": {
      "needs_background": "light"
     },
     "output_type": "display_data"
    },
    {
     "data": {
      "image/png": "[encoded data removed]",
      "text/plain": [
       "<Figure size 432x288 with 1 Axes>"
      ]
     },
     "metadata": {
      "needs_background": "light"
     },
     "output_type": "display_data"
    },
    {
     "data": {
      "image/png": "[encoded data removed]",
      "text/plain": [
       "<Figure size 432x288 with 1 Axes>"
      ]
     },
     "metadata": {
      "needs_background": "light"
     },
     "output_type": "display_data"
    },
    {
     "data": {
      "image/png": "[encoded data removed]",
      "text/plain": [
       "<Figure size 432x288 with 1 Axes>"
      ]
     },
     "metadata": {
      "needs_background": "light"
     },
     "output_type": "display_data"
    },
    {
     "data": {
      "image/png": "[encoded data removed]",
      "text/plain": [
       "<Figure size 432x288 with 1 Axes>"
      ]
     },
     "metadata": {
      "needs_background": "light"
     },
     "output_type": "display_data"
    },
    {
     "data": {
      "image/png": "[encoded data removed]",
      "text/plain": [
       "<Figure size 432x288 with 1 Axes>"
      ]
     },
     "metadata": {
      "needs_background": "light"
     },
     "output_type": "display_data"
    },
    {
     "data": {
      "image/png": "[encoded data removed]",
      "text/plain": [
       "<Figure size 432x288 with 1 Axes>"
      ]
     },
     "metadata": {
      "needs_background": "light"
     },
     "output_type": "display_data"
    },
    {
     "data": {
      "image/png": "[encoded data removed]",
      "text/plain": [
       "<Figure size 432x288 with 1 Axes>"
      ]
     },
     "metadata": {
      "needs_background": "light"
     },
     "output_type": "display_data"
    },
    {
     "data": {
      "image/png": "[encoded data removed]",
      "text/plain": [
       "<Figure size 432x288 with 1 Axes>"
      ]
     },
     "metadata": {
      "needs_background": "light"
     },
     "output_type": "display_data"
    },
    {
     "data": {
      "image/png": "[encoded data removed]",
      "text/plain": [
       "<Figure size 432x288 with 1 Axes>"
      ]
     },
     "metadata": {
      "needs_background": "light"
     },
     "output_type": "display_data"
    },
    {
     "data": {
      "image/png": "[encoded data removed]",
      "text/plain": [
       "<Figure size 432x288 with 1 Axes>"
      ]
     },
     "metadata": {
      "needs_background": "light"
     },
     "output_type": "display_data"
    }
   ],
   "source": [
    "for c in df.columns:\n",
    "    df.boxplot(column=c, by='class')"
   ]
  },
  {
   "cell_type": "markdown",
   "metadata": {},
   "source": [
    "<p style=\"background-color:#660066; color:#fff;padding:5px; font-weight:bold\">Q: By looking at the boxplot, which features seem the most discriminative ? (which variables would be helpful to separate the wine classes?)</p>"
   ]
  },
  {
   "cell_type": "markdown",
   "metadata": {},
   "source": [
    "diluted whine "
   ]
  },
  {
   "cell_type": "markdown",
   "metadata": {},
   "source": [
    "## 7. Classifying the wine data"
   ]
  },
  {
   "cell_type": "markdown",
   "metadata": {},
   "source": [
    "Let's first try a rule-based approach to classify the wine data."
   ]
  },
  {
   "cell_type": "markdown",
   "metadata": {},
   "source": [
    "Suppose that the <b>alcohol</b> variable allows for a good classification and by observing the corresponding boxplot, let's define the rules that associate a class to alcohol range values."
   ]
  },
  {
   "cell_type": "code",
   "execution_count": 30,
   "metadata": {},
   "outputs": [],
   "source": [
    "pred = []\n",
    "\n",
    "for row in df['alcohol']:\n",
    "    if row > 13.5:\n",
    "        pred.append(1);\n",
    "    elif row > 12.75 and row < 13.5 :\n",
    "        pred.append(2);    \n",
    "    else:\n",
    "        pred.append(3)\n",
    "\n",
    "# A new column is added to the dataframe\n",
    "df['prediction'] = pred"
   ]
  },
  {
   "cell_type": "code",
   "execution_count": 31,
   "metadata": {},
   "outputs": [
    {
     "data": {
      "text/html": [
       "<div>\n",
       "<style scoped>\n",
       "    .dataframe tbody tr th:only-of-type {\n",
       "        vertical-align: middle;\n",
       "    }\n",
       "\n",
       "    .dataframe tbody tr th {\n",
       "        vertical-align: top;\n",
       "    }\n",
       "\n",
       "    .dataframe thead th {\n",
       "        text-align: right;\n",
       "    }\n",
       "</style>\n",
       "<table border=\"1\" class=\"dataframe\">\n",
       "  <thead>\n",
       "    <tr style=\"text-align: right;\">\n",
       "      <th></th>\n",
       "      <th>alcohol</th>\n",
       "      <th>malic acid</th>\n",
       "      <th>ash</th>\n",
       "      <th>alcalinity of ash</th>\n",
       "      <th>magnesium</th>\n",
       "      <th>total phenols</th>\n",
       "      <th>flavanoids</th>\n",
       "      <th>nonflavanoid phenols</th>\n",
       "      <th>proanthocyanins</th>\n",
       "      <th>color intensity</th>\n",
       "      <th>hue</th>\n",
       "      <th>OD280/OD315 of diluted wines</th>\n",
       "      <th>proline</th>\n",
       "      <th>class</th>\n",
       "      <th>prediction</th>\n",
       "    </tr>\n",
       "  </thead>\n",
       "  <tbody>\n",
       "    <tr>\n",
       "      <th>0</th>\n",
       "      <td>14.23</td>\n",
       "      <td>1.71</td>\n",
       "      <td>2.43</td>\n",
       "      <td>15.6</td>\n",
       "      <td>127.0</td>\n",
       "      <td>2.80</td>\n",
       "      <td>3.06</td>\n",
       "      <td>0.28</td>\n",
       "      <td>2.29</td>\n",
       "      <td>5.64</td>\n",
       "      <td>1.04</td>\n",
       "      <td>3.92</td>\n",
       "      <td>1065.0</td>\n",
       "      <td>1</td>\n",
       "      <td>1</td>\n",
       "    </tr>\n",
       "    <tr>\n",
       "      <th>1</th>\n",
       "      <td>13.20</td>\n",
       "      <td>1.78</td>\n",
       "      <td>2.14</td>\n",
       "      <td>11.2</td>\n",
       "      <td>100.0</td>\n",
       "      <td>2.65</td>\n",
       "      <td>2.76</td>\n",
       "      <td>0.26</td>\n",
       "      <td>1.28</td>\n",
       "      <td>4.38</td>\n",
       "      <td>1.05</td>\n",
       "      <td>3.40</td>\n",
       "      <td>1050.0</td>\n",
       "      <td>1</td>\n",
       "      <td>2</td>\n",
       "    </tr>\n",
       "    <tr>\n",
       "      <th>2</th>\n",
       "      <td>13.16</td>\n",
       "      <td>2.36</td>\n",
       "      <td>2.67</td>\n",
       "      <td>18.6</td>\n",
       "      <td>101.0</td>\n",
       "      <td>2.80</td>\n",
       "      <td>3.24</td>\n",
       "      <td>0.30</td>\n",
       "      <td>2.81</td>\n",
       "      <td>5.68</td>\n",
       "      <td>1.03</td>\n",
       "      <td>3.17</td>\n",
       "      <td>1185.0</td>\n",
       "      <td>1</td>\n",
       "      <td>2</td>\n",
       "    </tr>\n",
       "    <tr>\n",
       "      <th>3</th>\n",
       "      <td>14.37</td>\n",
       "      <td>1.95</td>\n",
       "      <td>2.50</td>\n",
       "      <td>16.8</td>\n",
       "      <td>113.0</td>\n",
       "      <td>3.85</td>\n",
       "      <td>3.49</td>\n",
       "      <td>0.24</td>\n",
       "      <td>2.18</td>\n",
       "      <td>7.80</td>\n",
       "      <td>0.86</td>\n",
       "      <td>3.45</td>\n",
       "      <td>1480.0</td>\n",
       "      <td>1</td>\n",
       "      <td>1</td>\n",
       "    </tr>\n",
       "    <tr>\n",
       "      <th>4</th>\n",
       "      <td>13.24</td>\n",
       "      <td>2.59</td>\n",
       "      <td>2.87</td>\n",
       "      <td>21.0</td>\n",
       "      <td>118.0</td>\n",
       "      <td>2.80</td>\n",
       "      <td>2.69</td>\n",
       "      <td>0.39</td>\n",
       "      <td>1.82</td>\n",
       "      <td>4.32</td>\n",
       "      <td>1.04</td>\n",
       "      <td>2.93</td>\n",
       "      <td>735.0</td>\n",
       "      <td>1</td>\n",
       "      <td>2</td>\n",
       "    </tr>\n",
       "    <tr>\n",
       "      <th>...</th>\n",
       "      <td>...</td>\n",
       "      <td>...</td>\n",
       "      <td>...</td>\n",
       "      <td>...</td>\n",
       "      <td>...</td>\n",
       "      <td>...</td>\n",
       "      <td>...</td>\n",
       "      <td>...</td>\n",
       "      <td>...</td>\n",
       "      <td>...</td>\n",
       "      <td>...</td>\n",
       "      <td>...</td>\n",
       "      <td>...</td>\n",
       "      <td>...</td>\n",
       "      <td>...</td>\n",
       "    </tr>\n",
       "    <tr>\n",
       "      <th>173</th>\n",
       "      <td>13.71</td>\n",
       "      <td>5.65</td>\n",
       "      <td>2.45</td>\n",
       "      <td>20.5</td>\n",
       "      <td>95.0</td>\n",
       "      <td>1.68</td>\n",
       "      <td>0.61</td>\n",
       "      <td>0.52</td>\n",
       "      <td>1.06</td>\n",
       "      <td>7.70</td>\n",
       "      <td>0.64</td>\n",
       "      <td>1.74</td>\n",
       "      <td>740.0</td>\n",
       "      <td>3</td>\n",
       "      <td>1</td>\n",
       "    </tr>\n",
       "    <tr>\n",
       "      <th>174</th>\n",
       "      <td>13.40</td>\n",
       "      <td>3.91</td>\n",
       "      <td>2.48</td>\n",
       "      <td>23.0</td>\n",
       "      <td>102.0</td>\n",
       "      <td>1.80</td>\n",
       "      <td>0.75</td>\n",
       "      <td>0.43</td>\n",
       "      <td>1.41</td>\n",
       "      <td>7.30</td>\n",
       "      <td>0.70</td>\n",
       "      <td>1.56</td>\n",
       "      <td>750.0</td>\n",
       "      <td>3</td>\n",
       "      <td>2</td>\n",
       "    </tr>\n",
       "    <tr>\n",
       "      <th>175</th>\n",
       "      <td>13.27</td>\n",
       "      <td>4.28</td>\n",
       "      <td>2.26</td>\n",
       "      <td>20.0</td>\n",
       "      <td>120.0</td>\n",
       "      <td>1.59</td>\n",
       "      <td>0.69</td>\n",
       "      <td>0.43</td>\n",
       "      <td>1.35</td>\n",
       "      <td>10.20</td>\n",
       "      <td>0.59</td>\n",
       "      <td>1.56</td>\n",
       "      <td>835.0</td>\n",
       "      <td>3</td>\n",
       "      <td>2</td>\n",
       "    </tr>\n",
       "    <tr>\n",
       "      <th>176</th>\n",
       "      <td>13.17</td>\n",
       "      <td>2.59</td>\n",
       "      <td>2.37</td>\n",
       "      <td>20.0</td>\n",
       "      <td>120.0</td>\n",
       "      <td>1.65</td>\n",
       "      <td>0.68</td>\n",
       "      <td>0.53</td>\n",
       "      <td>1.46</td>\n",
       "      <td>9.30</td>\n",
       "      <td>0.60</td>\n",
       "      <td>1.62</td>\n",
       "      <td>840.0</td>\n",
       "      <td>3</td>\n",
       "      <td>2</td>\n",
       "    </tr>\n",
       "    <tr>\n",
       "      <th>177</th>\n",
       "      <td>14.13</td>\n",
       "      <td>4.10</td>\n",
       "      <td>2.74</td>\n",
       "      <td>24.5</td>\n",
       "      <td>96.0</td>\n",
       "      <td>2.05</td>\n",
       "      <td>0.76</td>\n",
       "      <td>0.56</td>\n",
       "      <td>1.35</td>\n",
       "      <td>9.20</td>\n",
       "      <td>0.61</td>\n",
       "      <td>1.60</td>\n",
       "      <td>560.0</td>\n",
       "      <td>3</td>\n",
       "      <td>1</td>\n",
       "    </tr>\n",
       "  </tbody>\n",
       "</table>\n",
       "<p>178 rows × 15 columns</p>\n",
       "</div>"
      ],
      "text/plain": [
       "     alcohol  malic acid   ash  alcalinity of ash  magnesium  total phenols  \\\n",
       "0      14.23        1.71  2.43               15.6      127.0           2.80   \n",
       "1      13.20        1.78  2.14               11.2      100.0           2.65   \n",
       "2      13.16        2.36  2.67               18.6      101.0           2.80   \n",
       "3      14.37        1.95  2.50               16.8      113.0           3.85   \n",
       "4      13.24        2.59  2.87               21.0      118.0           2.80   \n",
       "..       ...         ...   ...                ...        ...            ...   \n",
       "173    13.71        5.65  2.45               20.5       95.0           1.68   \n",
       "174    13.40        3.91  2.48               23.0      102.0           1.80   \n",
       "175    13.27        4.28  2.26               20.0      120.0           1.59   \n",
       "176    13.17        2.59  2.37               20.0      120.0           1.65   \n",
       "177    14.13        4.10  2.74               24.5       96.0           2.05   \n",
       "\n",
       "     flavanoids  nonflavanoid phenols  proanthocyanins  color intensity   hue  \\\n",
       "0          3.06                  0.28             2.29             5.64  1.04   \n",
       "1          2.76                  0.26             1.28             4.38  1.05   \n",
       "2          3.24                  0.30             2.81             5.68  1.03   \n",
       "3          3.49                  0.24             2.18             7.80  0.86   \n",
       "4          2.69                  0.39             1.82             4.32  1.04   \n",
       "..          ...                   ...              ...              ...   ...   \n",
       "173        0.61                  0.52             1.06             7.70  0.64   \n",
       "174        0.75                  0.43             1.41             7.30  0.70   \n",
       "175        0.69                  0.43             1.35            10.20  0.59   \n",
       "176        0.68                  0.53             1.46             9.30  0.60   \n",
       "177        0.76                  0.56             1.35             9.20  0.61   \n",
       "\n",
       "     OD280/OD315 of diluted wines  proline  class  prediction  \n",
       "0                            3.92   1065.0      1           1  \n",
       "1                            3.40   1050.0      1           2  \n",
       "2                            3.17   1185.0      1           2  \n",
       "3                            3.45   1480.0      1           1  \n",
       "4                            2.93    735.0      1           2  \n",
       "..                            ...      ...    ...         ...  \n",
       "173                          1.74    740.0      3           1  \n",
       "174                          1.56    750.0      3           2  \n",
       "175                          1.56    835.0      3           2  \n",
       "176                          1.62    840.0      3           2  \n",
       "177                          1.60    560.0      3           1  \n",
       "\n",
       "[178 rows x 15 columns]"
      ]
     },
     "execution_count": 31,
     "metadata": {},
     "output_type": "execute_result"
    }
   ],
   "source": [
    "df"
   ]
  },
  {
   "cell_type": "markdown",
   "metadata": {},
   "source": [
    "<p style=\"background-color:#660066; color:#fff;padding:5px; font-weight:bold\">Q: Can you estimate the performance of such a classification method ?</p>"
   ]
  },
  {
   "cell_type": "markdown",
   "metadata": {},
   "source": [
    "<b>Hint:</b> Divide the number of times the prediction value corresponds to the real one (e.g., how many times, class == prediction ?), by the total number of observations.  "
   ]
  },
  {
   "cell_type": "code",
   "execution_count": 32,
   "metadata": {},
   "outputs": [
    {
     "name": "stdout",
     "output_type": "stream",
     "text": [
      "0.33707865168539325\n"
     ]
    }
   ],
   "source": [
    "result = 0\n",
    "clasy = df['class']\n",
    "\n",
    "result= 0\n",
    "for i in range(0,len(clasy)):\n",
    "    if clasy[i] == pred[i]:\n",
    "        result+=1\n",
    "print(result/len(clasy))"
   ]
  },
  {
   "cell_type": "markdown",
   "metadata": {},
   "source": [
    "## 8. Performance evaluation"
   ]
  },
  {
   "cell_type": "markdown",
   "metadata": {},
   "source": [
    "#### Confusion matrix, precision, recall and F-score"
   ]
  },
  {
   "cell_type": "markdown",
   "metadata": {},
   "source": [
    "A <b>confusion matrix</b> is a table that is often used to describe the performance of a classification model (or \"classifier\") on a set of test data for which the true values are known. In the confusion matrix all correct guesses are located in the diagonal of the table, so it's easy to visually inspect the table for errors, as they will be represented by values outside the diagonal.\n",
    "\n",
    "For an example, please see the Wikipedia page: https://en.wikipedia.org/wiki/Confusion_matrix\n",
    "\n",
    "Behind the confusion matrix are the following concepts:\n",
    "\n",
    "<b>true positives (TP)</b>: These are cases in which we predicted correctly the positive class (e.g. the person has a disease and has been diagnosed as sick).\n",
    "\n",
    "<b>true negatives (TN):</b> We correctly predicted the negative class (e.g. the person is healthy and has not been diagnosed as sick).\n",
    "\n",
    "<b>false positives (FP):</b> We wrongly predicted the positive class (e.g. the person don't actually have the disease but has been diagnosed as sick). (Also known as a \"Type I error.\")\n",
    "\n",
    "<b>false negatives (FN):</b> We wrongly predicted the negative class (e.g. the person si diagnosed as healthy but actually is sick). (Also known as a \"Type II error.\")\n",
    "\n",
    "<b>precision</b>: When we predict the positive class, how often are we correct?<p>\n",
    "\n",
    "<font color=\"red\">precision = tp/(tp + fp)</font>\n",
    "\n",
    "Sensitivity and specificity are statistical measures of the performance of a binary classification test, also known in statistics as classification function:\n",
    "\n",
    "<b>Recall or sensitivity</b> (also called the true positive rate or probability of detection in some fields) measures the proportion of positives that are correctly identified as such (e.g., the percentage of sick people who are correctly identified as having the condition).<p>\n",
    "\n",
    "<font color=\"red\">recall = tp/(tp + fn)</font>\n",
    "\n",
    "<b>Specificity</b> (also called the true negative rate) measures the proportion of negatives that are correctly identified as such (e.g., the percentage of healthy people who are correctly identified as not having the condition).\n",
    "\n",
    "The <b>F1 score</b> can be interpreted as a weighted average of precision and recall, where an F1 score reaches its best value at 1 and worst at 0.<p>\n",
    "\n",
    "<font color=\"red\">f1-score = 2 x precision x recall / ( precision + recall)</font>\n"
   ]
  },
  {
   "cell_type": "code",
   "execution_count": 33,
   "metadata": {},
   "outputs": [],
   "source": [
    "# This function generates a colored confusion matrix.\n",
    "\n",
    "import matplotlib.cm as cm\n",
    "\n",
    "def plot_confusion_matrix(confmat, labels_names, ax=None):\n",
    "    if ax is None:\n",
    "        ax = pl.subplot(111)\n",
    "    cmim = ax.matshow(confmat, interpolation='nearest', cmap=cm.jet)\n",
    "\n",
    "    for i in range(confmat.shape[0]):\n",
    "        for j in range(confmat.shape[1]):\n",
    "            ax.annotate(str(confmat[i, j]), xy=(j, i),\n",
    "                        horizontalalignment='center',\n",
    "                        verticalalignment='center',\n",
    "                        fontsize=8)\n",
    "    ax.set_xticks(np.arange(confmat.shape[0]))\n",
    "    ax.set_xticklabels([labels_names[l] for l in range(confmat.shape[0])], rotation='vertical')\n",
    "    ax.set_yticks(np.arange(confmat.shape[1]))\n",
    "    _ = ax.set_yticklabels([labels_names[l] for l in range(confmat.shape[1])])\n",
    "    ax.set_xlabel('predicted label')\n",
    "    ax.xaxis.set_label_position('top')\n",
    "    ax.set_ylabel('true label')\n",
    "    pl.colorbar(cmim, shrink=0.7, orientation='horizontal', pad=0.01)"
   ]
  },
  {
   "cell_type": "code",
   "execution_count": 34,
   "metadata": {},
   "outputs": [
    {
     "name": "stdout",
     "output_type": "stream",
     "text": [
      "              precision    recall  f1-score   support\n",
      "\n",
      "           1       0.75      0.69      0.72        59\n",
      "           2       0.16      0.11      0.13        71\n",
      "           3       0.15      0.23      0.18        48\n",
      "\n",
      "    accuracy                           0.34       178\n",
      "   macro avg       0.35      0.35      0.34       178\n",
      "weighted avg       0.35      0.34      0.34       178\n",
      "\n"
     ]
    },
    {
     "data": {
      "image/png": "[encoded data removed]",
      "text/plain": [
       "<Figure size 432x288 with 2 Axes>"
      ]
     },
     "metadata": {
      "needs_background": "light"
     },
     "output_type": "display_data"
    }
   ],
   "source": [
    "import sklearn.metrics as skmetrics\n",
    "\n",
    "labels_names=['1', '2', '3']\n",
    "C = skmetrics.confusion_matrix(y_true=df['class'], y_pred=df['prediction'])\n",
    "plot_confusion_matrix(C, labels_names)\n",
    "\n",
    "print(skmetrics.classification_report(y_true=df['class'], y_pred=df['prediction']))"
   ]
  },
  {
   "cell_type": "markdown",
   "metadata": {},
   "source": [
    "<p style=\"background-color:#660066; color:#fff;padding:5px; font-weight:bold\">Q: Define a rule that uses the most discriminative feature to classify the wine observations ?</p>"
   ]
  },
  {
   "cell_type": "code",
   "execution_count": 52,
   "metadata": {},
   "outputs": [],
   "source": [
    "pred = []\n",
    "\n",
    "for row in df['flavanoids']:\n",
    "    if row > 2.6:\n",
    "        pred.append(1);\n",
    "    elif row > 1.5 :\n",
    "        pred.append(2);    \n",
    "    else:\n",
    "        pred.append(3)\n",
    "\n",
    "# A new column is added to the dataframe\n",
    "df['prediction'] = pred\n"
   ]
  },
  {
   "cell_type": "markdown",
   "metadata": {},
   "source": [
    "<p style=\"background-color:#660066; color:#fff;padding:5px; font-weight:bold\">Q: Compute the confusion matrix of the resulting rule-based system ?</p>"
   ]
  },
  {
   "cell_type": "code",
   "execution_count": 37,
   "metadata": {},
   "outputs": [
    {
     "data": {
      "image/png": "[encoded data removed]",
      "text/plain": [
       "<Figure size 432x288 with 2 Axes>"
      ]
     },
     "metadata": {
      "needs_background": "light"
     },
     "output_type": "display_data"
    }
   ],
   "source": [
    "labels_names=['1', '2', '3']\n",
    "C = skmetrics.confusion_matrix(y_true=df['class'], y_pred=df['prediction'])\n",
    "plot_confusion_matrix(C, labels_names)\n",
    "\n"
   ]
  },
  {
   "cell_type": "markdown",
   "metadata": {},
   "source": [
    "<p style=\"background-color:#660066; color:#fff;padding:5px; font-weight:bold\">Q: Compute the precision, the recall and the f1-score of the system for a given class using the values of the confusion matrix ?</p>"
   ]
  },
  {
   "cell_type": "code",
   "execution_count": 38,
   "metadata": {},
   "outputs": [
    {
     "name": "stdout",
     "output_type": "stream",
     "text": [
      "              precision    recall  f1-score   support\n",
      "\n",
      "           1       0.78      0.85      0.81        59\n",
      "           2       0.81      0.62      0.70        71\n",
      "           3       0.78      0.98      0.87        48\n",
      "\n",
      "    accuracy                           0.79       178\n",
      "   macro avg       0.79      0.82      0.80       178\n",
      "weighted avg       0.80      0.79      0.78       178\n",
      "\n"
     ]
    }
   ],
   "source": [
    "print(skmetrics.classification_report(y_true=df['class'], y_pred=df['prediction']))"
   ]
  },
  {
   "cell_type": "markdown",
   "metadata": {},
   "source": [
    "## 9. Try a simple machine learning classifier"
   ]
  },
  {
   "cell_type": "markdown",
   "metadata": {},
   "source": [
    "### Standardization\n",
    "As you can see from the df.describe() above, the range values for each column in our dataset varies a lot. Depending on the model you want to use, that can be a big problem.\n",
    "\n",
    "The model we'll use here is k-Nearest Neighbor with the Euclidean distance. When using the Euclidean distance, it is important to think about how to preprocess your data.\n",
    "\n",
    "For example, look at the 'magnesium' and 'total phenols' columns. The standard deviation for magnesium is 14 while for total phenols it is 0.62. This means that the data are more spread out on the magnesium axis compared to the phenols axis. And if we use raw values to compute distances, the magnesium axis will be much more important than the phenols axis, but this importance will just be due to the (arbitrary) scales that we used to measure magnesium and phenols."
   ]
  },
  {
   "cell_type": "code",
   "execution_count": 39,
   "metadata": {},
   "outputs": [
    {
     "name": "stdout",
     "output_type": "stream",
     "text": [
      "count    178.000000\n",
      "mean      99.741573\n",
      "std       14.282484\n",
      "min       70.000000\n",
      "25%       88.000000\n",
      "50%       98.000000\n",
      "75%      107.000000\n",
      "max      162.000000\n",
      "Name: magnesium, dtype: float64\n",
      "count    178.000000\n",
      "mean       2.295112\n",
      "std        0.625851\n",
      "min        0.980000\n",
      "25%        1.742500\n",
      "50%        2.355000\n",
      "75%        2.800000\n",
      "max        3.880000\n",
      "Name: total phenols, dtype: float64\n"
     ]
    }
   ],
   "source": [
    "print(df['magnesium'].describe())\n",
    "print(df['total phenols'].describe())"
   ]
  },
  {
   "cell_type": "markdown",
   "metadata": {},
   "source": [
    "To make the distances less dependent on particular scales, we can standardize our data by making sure each column has 0 mean and unit variance, using [sklearn.preprocessing.scale](http://scikit-learn.org/stable/modules/generated/sklearn.preprocessing.scale.html) or by computing the normalization ourselves."
   ]
  },
  {
   "cell_type": "code",
   "execution_count": 47,
   "metadata": {},
   "outputs": [],
   "source": [
    "from sklearn.preprocessing import scale\n",
    "\n",
    "# all variables of the dataset with normalization\n",
    "# X = scale(df[colnames[1:]])\n",
    "\n",
    "# some selected variables without normalization\n",
    "X = df[['magnesium', 'total phenols']].values\n",
    "\n",
    "y = df['class'].values"
   ]
  },
  {
   "cell_type": "markdown",
   "metadata": {},
   "source": [
    "### Preparing the datasets for cross-validation: Train/test split\n",
    "To build and evaluate a machine learning model, we need to split our data into training and testing sets. Scikit-learn has a [cross_validation](http://scikit-learn.org/stable/modules/cross_validation.html#cross-validation) module that helps with this task."
   ]
  },
  {
   "cell_type": "code",
   "execution_count": 48,
   "metadata": {},
   "outputs": [
    {
     "name": "stdout",
     "output_type": "stream",
     "text": [
      "train shape :  (106,)\n",
      "test shape  :  (72,)\n"
     ]
    }
   ],
   "source": [
    "from sklearn.model_selection import train_test_split\n",
    "# train and test are indices arrays containing the indices of train/test samples\n",
    "train, test = train_test_split(\n",
    "    np.arange(X.shape[0]), test_size=0.4, random_state=42 # we fix a random state for reproducibility\n",
    ")\n",
    "\n",
    "print(\"train shape : \", train.shape)\n",
    "print(\"test shape  : \", test.shape)"
   ]
  },
  {
   "cell_type": "markdown",
   "metadata": {},
   "source": [
    "### Classifying the wine data\n",
    "We will use a k-Nearest Neighbor classifier. This classifier will classify a new sample by assigning it the class of its nearest neighbor (for k=1). It computes the distance between the new sample and all the samples in the training set, find the nearest training sample and then use the class of the nearest neighbor to classify the new sample.\n",
    "\n",
    "The [scipy.spatial.distance](http://docs.scipy.org/doc/scipy/reference/spatial.distance.html) module helps with distance computation"
   ]
  },
  {
   "cell_type": "code",
   "execution_count": 77,
   "metadata": {},
   "outputs": [],
   "source": [
    "def norm(x):\n",
    "    return np.sqrt(x.dot(x))\n",
    "\n",
    "def euclidean_distance(x1, x2):\n",
    "    \"\"\"Euclidean distance\"\"\"\n",
    "    return norm(x1 - x2)\n",
    "\n",
    "def distances(X_train, x):\n",
    "    \"\"\"\n",
    "    Returns a vector containing the distance between x and each\n",
    "    sample in X_train\n",
    "    \"\"\"\n",
    "    n_train = X_train.shape[0]\n",
    "    return np.array([euclidean_distance(X_train[i,:], x) for i in range(n_train)])\n",
    "\n",
    "def nn_classify_single(X_train, y_train, X):\n",
    "    \"\"\"\n",
    "    Nearest neighbor classifier. Returns the class of the nearest training vector\n",
    "    \"\"\"\n",
    "    dists = distances(X_train, X)\n",
    "    closest = np.argmin(dists)\n",
    "\n",
    "    return y_train[closest]\n",
    "\n",
    "def nn_classify(X_train, y_train, X):\n",
    "    \"\"\"\n",
    "    Assign to each row in X the class of its nearest neighbor in X_train\n",
    "    \"\"\"\n",
    "    y_pred = np.zeros(X.shape[0], dtype=np.int)\n",
    "    for i in range(X.shape[0]):\n",
    "        y_pred[i] = nn_classify_single(X_train, y_train, X[i])\n",
    "    return y_pred"
   ]
  },
  {
   "cell_type": "code",
   "execution_count": 78,
   "metadata": {},
   "outputs": [
    {
     "name": "stdout",
     "output_type": "stream",
     "text": [
      "1\n",
      "[5.36822 3.39043 6.04319 4.80025 2.49993 5.79659 4.58995 5.25629 2.65584\n",
      " 4.80157 2.92089 2.57048 6.46513 4.84195 2.79327 5.81426 3.56883 4.18182\n",
      " 4.18228 1.81987 5.08038 5.52408 3.91927 6.02763 5.65849 2.69631 3.99889\n",
      " 6.27554 5.50397 5.73072 5.40055 4.03075 4.55865 4.88953 5.4547  4.6604\n",
      " 5.65293 5.51539 6.84623 5.92718 3.03069 3.19348 5.92439 3.55259 6.24481\n",
      " 3.30897 2.51619 5.28741 4.72313 2.48248 2.45822 2.47029 4.92267 2.40793\n",
      " 5.33133 6.59347 5.70662 5.69676 5.81714 5.73265 5.00617 5.81782 3.20957\n",
      " 4.56415 7.21012 5.38882 4.92453 3.29579 4.65399 6.58346 6.25697 5.57403\n",
      " 4.97515 4.32143 1.97586 5.45778 4.0895  5.65892 2.83568 2.88927 5.261\n",
      " 2.20997 2.62773 5.59628 5.16429 2.98206 6.84523 5.33954 2.9142  3.11431\n",
      " 5.50756 4.85273 5.65852 5.38481 5.12426 5.14248 5.87971 3.93777 6.4915\n",
      " 6.35074 2.33261 4.62932 4.79153 4.38658 6.0795  3.74201]\n",
      "1\n",
      "[5.85627 3.59816 5.10665 4.26486 3.38019 4.98251 4.726   5.66561 3.25962\n",
      " 5.55315 3.1801  3.40221 6.11835 4.84002 3.34982 5.51798 4.08228 3.92308\n",
      " 5.2973  2.92007 5.33426 5.61132 4.36363 4.82633 4.92089 3.34437 4.93328\n",
      " 5.66168 4.87602 5.58732 5.41385 3.79503 4.60487 4.73545 4.6102  4.61736\n",
      " 5.09929 5.48989 7.17795 5.47082 3.00175 3.32086 5.2023  3.61543 5.25436\n",
      " 3.48276 2.81639 5.89194 4.78226 2.81994 2.40116 2.32939 5.3548  2.2181\n",
      " 5.34052 5.82797 6.21335 5.71717 5.00294 4.99893 4.23334 5.63702 3.52322\n",
      " 5.01927 7.49248 5.34102 4.8621  3.24073 4.40057 5.477   5.95862 4.79251\n",
      " 4.52761 5.14262 2.73419 5.24629 5.13722 4.93797 3.49609 3.0507  5.13516\n",
      " 2.74558 2.99222 4.95605 4.60795 3.3219  5.82648 4.78301 3.71753 3.58863\n",
      " 5.05403 5.26426 5.61045 5.49162 5.58717 5.39119 5.89686 4.55527 6.66562\n",
      " 5.26917 3.44528 4.91356 5.04174 4.95485 5.85596 3.82453]\n",
      "3\n",
      "[4.7009  6.91732 2.70315 5.52811 6.54863 1.3674  4.59282 4.00141 5.6439\n",
      " 4.80224 5.18047 6.01678 4.03685 5.14691 4.68001 3.11182 4.78201 4.68499\n",
      " 5.06716 6.53508 4.4333  3.9779  4.87705 3.40949 1.38262 6.40004 5.42084\n",
      " 2.71032 3.65358 3.67521 7.25898 5.46649 4.39277 3.69983 1.73353 4.6207\n",
      " 3.51377 3.22696 6.33005 3.33698 5.42955 6.46361 2.95174 7.3673  2.85408\n",
      " 6.36745 5.08282 5.64904 3.15785 4.40751 6.33207 5.21258 6.50446 4.35897\n",
      " 3.35717 2.59228 7.58387 3.0807  2.82161 3.51702 1.97593 4.26059 6.16074\n",
      " 7.33944 6.75411 4.11289 3.09122 5.31261 3.73001 3.6528  3.12131 2.85125\n",
      " 2.29261 6.34812 5.58233 3.02464 7.41517 4.17197 6.60233 5.46783 3.11553\n",
      " 4.62516 5.33115 3.26335 3.29909 4.28568 2.89438 3.05721 5.80898 6.89965\n",
      " 3.82866 4.15462 4.40722 4.62365 6.26148 4.65867 4.36584 5.81577 7.19301\n",
      " 3.46954 6.49986 5.88502 4.12775 8.0356  3.18222 3.6317 ]\n",
      "1\n",
      "[6.33142 2.43667 6.76906 6.06515 3.61007 6.11507 4.71734 5.46677 3.64639\n",
      " 5.74166 2.38628 3.41368 5.35247 3.82814 3.33617 6.20759 3.87082 4.33768\n",
      " 4.65471 4.90107 5.79134 5.01055 4.57559 6.85524 6.00897 3.49731 5.15951\n",
      " 6.61477 5.60223 6.36327 4.23916 3.4956  5.18884 5.97176 5.49361 5.29891\n",
      " 6.03431 5.5598  6.11319 6.22962 2.53268 2.90042 6.4484  3.39997 6.68154\n",
      " 2.81851 2.42053 5.60867 6.08052 2.5399  3.57024 3.40232 5.62286 4.36614\n",
      " 5.5034  7.11507 6.23499 5.46046 5.81061 6.38377 5.58865 5.27991 3.71206\n",
      " 4.10487 8.53832 5.33748 6.06863 2.07125 4.81981 6.87611 6.25781 5.92053\n",
      " 6.17929 4.35436 3.55414 5.28887 4.35259 6.56738 2.72325 2.01313 5.10423\n",
      " 3.68915 2.31541 5.87279 5.7358  2.82093 6.18448 5.05715 4.76901 3.58677\n",
      " 6.45985 6.00225 6.43986 5.8748  4.96786 5.66995 5.15887 4.00796 5.69556\n",
      " 6.26969 3.82247 3.57995 5.26099 3.86764 5.7801  4.78   ]\n",
      "2\n",
      "[3.0554  5.58796 5.76272 5.23898 5.76474 5.40285 3.49784 4.09504 3.85147\n",
      " 5.84364 5.03663 4.97218 5.50232 6.67304 3.28919 4.97337 2.16364 4.45012\n",
      " 4.02668 6.38374 2.1565  3.39243 3.7784  6.58506 5.37164 4.47925 3.11482\n",
      " 5.12686 6.2593  4.05261 6.75606 6.15336 2.5327  5.02507 4.98971 2.67923\n",
      " 6.20105 5.35314 4.55348 4.20819 5.65594 5.96761 5.36578 6.67531 5.56262\n",
      " 5.21957 3.69741 2.12787 3.95897 4.47124 5.35342 5.33398 5.34177 4.21824\n",
      " 4.17093 6.11025 6.17734 3.51986 4.97477 5.92864 5.28496 2.79063 4.85379\n",
      " 6.41223 4.72314 6.12412 4.83008 5.40722 2.70509 6.62618 4.69946 5.3659\n",
      " 5.03666 3.30758 4.50346 3.49216 5.17172 6.57269 5.63799 4.85354 3.39138\n",
      " 4.48241 4.99627 5.61756 4.22534 3.85997 6.31795 5.77401 3.91682 5.8701\n",
      " 6.07763 5.13157 6.09027 2.61041 4.7896  2.01075 3.92896 3.73619 7.63722\n",
      " 6.9001  5.17172 4.53627 1.97455 6.93543 3.9854  3.33849]\n",
      "1\n",
      "[6.39374 2.6578  6.43659 6.22294 2.72022 5.71952 5.1708  5.51735 3.60354\n",
      " 5.42002 2.27978 2.99236 5.92917 3.69457 3.59443 6.00131 4.45808 4.68027\n",
      " 5.16344 3.86279 5.99819 5.55843 5.03114 6.24241 5.52851 3.45551 5.55747\n",
      " 6.22889 5.01085 6.00766 4.50008 2.36414 5.61605 5.63006 5.25239 5.19238\n",
      " 5.19304 5.46641 7.00499 6.29023 1.53918 2.11585 6.24883 2.90612 6.35476\n",
      " 2.50871 2.76053 6.22351 5.73128 2.09486 3.29157 2.2167  6.34425 3.99424\n",
      " 5.42794 6.86561 6.71659 5.85144 5.79464 5.93849 4.87459 6.10654 3.36847\n",
      " 4.1094  8.40996 5.03381 5.61926 1.29179 5.0706  6.49396 6.17118 5.56144\n",
      " 5.54244 5.19631 2.77324 5.56952 4.75548 5.69033 2.5156  2.02    5.55687\n",
      " 3.68974 2.14778 5.35912 5.99821 2.91101 6.05622 4.66399 4.42503 3.10589\n",
      " 5.77784 5.35335 5.92003 6.26945 5.69678 6.16629 5.91402 4.6637  6.01751\n",
      " 5.79021 3.14407 4.56305 5.69555 3.81312 6.02713 4.8834 ]\n",
      "2\n",
      "[3.21059 5.75795 4.9302  3.29248 5.82761 4.98248 3.40889 4.30315 3.9145\n",
      " 5.13262 5.22514 4.9567  4.74871 6.19578 3.85101 4.88743 2.77727 3.16799\n",
      " 3.69426 5.72137 2.6414  3.25937 3.01042 5.43445 4.56978 4.933   3.51544\n",
      " 4.69916 5.92644 4.47627 6.8137  6.27459 2.41181 4.50884 4.47709 4.04496\n",
      " 5.68777 4.74953 4.46865 3.21458 5.76689 6.16075 4.59845 6.92467 4.71164\n",
      " 5.81828 4.14651 3.44238 2.87388 4.56199 4.94982 5.54149 3.75348 3.1089\n",
      " 3.51763 4.65658 4.32652 3.17543 3.63718 5.20377 4.83041 3.09982 5.25129\n",
      " 6.34904 5.34597 5.91262 4.47517 5.68597 3.63873 5.26069 4.44413 4.91589\n",
      " 4.13503 4.31471 4.91184 2.98123 5.36508 5.83932 6.01463 4.83447 2.76743\n",
      " 3.63372 5.21097 5.70352 2.40638 4.12205 5.69097 5.56392 4.45987 6.23508\n",
      " 5.56532 5.04653 6.10819 2.22987 3.58513 2.1013  4.13724 4.21955 7.51451\n",
      " 6.29222 5.48073 5.25614 2.12046 6.99581 3.42384 2.81418]\n",
      "3\n",
      "[5.25336 6.2492  2.05191 4.89948 6.29651 2.74581 4.84901 5.19853 5.36406\n",
      " 4.99343 5.43559 5.66172 4.74465 5.57162 5.24332 2.77496 5.02669 4.72069\n",
      " 5.53015 6.0146  5.04628 4.72731 5.23509 2.12768 2.39055 5.88341 5.82309\n",
      " 3.04675 1.81522 4.2937  6.94794 5.62913 5.04162 2.90332 2.58976 5.05571\n",
      " 2.4094  4.72523 7.09773 4.62881 5.2576  5.95463 2.3373  6.64758 2.07117\n",
      " 5.66716 4.95016 6.37869 4.11669 4.53362 5.71769 5.30745 6.17839 3.96114\n",
      " 3.71238 2.92648 6.71005 4.27413 2.73808 2.0651  2.19405 5.35506 5.80005\n",
      " 7.02627 7.29992 3.14121 2.73655 4.95766 4.12478 2.16773 3.83329 1.45789\n",
      " 2.16044 6.35571 5.23087 3.76836 6.76415 2.28021 6.00558 4.76506 4.3338\n",
      " 4.53253 5.19973 2.309   3.66453 4.48562 2.65306 1.76848 6.10839 6.55168\n",
      " 2.08875 4.10603 3.06923 5.10595 6.28657 5.37908 5.4699  5.88233 7.44125\n",
      " 2.14369 6.22252 6.02362 4.88193 7.35557 4.15208 4.39976]\n",
      "2\n",
      "[5.04316 4.91258 6.51124 5.17563 4.79517 6.08407 3.04436 4.5522  3.49735\n",
      " 4.67866 3.74995 3.88338 4.18429 4.24343 3.01787 5.90224 3.08072 3.6115\n",
      " 1.83027 5.38695 4.67902 4.01717 2.02426 7.20105 5.74494 4.34098 3.2934\n",
      " 6.29587 6.43352 5.90831 5.26441 5.24519 3.27774 5.71717 5.29817 5.46188\n",
      " 6.42179 4.61332 4.62371 4.80443 4.61729 5.14458 5.9114  5.5513  6.80716\n",
      " 4.97226 3.16751 4.07053 4.70391 3.63983 4.85156 4.91654 3.50819 4.02239\n",
      " 4.81532 6.53248 4.65498 3.97459 5.42899 6.56454 6.01468 3.78394 5.18884\n",
      " 5.61339 7.61626 5.39919 5.70187 4.38738 4.55573 7.00702 5.58872 6.0449\n",
      " 5.83473 3.37486 4.46402 4.25742 4.77292 7.07264 4.42377 4.02792 3.4519\n",
      " 3.22754 3.80613 6.49073 4.37218 3.42708 6.27606 5.74226 4.70106 4.9861\n",
      " 6.6165  5.65301 6.41331 4.16603 3.78941 3.7031  3.88872 2.95705 5.0186\n",
      " 6.95183 4.6315  3.9973  3.64317 5.88678 4.83056 3.0046 ]\n",
      "3\n",
      "[4.31536 6.30621 2.74636 5.30809 6.20098 2.6032  4.5555  4.68485 5.05589\n",
      " 5.07452 5.40475 5.7776  5.26723 6.20704 4.26647 2.57689 4.1963  5.1786\n",
      " 4.97913 6.25229 3.5288  4.32389 4.96229 3.52195 2.91154 5.57973 5.21692\n",
      " 2.90233 3.84529 3.54597 7.46415 5.85102 4.25719 3.13452 2.98048 3.72131\n",
      " 3.59864 4.70835 6.82645 4.0954  5.38715 6.06156 3.19499 6.85591 2.79843\n",
      " 5.79408 4.63693 5.37453 3.46023 4.25575 5.81366 4.91918 6.44067 4.04082\n",
      " 3.04025 3.38899 7.36581 3.62436 3.44098 3.32261 2.56029 4.25959 5.37985\n",
      " 7.06632 5.7097  4.35818 2.50421 5.35968 3.02166 3.9805  3.29432 2.55252\n",
      " 2.0145  5.97541 4.8189  3.12805 6.59624 3.87652 6.05622 5.08848 3.63672\n",
      " 4.58257 5.13664 2.73056 3.56072 3.98555 3.87179 3.17508 5.0002  6.5514\n",
      " 3.52013 3.65177 3.95451 4.27744 6.54874 4.15187 4.94643 5.37438 8.12697\n",
      " 4.06714 6.09071 5.88816 3.67628 7.533   3.53696 3.77493]\n",
      "1\n",
      "[4.99161 3.47297 5.96791 4.86305 3.2897  4.99536 3.61622 4.22162 2.88658\n",
      " 4.92432 1.83671 3.16875 4.86692 3.84712 1.36269 5.49345 2.30234 3.25064\n",
      " 3.42293 4.17239 4.10951 3.97597 3.25523 6.28473 5.10283 3.20575 3.62359\n",
      " 5.92564 5.69642 5.40866 4.67392 3.80319 3.39562 5.25196 4.62233 3.91872\n",
      " 5.9415  4.55471 5.26198 4.59608 3.15988 3.82292 5.83352 4.35427 5.88601\n",
      " 3.63222 1.37448 3.96271 4.50332 1.93569 3.25336 2.72858 4.62116 3.11259\n",
      " 4.69216 6.30328 6.03076 4.15389 5.05445 5.91027 4.8072  3.70991 3.47101\n",
      " 4.65394 7.14261 5.37421 5.15771 3.12081 3.24836 6.58991 5.57242 5.49911\n",
      " 5.18643 3.58075 2.97185 4.08703 4.60281 6.41566 3.58942 2.75804 3.75686\n",
      " 2.25492 2.68588 5.50745 4.4102  2.27401 6.07141 5.02063 3.41922 3.94964\n",
      " 6.13027 5.27766 6.19547 4.50548 4.33633 3.83512 3.85167 3.22226 5.75373\n",
      " 6.16514 3.21777 2.81699 3.47369 5.0052  4.74767 2.79142]\n",
      "3\n",
      "[6.0655  6.9213  4.07177 6.12587 6.52931 4.18612 5.62085 5.95561 5.97358\n",
      " 4.37298 6.12284 6.09359 5.86882 5.94422 6.02192 2.79128 5.91333 5.96379\n",
      " 5.85274 6.14215 5.93357 5.86174 6.03637 4.33999 4.21741 6.35267 6.24945\n",
      " 4.93218 2.71426 5.36923 6.80886 6.21812 6.05148 2.87855 4.33798 5.88547\n",
      " 3.39393 5.88248 8.35776 6.21169 6.01263 6.61102 4.25294 7.06471 4.27326\n",
      " 6.21054 5.53601 7.157   5.08102 5.04607 6.62756 5.78405 6.99607 4.96566\n",
      " 4.60475 4.93276 7.43732 5.58763 4.96429 3.8984  3.86829 6.77192 6.56503\n",
      " 8.05982 8.14447 2.17166 2.7519  5.45803 4.76838 4.65081 5.57267 3.37912\n",
      " 3.42841 6.88299 5.36126 5.09268 7.38033 3.1469  6.21905 5.52756 5.81451\n",
      " 5.30583 5.9047  3.55853 5.4155  5.2942  4.539   2.49517 6.8455  7.11575\n",
      " 1.96948 3.54343 1.85442 6.28221 7.58618 6.32358 6.45031 6.2947  7.36417\n",
      " 3.84213 6.31246 6.45651 6.01679 8.09458 5.76774 5.21134]\n",
      "1\n",
      "[4.49262 3.64409 4.67153 3.24795 4.29977 4.97563 3.7755  5.13645 2.79029\n",
      " 5.55873 3.91244 3.76046 5.64872 5.73726 2.90212 4.86367 2.64072 3.48434\n",
      " 4.45748 4.0975  3.79997 4.49559 3.54297 4.76429 4.87624 3.07499 4.03834\n",
      " 5.02059 5.11214 4.85215 6.07421 4.97189 3.37361 4.15445 4.58998 3.66618\n",
      " 5.25017 5.33345 6.03978 4.70451 3.93526 4.00602 4.631   4.60625 4.67726\n",
      " 3.73558 2.63292 4.59458 4.09369 3.15423 2.73317 3.64357 4.31967 1.79547\n",
      " 4.30558 5.16246 5.16199 4.68231 4.16403 4.68404 4.38822 4.31282 3.35985\n",
      " 4.91821 6.13177 5.52933 4.29085 3.97624 3.48441 5.09855 5.10527 4.423\n",
      " 4.10782 4.15367 3.08555 4.07771 4.20038 5.06857 3.91125 3.08672 4.03435\n",
      " 2.68858 3.32308 4.85168 3.36551 2.89445 5.68806 4.89736 3.18315 4.27191\n",
      " 4.94073 4.94902 5.51516 3.94869 4.50699 3.88317 5.13527 3.90384 7.20702\n",
      " 5.58459 4.11285 4.65913 3.47538 5.10851 4.68635 3.30318]\n",
      "3\n",
      "[3.42094 7.07309 3.53856 4.44622 6.96893 4.11483 4.24119 4.78206 5.17858\n",
      " 6.06792 6.32497 6.06426 5.80091 7.44621 5.09333 3.94326 4.25508 5.02333\n",
      " 5.15887 6.50291 3.21396 4.38686 4.82241 4.18383 3.95194 5.8627  4.85281\n",
      " 3.19106 5.33206 3.14565 8.61668 7.021   3.69007 3.86226 4.16454 3.80269\n",
      " 4.87829 5.17947 6.3009  3.73224 6.50249 6.83869 3.37192 7.77523 3.40625\n",
      " 6.59022 5.44876 4.79014 3.12418 5.44501 6.02916 6.25053 5.88277 3.88217\n",
      " 3.7205  3.57471 6.5313  3.90374 3.29527 3.82293 3.87798 4.40516 5.6772\n",
      " 7.07792 4.38541 5.73152 3.38352 6.38636 3.87669 4.30582 3.29401 3.67936\n",
      " 2.86398 5.66018 5.60707 3.29551 6.5337  4.91699 6.83643 5.8189  3.80131\n",
      " 5.10529 6.00445 4.30929 3.09534 4.87845 5.29678 5.15881 4.98025 6.97967\n",
      " 4.46578 4.41896 5.21743 3.19621 5.65202 3.7999  5.62671 5.84113 8.8261\n",
      " 5.35249 6.57424 6.53701 3.27909 7.96895 3.32032 3.95685]\n",
      "1\n",
      "[5.7247  2.66873 6.46283 6.52985 3.07119 5.80212 5.34225 4.92854 3.58452\n",
      " 5.52805 2.23997 3.26492 6.23616 4.31688 2.90309 6.14761 3.99675 4.82492\n",
      " 5.12391 4.14678 5.66091 5.30054 4.87824 6.4355  5.59512 3.47331 4.89989\n",
      " 6.08067 5.25286 5.58577 5.07252 2.45063 5.42452 5.63263 5.29448 4.6681\n",
      " 5.5219  5.05822 6.42552 6.35958 1.22551 2.13458 6.23441 3.24351 6.53884\n",
      " 2.32527 2.78549 5.5845  5.43044 2.01785 3.46198 2.05417 6.54982 4.09452\n",
      " 5.41862 6.82919 7.08995 5.68028 6.04507 6.20082 4.86403 5.81238 3.34117\n",
      " 4.10776 7.71655 5.65902 5.60494 1.7646  5.05639 6.80673 5.9999  5.77127\n",
      " 5.56988 4.70207 2.73247 5.69586 4.34394 5.95007 2.63112 2.56868 5.2489\n",
      " 3.58156 1.47803 5.53967 5.95576 2.33281 6.32447 5.11854 3.54915 2.80054\n",
      " 6.03721 5.39932 6.12843 5.99458 5.54485 5.88292 5.53815 4.32579 6.38246\n",
      " 6.30188 3.28719 4.62852 5.35201 3.72294 6.03452 4.83477]\n",
      "2\n",
      "[3.41779 5.62314 4.91663 3.56092 5.58955 4.49435 2.31658 3.84254 3.56791\n",
      " 4.73788 4.55312 4.58159 4.44069 5.66435 3.374   4.16095 2.43311 3.08719\n",
      " 3.34633 5.45455 2.74615 3.13615 2.66298 5.68338 4.60347 4.4102  2.38023\n",
      " 4.9407  5.68396 4.07294 6.00857 5.8258  1.43795 3.78125 3.98893 3.24609\n",
      " 5.74056 4.75478 4.81661 3.68433 5.41239 5.81601 4.41602 6.40145 4.91232\n",
      " 5.48319 3.42882 2.83442 3.154   3.98605 4.80499 5.09522 4.01681 2.94153\n",
      " 3.84432 5.04289 5.11001 3.39928 4.08658 5.1881  4.57225 2.84164 4.87541\n",
      " 6.39208 5.36081 4.83552 3.8597  4.99795 2.27166 5.76372 4.52645 4.65334\n",
      " 4.18133 3.09704 4.34034 3.02726 5.57675 5.97596 5.29012 4.51967 2.92862\n",
      " 3.57465 4.68256 5.29961 2.77821 3.55041 5.63633 5.14347 4.27749 5.66704\n",
      " 5.23535 4.32793 5.45249 2.03944 4.18406 2.13945 3.79923 3.2095  6.65925\n",
      " 5.9545  4.94181 3.90339 2.42174 7.05069 3.74797 1.81462]\n",
      "2\n",
      "[3.40345 6.1666  5.54149 5.74067 6.20122 4.67086 2.93272 2.626   4.49593\n",
      " 4.69522 4.58596 5.09931 3.26967 4.98596 3.70954 4.62444 3.16775 3.83783\n",
      " 3.14061 6.76446 3.58166 2.19309 3.05469 6.49397 4.37419 5.47899 3.02821\n",
      " 4.61171 5.75358 3.79488 6.14273 5.44541 2.7318  4.81519 3.84081 4.11826\n",
      " 5.64447 3.39309 3.4201  3.69611 5.31299 6.08608 4.7021  6.99983 5.63529\n",
      " 5.79577 4.18214 2.90057 3.44711 4.17337 6.1002  5.61855 5.27061 4.58282\n",
      " 3.6372  5.183   6.01611 2.31703 4.37252 5.86419 4.77016 2.53695 5.76132\n",
      " 6.55126 6.04942 4.90176 4.6355  4.85099 3.57039 6.19909 3.74939 5.09891\n",
      " 4.80985 3.54486 5.25096 2.97953 6.0008  6.5078  5.75009 4.96221 1.97676\n",
      " 4.50995 4.68949 5.62111 3.75816 3.50659 5.07454 5.14459 5.08201 6.0633\n",
      " 5.88384 4.6867  5.8326  2.72333 4.20084 2.95653 2.71681 3.64277 5.98296\n",
      " 6.22252 5.76429 4.35627 2.87402 7.27361 3.13196 2.95221]\n",
      "2\n",
      "[3.92779 5.96789 5.68896 5.75998 6.42152 4.32213 3.86484 2.83872 5.0842\n",
      " 5.07887 4.48005 5.7403  3.23395 4.96057 3.62299 4.73549 3.0229  3.7578\n",
      " 3.9757  7.18355 3.42435 1.57146 3.96242 6.47574 4.4725  5.83859 3.87317\n",
      " 5.10131 5.89481 4.59513 5.94237 5.59496 3.28988 5.07657 3.89391 3.95339\n",
      " 6.17801 3.59222 3.24115 3.73963 5.48088 6.37256 5.32374 7.30812 5.3716\n",
      " 5.98385 4.13465 3.0575  4.02159 4.1172  6.12855 5.5531  5.57551 4.95967\n",
      " 3.69425 5.20606 6.7405  2.14825 4.28384 6.12504 4.75631 1.6459  5.83182\n",
      " 6.70764 6.51737 5.47154 4.93888 5.09697 3.00936 6.32495 4.45627 5.42092\n",
      " 5.11386 4.2025  5.60066 2.79088 6.37243 6.89139 6.22304 5.01427 2.02701\n",
      " 4.49131 4.97404 5.77788 3.75494 3.57618 5.13227 5.11981 5.47268 6.64756\n",
      " 6.3359  5.34207 6.45463 3.43474 4.38799 3.03054 1.47132 4.16228 6.53358\n",
      " 6.27327 6.13548 3.72492 2.83711 7.45713 3.05519 3.46234]\n",
      "1\n",
      "[5.47491 2.47356 6.59033 5.66815 2.5489  6.49395 4.30038 5.67676 1.98237\n",
      " 6.21058 3.10949 2.18986 6.71718 5.67195 2.60286 6.27672 3.10659 4.86108\n",
      " 4.33147 3.72446 4.84644 5.52756 4.23668 6.782   6.29136 1.16411 4.37337\n",
      " 6.25095 5.98647 5.58223 5.79692 4.24772 4.50578 5.88014 5.96199 4.21059\n",
      " 5.93532 6.25459 6.57495 6.07267 2.9051  2.39477 6.25078 2.72319 6.63191\n",
      " 1.8494  1.96534 4.8603  5.60105 2.93784 2.50867 2.98991 5.45676 3.46425\n",
      " 5.57236 7.41881 5.95792 5.6686  6.08429 6.02808 5.669   5.37759 2.07856\n",
      " 3.58777 6.89141 6.01477 5.78474 3.01726 4.53039 7.02999 5.93364 5.73359\n",
      " 5.79599 3.5946  1.85813 5.37042 2.85166 6.27494 1.99764 2.17931 5.34013\n",
      " 3.52585 2.38731 5.52315 5.78226 2.93897 7.02075 5.66001 2.50121 2.25683\n",
      " 6.24333 5.60853 6.14224 5.17541 5.15802 4.93416 5.98395 3.68594 6.98661\n",
      " 6.76219 2.35744 4.4471  4.48548 3.28447 5.87645 4.34843]\n",
      "2\n",
      "[4.13585 6.11557 5.04958 4.8964  5.91632 4.15641 2.24429 3.41022 4.24165\n",
      " 5.14126 4.22422 4.92005 3.15114 4.762   3.32825 4.58401 3.07164 3.36323\n",
      " 3.42854 6.3397  3.64548 2.90475 2.655   6.03579 4.15152 5.16961 3.23159\n",
      " 4.71851 5.74197 4.14578 5.96783 5.36416 1.70849 4.8602  3.44579 4.01483\n",
      " 5.73226 3.62772 4.30735 2.9006  5.24261 6.01251 4.47077 6.65348 5.25005\n",
      " 5.69378 3.67861 3.21272 3.52272 4.04892 5.61657 5.1515  4.79711 3.97074\n",
      " 4.17448 5.1334  6.25177 2.6044  4.04062 5.55408 4.5991  2.00367 5.57465\n",
      " 6.65757 6.43164 4.97801 4.66322 4.79896 2.80871 5.9573  4.16438 4.83246\n",
      " 4.7048  3.73444 4.99626 2.79886 6.34614 6.43856 5.64043 4.88937 1.97282\n",
      " 4.04133 4.61846 5.35979 3.13132 3.6532  4.89782 5.03086 4.90924 5.85994\n",
      " 5.78338 5.10272 5.82329 2.92159 4.57757 2.71666 2.73277 3.69206 5.53016\n",
      " 5.77426 5.50287 3.92445 2.65463 7.4127  3.34347 1.84638]\n",
      "1\n",
      "[7.10461 2.30148 7.68713 7.38549 3.55991 7.48333 6.27307 6.75581 4.1347\n",
      " 7.3815  3.70351 3.73202 7.60927 5.84459 4.36799 7.56984 5.16339 6.10606\n",
      " 6.40933 4.89499 6.90807 6.80217 6.05167 7.51711 7.17325 3.49382 6.36192\n",
      " 7.2043  6.47847 6.80017 6.06403 3.6531  6.59988 7.11668 6.89683 5.8335\n",
      " 6.56474 6.86049 7.63398 7.64226 2.31333 1.58098 7.38325 2.44467 7.72628\n",
      " 1.92715 3.81049 6.84395 7.07536 3.7371  3.61902 3.40447 7.37245 5.15617\n",
      " 6.79966 8.25289 7.51732 7.18808 7.16408 7.15925 6.43131 7.07637 3.39728\n",
      " 3.60551 8.6243  7.03031 7.12689 2.66261 6.42125 7.73179 7.09135 6.83612\n",
      " 7.00975 5.54184 3.51577 6.96536 4.12677 6.92602 2.47893 3.0087  6.72088\n",
      " 5.04878 2.54735 6.55286 7.26066 3.86691 7.51744 6.43039 4.29655 2.45929\n",
      " 7.20388 6.86794 7.30145 7.11775 6.38484 7.13746 7.21446 5.41744 7.3641\n",
      " 7.36758 3.93692 5.83243 6.57822 2.57755 7.24483 6.33903]\n",
      "2\n",
      "[4.57917 4.75402 7.3236  5.52166 5.08666 7.43064 4.01352 5.73459 3.16759\n",
      " 7.30812 5.24525 3.93096 7.02902 7.52803 4.27881 6.89414 3.05755 5.09426\n",
      " 4.53757 5.72204 4.08583 5.12791 4.53472 7.72947 7.10658 3.17054 4.07943\n",
      " 6.50903 7.32787 5.35581 7.39116 6.54664 3.99177 6.59284 6.82543 4.07972\n",
      " 7.12858 7.02186 5.44765 5.8193  5.62861 5.12584 6.64526 5.69472 7.01073\n",
      " 4.42082 3.92777 3.48018 5.75487 5.14519 4.35551 5.85095 5.16003 4.4417\n",
      " 5.83275 7.85565 5.10159 5.45586 6.13756 6.64962 6.76508 4.93252 3.65426\n",
      " 4.57299 5.53084 7.19183 6.47624 5.35748 4.80007 7.58813 5.82291 6.5204\n",
      " 6.55981 2.76387 4.35859 5.14528 3.2479  7.46977 4.79552 4.17641 5.3763\n",
      " 5.0337  4.9451  6.60856 5.80659 4.59071 7.97852 7.07201 3.69958 4.72867\n",
      " 7.2238  6.38076 7.23475 3.91344 4.07501 4.09857 6.17915 4.37573 8.3052\n",
      " 7.93459 4.37508 5.06293 3.77842 5.19696 5.39538 4.86663]\n",
      "2\n",
      "[3.46431 6.97686 5.56174 7.15725 6.86427 4.3306  5.37237 2.8466  5.75637\n",
      " 5.9095  5.60422 6.16416 5.42266 6.36421 5.0625  5.16895 4.87927 5.4297\n",
      " 5.85702 7.34799 4.26961 3.67821 5.60352 5.96026 3.83481 6.5835  5.16462\n",
      " 3.46176 5.77465 2.27167 7.80307 5.25391 4.90819 5.2707  3.94032 3.67108\n",
      " 5.10011 3.65635 5.00938 4.39307 5.55652 6.37481 4.97625 7.84491 5.21568\n",
      " 6.40796 5.74739 4.62881 3.35033 4.95182 6.8346  5.75657 7.90239 5.45911\n",
      " 3.85181 4.72265 8.04313 3.84424 4.62451 5.83086 3.74369 4.68769 5.98934\n",
      " 6.86097 4.94312 6.18098 4.80689 5.45412 4.86228 5.90348 3.13    5.22222\n",
      " 4.28947 5.8646  5.8523  4.19206 7.13016 6.03138 6.89159 5.93209 3.77991\n",
      " 6.00195 5.55646 5.43407 5.08225 4.37509 5.28552 5.64621 5.21336 6.6908\n",
      " 5.93898 4.60317 6.49578 4.17403 5.82754 4.89048 4.89463 5.92101 8.29957\n",
      " 6.27868 6.56902 6.54146 4.4615  7.81361 3.56984 4.92244]\n",
      "3\n",
      "[6.52154 6.81169 3.2172  5.41985 6.62159 3.55346 5.72441 6.04377 6.12788\n",
      " 4.80244 5.68396 6.24139 5.42992 5.36869 5.74682 3.57928 5.93055 5.30862\n",
      " 6.09028 5.95449 6.36877 5.915   5.73599 3.35805 3.73462 6.52403 6.1863\n",
      " 5.05277 2.44557 5.88951 6.61141 6.03052 5.89748 3.27368 3.56539 6.25018\n",
      " 3.88314 5.38461 8.16518 5.97309 5.72795 6.56443 3.73158 6.83232 3.88118\n",
      " 6.29212 5.3986  7.31479 5.17186 4.96313 6.22993 5.51209 6.45728 4.60156\n",
      " 5.22377 4.28871 7.50927 5.58123 4.57535 3.62023 3.49547 6.44189 6.74506\n",
      " 8.05066 8.7513  2.94584 3.45623 5.43427 4.89171 3.98068 5.78138 3.21369\n",
      " 3.6044  6.9334  5.69086 5.2961  7.64117 3.33765 6.28886 5.53455 5.48867\n",
      " 4.62237 5.61874 3.66075 4.66859 5.2186  3.86682 2.50067 6.92139 6.97793\n",
      " 2.72871 4.82789 3.09157 6.45461 7.32697 6.43746 6.00246 6.22232 6.91048\n",
      " 2.93202 6.53716 6.12542 6.11602 8.06073 5.95855 4.86363]\n",
      "3\n",
      "[4.97337 7.77451 2.57236 6.43226 7.60905 3.77097 5.2221  5.58838 6.24105\n",
      " 6.36572 6.88674 6.75007 5.87893 7.43893 6.04585 3.14344 5.64389 6.40857\n",
      " 6.06203 7.55996 4.99166 5.38397 6.02127 3.66366 3.40417 6.76764 6.27836\n",
      " 2.21654 3.52578 3.44559 8.89053 7.07694 5.34258 4.04258 3.79954 5.11344\n",
      " 3.16361 5.4502  7.57472 4.89367 6.66351 7.20861 2.46493 7.9916  3.03663\n",
      " 6.69748 6.16122 6.42065 4.56517 5.96926 7.26574 6.68776 7.43968 5.3569\n",
      " 4.28726 3.81385 8.03517 4.45996 3.83044 2.76028 3.47509 5.62898 6.70719\n",
      " 8.04021 6.35699 4.55251 3.31214 6.39426 4.66656 3.58143 3.04472 2.11524\n",
      " 2.91513 6.84276 6.23321 4.12286 7.44215 3.49532 7.1657  6.27985 4.75226\n",
      " 6.13437 6.39249 2.35283 4.69482 5.54859 3.71249 3.49212 6.43419 7.52515\n",
      " 3.02273 4.53603 3.24391 5.14358 7.4125  5.50812 6.21427 6.75462 8.64832\n",
      " 3.75552 7.36599 7.28445 4.88003 8.54247 4.18435 5.19107]\n",
      "3\n",
      "[5.16414 6.75681 2.5395  5.85241 6.79247 3.2549  5.12442 5.49279 5.76039\n",
      " 5.95928 6.08667 6.15518 5.62849 6.73172 5.57313 2.67561 5.14645 5.7975\n",
      " 5.93072 6.82264 4.78425 5.04875 5.98247 3.05509 3.22102 6.06769 6.21851\n",
      " 2.84995 2.46257 3.9023  7.94225 6.38547 5.32969 3.52237 3.5118  4.65504\n",
      " 2.81345 5.49132 7.49326 4.95266 5.92612 6.44105 2.87783 7.17675 2.20932\n",
      " 5.85663 5.35026 6.32114 4.72122 5.16547 6.3674  5.88196 7.0539  4.80094\n",
      " 4.00851 3.91346 7.68778 4.42173 3.41204 2.10881 2.82985 5.49    5.86023\n",
      " 7.31279 6.77496 3.85774 2.92353 5.5627  3.92667 3.18104 3.63354 1.56952\n",
      " 2.71281 6.53543 5.52118 3.8213  6.88821 2.8966  6.45669 5.26907 4.81274\n",
      " 5.44244 5.78162 1.30048 4.57092 4.95623 3.50838 2.26889 6.18311 6.99333\n",
      " 2.44228 4.28943 2.89003 5.27979 7.004   5.45844 5.90914 6.41391 8.34595\n",
      " 2.86841 6.61321 6.36302 4.78132 7.73759 4.11989 5.02448]\n",
      "2\n",
      "[3.18859 5.50216 5.52876 4.62353 5.05922 4.45276 2.95301 2.99166 3.63186\n",
      " 3.81038 4.22308 4.28748 3.85578 4.74886 3.44049 4.25391 2.61817 2.91964\n",
      " 3.22718 5.54576 2.62982 2.31463 3.06547 6.0984  4.21707 4.70603 2.96004\n",
      " 4.91967 5.43713 4.01279 5.02612 5.03015 2.41457 4.21    3.91827 3.34959\n",
      " 5.29323 4.14142 4.12222 3.25409 5.13664 5.77986 5.0669  6.56655 5.10986\n",
      " 5.30401 3.36782 2.72307 2.70357 3.61785 5.18538 4.77959 4.72946 3.56122\n",
      " 3.15292 5.38709 5.15672 2.70058 4.15317 5.61524 4.42988 3.08263 5.08428\n",
      " 6.43875 5.84205 4.61682 4.09438 4.59696 2.54749 5.99155 4.61045 5.02906\n",
      " 4.27048 3.68624 4.19588 2.67806 5.72421 5.85848 5.49876 4.34224 2.83264\n",
      " 3.70237 4.80941 5.51691 3.67528 3.57395 5.44085 4.82688 4.64082 5.86962\n",
      " 5.29009 4.00868 5.47528 2.63102 4.03045 2.20211 3.09032 3.50352 6.15704\n",
      " 6.10782 4.49656 3.9498  2.49759 7.04307 3.41851 2.27451]\n",
      "1\n",
      "[3.66272 4.26582 5.6924  5.41662 4.35973 5.00017 3.19428 2.93019 3.21478\n",
      " 4.44348 3.05478 3.37077 4.15223 4.20432 2.74937 4.9324  2.38998 3.42938\n",
      " 2.75619 5.08372 3.80023 2.82278 3.1101  6.1556  4.56597 3.89788 3.17167\n",
      " 4.84333 5.07882 4.12229 5.47591 4.11627 3.43013 4.75401 4.3326  3.88884\n",
      " 5.09939 3.60588 4.0117  4.38512 3.57921 4.19907 5.03536 5.30257 5.5998\n",
      " 3.92553 2.83899 3.3915  3.8036  2.66269 4.42067 4.20449 4.87513 3.59438\n",
      " 3.68007 5.598   5.35996 3.17347 4.42263 5.41997 4.47025 3.748   4.01651\n",
      " 4.52778 6.41182 4.69461 4.5558  3.15196 3.80812 6.00078 4.19719 4.96417\n",
      " 4.66848 3.0976  3.71488 3.42416 4.16351 5.86474 4.02287 3.0061  3.03687\n",
      " 3.26609 2.98971 5.14246 4.26736 2.15454 5.46508 4.64837 3.8839  4.38928\n",
      " 5.47996 4.40568 5.49413 3.64264 3.34626 3.7361  3.70067 3.44303 5.80489\n",
      " 5.92351 4.06396 3.77182 3.12872 5.13448 3.64523 3.28636]\n",
      "2\n",
      "[2.81808 6.30513 4.74968 5.19241 6.36401 4.05258 3.55275 2.81801 4.81582\n",
      " 5.2339  5.0584  5.44243 3.81481 5.74712 4.09445 4.37588 3.16121 3.91876\n",
      " 3.79543 6.73348 2.75195 1.99695 3.92396 5.426   3.63274 5.69846 4.14443\n",
      " 3.5595  5.41326 3.28401 7.31806 5.90074 3.12202 4.68814 3.74658 3.75341\n",
      " 5.12873 3.32138 3.75208 2.65078 5.62739 6.3069  4.27231 7.48578 4.32829\n",
      " 6.00805 4.61766 3.37149 2.88728 4.45997 5.95956 5.79278 5.40885 4.29156\n",
      " 2.83236 4.09083 6.10829 1.47809 3.02547 4.90496 4.04432 2.64525 5.4797\n",
      " 6.20837 5.38299 5.4874  4.2128  5.37749 3.55157 5.1027  2.86806 4.51055\n",
      " 3.89152 4.6974  5.48436 1.84453 5.95298 5.87215 6.38639 5.0016  1.80061\n",
      " 4.50671 5.17047 4.95772 3.0977  3.82722 4.84341 4.91047 4.97442 6.58732\n",
      " 5.4611  4.68053 5.87552 2.66859 3.95196 2.90352 3.41363 4.98532 7.36123\n",
      " 5.70752 6.09864 5.17215 2.0737  7.25791 1.3918  3.44344]\n",
      "1\n",
      "[5.86571 2.33727 6.51112 5.5266  2.41817 6.22135 4.42608 5.63451 2.42373\n",
      " 4.94879 2.8763  2.23009 5.899   4.34756 3.12023 5.85796 3.63793 4.31494\n",
      " 4.04458 3.61079 5.30427 5.28729 4.04307 6.59754 5.9196  2.41826 4.56663\n",
      " 6.40274 5.31424 6.06074 4.1054  3.66733 4.8606  5.3821  5.52938 5.03614\n",
      " 5.4083  5.96999 6.54231 6.16343 2.65814 2.67406 6.15496 2.7573  6.52337\n",
      " 2.3955  1.98374 5.43051 5.49869 2.46532 2.95129 2.93682 5.07883 3.53965\n",
      " 5.15827 7.1161  5.14855 5.54829 5.90201 5.99757 5.45747 5.58483 3.31833\n",
      " 4.38397 7.88126 4.85393 5.51351 2.44976 4.67589 6.67063 6.16889 5.55898\n",
      " 5.60533 4.07781 2.19978 5.3052  3.63201 5.77552 2.02687 1.75694 5.27694\n",
      " 3.1512  2.52637 5.59411 5.64955 2.96434 6.35599 4.86979 4.04766 3.06917\n",
      " 5.76397 5.18671 5.63079 5.44782 5.08161 5.17742 5.6156  3.34143 6.03533\n",
      " 6.27499 2.48471 4.18819 5.00089 3.74832 5.96093 4.27154]\n",
      "1\n",
      "[4.93217 2.56375 6.2548  5.11241 2.60277 5.91309 4.17516 5.18503 1.98713\n",
      " 5.79832 3.00265 2.49595 6.34956 5.51943 2.17882 5.9494  2.51696 4.31053\n",
      " 3.99295 3.69361 3.97655 4.85693 4.06093 6.34875 5.76556 1.73178 4.20757\n",
      " 5.8357  5.92882 5.25516 5.81294 4.26879 4.10739 5.55949 5.50417 3.60529\n",
      " 5.75179 5.86726 6.05328 5.36599 3.09069 2.88211 6.03897 3.53881 6.02655\n",
      " 2.69051 1.88869 4.37509 4.95355 2.62374 2.28456 2.86076 5.13371 3.04726\n",
      " 4.84284 6.8053  5.61511 5.00282 5.45878 5.72919 5.1461  4.68821 1.7614\n",
      " 3.49356 6.27074 6.00678 5.42382 3.37595 3.98968 6.59861 5.44312 5.49119\n",
      " 5.24696 3.73567 2.06642 4.66687 3.08299 6.12347 2.92832 2.11839 4.74933\n",
      " 3.11456 2.77327 5.3436  5.15823 2.63923 6.74161 5.46437 2.24542 3.12967\n",
      " 6.17682 5.27108 6.30475 4.55614 4.58849 4.20906 5.47023 3.63159 7.41964\n",
      " 6.55843 2.55106 4.24588 3.77865 3.65609 5.12005 3.90425]\n",
      "2\n",
      "[4.12371 5.83678 5.19431 4.22224 5.78244 4.49584 1.86832 3.84884 4.02455\n",
      " 4.88154 4.51307 4.7077  2.86332 4.86286 3.84093 4.31902 2.87854 2.92809\n",
      " 3.08937 6.23431 3.30318 2.52301 2.79049 5.98351 4.35789 4.95201 3.6084\n",
      " 4.88677 5.5612  4.4898  5.63836 5.71093 1.93453 4.65142 3.87358 4.1838\n",
      " 5.55041 4.32543 4.23685 2.85104 5.53069 6.08246 4.62585 6.71157 4.95496\n",
      " 5.61246 3.57843 3.30943 3.70344 4.1731  5.42197 5.51077 4.04715 3.8079\n",
      " 3.67564 5.20624 5.06526 2.42849 3.56163 5.30531 4.82353 2.30336 5.40779\n",
      " 6.44594 6.60601 4.58012 4.52529 4.86519 2.62705 5.63737 4.33862 4.72166\n",
      " 4.66049 3.72617 4.96101 2.0764  5.94012 6.1888  5.65125 4.46058 2.39472\n",
      " 3.99712 4.96846 5.34386 3.04281 3.91555 4.95726 4.75693 5.32865 6.14077\n",
      " 5.49612 4.91848 5.60804 2.65723 3.91353 2.42521 3.06973 3.81658 5.76127\n",
      " 5.67777 5.35155 3.74687 2.43505 7.21778 2.91116 2.29185]\n",
      "3\n",
      "[4.49467 6.44257 2.75744 4.73227 6.42274 3.21112 4.73441 5.15011 5.14378\n",
      " 4.89511 5.94599 5.82658 5.17007 6.33964 5.15588 2.77382 4.766   4.91019\n",
      " 5.29865 6.20147 4.00916 4.49452 5.06746 2.9809  2.84167 5.86056 5.64077\n",
      " 2.785   3.70042 3.81129 7.39346 6.06476 4.62667 2.86911 3.16498 4.48238\n",
      " 3.02906 5.05725 6.93462 4.17715 5.71669 6.24808 2.92047 7.09386 2.43877\n",
      " 6.11099 5.14909 5.93833 3.29651 4.72662 5.85192 5.48685 6.1798  3.88043\n",
      " 2.70339 2.74777 6.31281 4.02753 2.84921 3.05476 2.74596 4.94569 5.71761\n",
      " 7.177   5.97595 4.17618 2.5893  5.57969 3.94647 2.91171 3.37962 2.43751\n",
      " 1.56293 6.38351 5.15878 3.29837 6.69872 3.08961 6.33734 5.15542 4.01719\n",
      " 4.84934 5.60624 3.32843 3.34546 4.53734 3.61745 3.31817 5.6373  6.85417\n",
      " 3.02579 3.53787 4.02128 4.21994 6.22579 4.53623 5.57604 5.70718 8.31487\n",
      " 3.91599 6.32221 6.53836 4.266   7.62863 3.60318 4.19844]\n",
      "1\n",
      "[5.85862 1.51324 6.64565 6.11728 3.02692 6.46423 5.00417 5.82387 2.83658\n",
      " 5.82248 3.19008 3.04349 6.4676  5.16568 3.01735 6.1155  3.6945  4.99604\n",
      " 4.87508 4.35612 5.3755  5.50756 4.63684 6.70793 6.2216  2.49349 5.01464\n",
      " 6.34062 5.65419 5.96634 4.98825 3.62114 5.22978 5.65947 5.85692 4.76452\n",
      " 5.70676 6.11609 6.69454 6.55274 2.20078 1.9338  6.36779 2.57418 6.69391\n",
      " 1.71396 2.36621 5.60742 5.79283 2.51453 3.0356  2.73644 5.97879 3.98895\n",
      " 5.27462 7.16619 6.12525 5.88086 6.14777 6.30456 5.59198 5.68482 2.96155\n",
      " 4.05013 7.57295 5.76648 5.76146 2.35612 4.9362  6.86668 6.16858 5.78942\n",
      " 5.80211 4.41829 2.28769 5.6062  3.35411 6.02289 1.80172 2.0359  5.40822\n",
      " 3.78776 1.93315 5.7313  5.90389 2.60293 6.54878 5.32312 3.5237  2.78258\n",
      " 6.11632 5.51554 6.12316 5.68728 5.53733 5.49797 5.89904 3.77466 6.80717\n",
      " 6.67084 3.25073 4.7906  5.15319 3.18309 6.10736 4.92429]\n",
      "1\n",
      "[5.05972 2.18511 6.095   5.67254 3.37133 5.79136 4.53998 5.02229 2.85118\n",
      " 5.97435 2.84261 3.19677 6.16182 5.33619 2.25905 5.84693 2.80602 4.61708\n",
      " 4.38183 4.39901 4.48943 4.76673 4.37945 6.1912  5.66921 2.51479 4.5755\n",
      " 5.63182 5.63887 5.20811 6.03498 3.93664 4.58809 5.47942 5.39682 3.88079\n",
      " 5.66519 5.40954 5.97793 5.73499 2.3842  2.3252  5.87819 3.48569 6.01492\n",
      " 2.35404 2.28689 4.79712 5.20614 2.28358 2.78236 2.88016 5.67757 3.54176\n",
      " 4.78267 6.45755 6.29072 5.04001 5.38314 5.71306 4.97428 4.79487 2.09009\n",
      " 3.14097 6.63593 5.98901 5.36373 2.77687 4.34585 6.43015 5.25082 5.38063\n",
      " 5.258   4.03443 2.63567 4.78782 3.08675 6.0742  2.62306 1.99739 4.60397\n",
      " 3.38201 1.77436 5.19407 5.17761 1.86898 6.37261 5.2504  2.59767 3.03325\n",
      " 6.10372 5.34775 6.26581 4.96791 4.76359 4.83129 5.37388 3.95126 7.27563\n",
      " 6.35737 3.53073 4.40043 4.15629 3.20529 5.07505 4.43527]\n",
      "1\n",
      "[6.22726 2.95329 6.81654 5.64807 2.70462 6.65318 4.60127 6.09584 2.63992\n",
      " 6.09411 2.97983 2.64917 6.90687 5.34545 2.76286 6.60818 3.83588 5.03973\n",
      " 4.40064 3.13025 5.64194 6.14909 4.20934 6.99097 6.61682 2.04757 4.58015\n",
      " 6.88108 6.4594  6.31843 5.82452 4.32053 4.85045 6.00245 6.19543 5.08063\n",
      " 6.46905 6.32773 7.26326 6.54477 2.88515 2.51561 6.56079 2.45361 7.15034\n",
      " 2.91056 2.44437 5.63218 5.89885 2.9039  2.49243 2.79967 5.34161 3.44663\n",
      " 6.10496 7.52868 6.26852 6.26577 6.54754 6.46395 5.98215 5.87953 2.79267\n",
      " 3.95705 7.62775 6.11164 5.99637 3.23088 5.08787 7.42084 6.54841 6.17404\n",
      " 6.0567  4.15785 2.27972 5.96042 3.74052 6.73379 1.71458 2.82026 5.68896\n",
      " 3.3179  2.14238 6.06251 5.87018 3.10119 7.3754  6.05689 2.86339 2.16318\n",
      " 6.59305 5.82167 6.50691 5.7925  5.62905 5.55752 6.37563 3.82948 6.6467\n",
      " 7.00523 2.75526 4.64169 5.19709 3.61653 6.51951 4.35111]\n",
      "3\n",
      "[8.04273 6.83659 5.67928 7.2994  6.66957 6.17315 5.92773 7.56506 6.32593\n",
      " 7.6619  6.1776  5.87793 6.24377 6.2979  6.84348 6.18822 6.80812 6.66211\n",
      " 6.72634 7.19962 7.62025 7.06368 6.8412  5.78797 5.69398 6.34752 7.7894\n",
      " 5.8142  4.15948 6.73782 7.66236 6.47683 6.98347 6.76733 5.60093 7.37955\n",
      " 4.52828 7.1308  8.65453 6.76183 5.98889 6.24961 5.30736 6.29322 5.72499\n",
      " 5.71855 5.91709 8.14943 7.48034 6.19768 6.66621 6.69889 7.42724 6.23611\n",
      " 6.83574 7.10931 7.7868  6.44739 5.60077 4.48747 5.6773  7.27156 6.53093\n",
      " 6.95811 9.96797 4.64165 6.50901 5.41853 6.40343 5.30033 5.87576 4.41375\n",
      " 6.2252  7.21526 6.43352 6.09353 7.18651 5.18809 6.16722 5.20595 6.78614\n",
      " 6.42827 6.12192 4.07711 6.86959 6.34128 4.95164 3.95615 7.7776  6.61088\n",
      " 5.31727 7.03366 5.00514 7.43263 7.55774 7.60638 7.48536 7.2428  7.34846\n",
      " 3.91727 6.73587 6.7213  7.00379 7.08628 6.38084 6.54752]\n",
      "3\n",
      "[6.04102 8.00603 2.76306 5.1532  8.02224 2.9712  5.78329 5.47252 7.00545\n",
      " 6.09581 6.55074 7.29018 4.28043 6.00833 6.53261 4.47268 6.25563 4.77431\n",
      " 6.76394 7.49812 6.20772 5.0847  5.90056 2.78953 2.49292 7.79346 6.65725\n",
      " 3.92554 3.86757 5.29046 7.89725 6.77254 5.57331 4.53189 2.79556 6.41304\n",
      " 4.48774 4.23473 6.89347 4.29511 6.80997 7.77088 3.08202 8.54512 2.84233\n",
      " 7.57749 6.51424 7.04797 4.49142 6.10312 7.19088 6.86911 6.65143 5.15686\n",
      " 5.0316  2.22138 7.59557 4.60666 2.69229 3.80017 3.36575 5.64706 7.6851\n",
      " 8.49174 8.36855 5.06176 4.47746 6.54279 5.3997  2.57431 4.79754 3.63683\n",
      " 3.70418 7.51166 7.23823 4.49933 8.60402 4.37354 7.98039 6.62117 4.4663\n",
      " 5.54533 6.73741 4.64634 3.44105 6.00239 2.88523 4.09991 7.60943 8.17494\n",
      " 4.20582 6.00529 5.33197 5.78689 6.51412 6.15018 5.42956 7.21659 7.51959\n",
      " 3.24963 7.92918 6.9642  5.70877 9.14804 4.60406 5.058  ]\n",
      "2\n",
      "[4.64633 4.23171 6.84443 5.16319 4.70482 6.77414 2.89194 5.04557 2.48989\n",
      " 6.14636 4.16459 3.31125 5.71687 6.00337 3.39744 6.20778 2.74519 4.14068\n",
      " 3.61958 5.2794  4.42538 4.54313 3.02647 7.43043 6.49313 2.92023 2.90508\n",
      " 6.30877 6.74984 5.19695 5.8033  5.42022 3.14305 5.77474 5.88921 4.27305\n",
      " 6.68907 5.98666 4.99626 5.56433 4.59529 4.38002 5.99084 4.80832 6.96614\n",
      " 3.96947 2.96331 3.39248 5.19786 4.07199 4.07369 5.02221 4.43828 3.82511\n",
      " 5.40467 7.22896 4.68579 5.0489  5.84534 6.57772 6.27819 4.33342 3.93937\n",
      " 4.81842 6.30457 5.99634 5.88915 4.11667 4.3548  7.28751 5.6057  6.09224\n",
      " 6.16707 1.38403 3.76735 4.8605  3.67733 7.12682 3.59474 3.60488 4.50636\n",
      " 4.2098  3.66477 6.45343 5.04792 3.48315 7.04557 6.38746 3.69702 3.8357\n",
      " 6.68811 5.70773 6.57819 3.57902 3.86816 3.87902 5.18551 2.65499 6.39166\n",
      " 7.34826 4.0041  4.07037 3.8591  5.11813 5.30122 3.76824]\n",
      "3\n",
      "[6.76885 6.63982 4.46191 6.60766 6.55418 5.22225 4.93391 6.51595 5.69319\n",
      " 6.88958 5.83928 5.54433 5.43779 6.13134 6.01628 5.07739 5.87065 6.04319\n",
      " 5.71544 6.94539 6.48612 6.02401 5.85105 4.92316 4.65586 5.91444 6.74968\n",
      " 4.42201 3.5188  5.44811 7.73581 6.255   5.9059  5.71786 4.58876 6.43406\n",
      " 3.66095 6.08464 7.70591 5.7457  5.62999 5.99437 3.89865 6.30889 4.75395\n",
      " 5.49429 5.41869 7.11881 6.30236 5.60442 6.37268 6.34171 6.73029 5.46369\n",
      " 5.68595 5.84004 7.19529 5.24639 4.55146 3.44216 4.74038 6.16462 6.09169\n",
      " 6.65453 8.67352 4.01914 5.36892 5.15339 5.53475 4.36018 4.36895 3.18015\n",
      " 5.05026 6.39698 5.94791 4.9646  6.58388 4.45383 5.84663 4.90819 5.53453\n",
      " 5.77501 5.52288 3.03222 5.6878  5.46863 3.98617 3.25217 6.89884 6.29476\n",
      " 4.42716 6.02202 4.1056  6.19549 6.81657 6.48408 6.57057 6.43698 7.19807\n",
      " 3.34618 6.52642 6.35981 5.83077 6.94428 5.15347 5.57158]\n",
      "1\n",
      "[3.31007 3.41944 5.99105 5.37485 3.87272 5.48498 4.01277 3.8863  2.48514\n",
      " 5.1817  3.55447 3.37544 5.93727 5.72899 2.24273 5.22611 2.02253 4.21945\n",
      " 3.95548 4.61534 2.9971  3.78696 3.82966 6.25781 5.2765  2.90231 3.33601\n",
      " 5.07235 5.82434 3.93714 5.98482 4.23144 3.62543 4.70652 5.04171 2.38613\n",
      " 5.52393 4.99486 5.06762 5.03435 3.42937 3.52921 5.58645 4.77497 5.7739\n",
      " 3.39264 2.6574  3.33786 3.80849 2.57483 3.55962 3.39184 5.62435 3.22747\n",
      " 3.76636 6.00552 5.77802 4.34451 5.11518 5.81851 4.66184 4.1707  2.71342\n",
      " 4.27033 4.84367 5.84738 4.59435 3.49171 3.63257 6.44259 4.65905 5.34203\n",
      " 4.60532 3.32745 2.53693 4.1339  3.53464 5.94329 3.62545 3.03301 3.9254\n",
      " 3.61872 2.91052 5.42893 4.67336 1.90374 6.40939 5.49344 1.85736 3.82428\n",
      " 5.79306 4.22851 6.05678 3.49833 4.31473 3.55537 4.82314 3.32407 7.49554\n",
      " 6.73476 3.5077  4.57268 3.17276 4.64032 4.3939  3.72951]\n",
      "2\n",
      "[3.27511 5.7117  5.69633 4.48788 5.35446 5.50402 2.30739 4.199   3.22518\n",
      " 5.33052 5.00751 4.12651 4.73416 6.09348 3.85118 5.06003 2.65577 3.70465\n",
      " 2.94793 5.81329 2.57223 3.3039  2.89193 6.37992 4.99948 4.29263 3.24179\n",
      " 4.78498 6.11194 3.98925 6.54344 6.00287 2.07794 5.09621 4.79966 3.73989\n",
      " 5.56464 5.17281 4.38481 3.32883 5.62398 5.83325 4.9525  6.52582 5.43249\n",
      " 5.34031 3.79445 2.74494 3.48095 4.54536 5.1142  5.58674 4.24173 3.63138\n",
      " 3.77652 5.85041 4.28868 3.10733 4.26911 5.46839 5.24491 3.15852 4.82209\n",
      " 5.94246 5.19369 5.49114 4.86531 5.24367 3.45787 6.01638 4.08333 5.05728\n",
      " 4.74076 3.35522 4.49212 2.88382 4.96181 6.18576 5.49943 4.46943 3.18495\n",
      " 4.28077 5.10491 5.58463 3.82616 4.13796 5.97524 5.57761 4.33931 5.69156\n",
      " 5.79836 4.81842 5.90126 1.78733 3.69084 1.89373 4.37934 3.74224 7.06783\n",
      " 6.51558 4.78881 4.85105 2.03803 6.69091 3.30366 2.79967]\n",
      "2\n",
      "[2.7802  4.90723 6.02227 5.27249 4.55284 4.92933 3.40423 2.64144 3.26108\n",
      " 4.43001 3.6941  3.91743 4.91543 5.18267 2.52133 4.94971 1.82467 3.55116\n",
      " 3.0773  5.24213 2.28766 2.59563 3.34901 6.55526 4.81468 4.07649 2.41967\n",
      " 5.14901 5.91818 3.84967 5.64002 4.78885 2.74024 4.74295 4.50839 2.52051\n",
      " 5.7711  4.29854 3.92926 3.98997 4.58313 5.12841 5.56594 6.08163 5.66078\n",
      " 4.75446 3.0192  1.83032 3.15372 3.18828 4.69967 4.29128 5.16675 3.66036\n",
      " 3.58534 5.942   5.74266 3.09068 4.8475  5.95163 4.62288 3.11177 4.16049\n",
      " 5.49992 5.07168 5.41898 4.51395 4.3446  2.82568 6.64535 4.56071 5.46695\n",
      " 4.67014 2.9738  3.69667 3.30774 4.85364 6.38553 4.95635 3.97984 3.12148\n",
      " 3.59035 4.15219 5.61859 4.31259 2.86442 6.23291 5.37772 3.40915 5.12956\n",
      " 5.95689 4.22893 6.03742 2.77135 3.85955 2.36606 3.42493 3.21935 6.85861\n",
      " 6.68259 3.96571 3.72802 2.2683  6.18982 3.69954 2.75111]\n",
      "2\n",
      "[4.16379 6.0795  5.25465 6.63391 5.67333 3.85751 4.74979 3.40587 4.80008\n",
      " 5.39114 4.5976  5.09818 5.3804  5.52769 4.34139 4.72627 4.57613 5.04662\n",
      " 5.40829 6.16764 4.27716 4.10738 5.14441 5.54526 3.62954 5.50571 4.90128\n",
      " 3.61563 5.26882 2.48584 6.83592 4.12584 4.56492 4.74296 3.41713 3.20291\n",
      " 4.46837 4.09276 5.88812 4.46279 4.45872 5.21641 4.71835 6.50572 5.02412\n",
      " 5.49228 4.76917 4.8461  3.42977 3.90692 5.78675 4.46245 7.50028 4.59666\n",
      " 3.8477  4.92983 7.69184 4.21859 4.60977 5.32524 3.12183 4.74947 4.92065\n",
      " 6.16975 5.27069 5.21469 4.33767 4.33438 4.19509 5.70086 3.27707 4.6235\n",
      " 3.84063 5.42789 4.62937 4.15187 6.6849  5.4609  5.67766 4.94525 4.0261\n",
      " 5.33772 4.61179 4.70115 4.99929 3.61432 5.02913 4.92749 4.49476 5.53399\n",
      " 5.38529 3.83982 5.85212 4.21905 5.98579 4.83454 5.13858 5.15325 7.69933\n",
      " 5.57999 5.40216 5.81883 4.54706 7.00112 3.92371 4.21271]\n",
      "3\n",
      "[4.67287 6.38121 2.575   3.8922  6.4236  2.64166 4.87265 4.66217 5.37821\n",
      " 5.62569 5.29589 5.80418 5.09064 6.02057 5.01861 3.92284 4.62505 3.95343\n",
      " 5.79162 5.7373  4.54747 4.3746  5.12202 2.25233 2.64169 5.92631 5.31917\n",
      " 3.43813 3.71677 4.07486 7.43371 5.87168 4.46433 3.45645 2.76252 4.36549\n",
      " 4.16997 4.43053 6.4156  3.96975 5.54235 6.21033 2.95022 7.0744  2.03488\n",
      " 6.07317 5.02658 5.65258 3.52975 4.71433 5.26895 5.35616 5.84655 3.38529\n",
      " 4.17354 2.65681 6.75077 4.20021 2.39405 2.88097 2.2304  4.85969 5.53792\n",
      " 6.74159 6.44996 4.89699 3.34591 5.44026 3.9371  2.85856 4.07438 2.98326\n",
      " 2.53993 6.05134 5.46452 3.74865 6.86109 3.8694  6.486   5.08492 4.04347\n",
      " 4.21441 5.39502 3.63061 2.84539 4.53713 4.08913 3.87062 5.55251 6.5917\n",
      " 3.74634 4.79902 4.93605 4.53056 5.45533 4.94403 5.23357 6.00143 7.99316\n",
      " 3.49757 6.21117 5.77705 4.38389 7.49834 3.91711 4.0279 ]\n",
      "1\n",
      "[6.01599 2.5243  6.47508 5.27308 3.02661 6.35609 4.36744 5.61903 2.93085\n",
      " 5.57908 2.69658 2.64353 5.53709 4.17551 3.03807 6.38056 3.55384 4.04005\n",
      " 3.83988 3.92166 5.57441 5.2009  3.76857 6.54588 5.95231 2.96381 4.82131\n",
      " 6.43105 5.65781 6.38466 5.09781 4.05055 4.80234 5.97938 5.71011 5.60577\n",
      " 5.85179 5.42941 6.07675 5.84045 2.72153 2.86779 6.16295 3.24649 6.58125\n",
      " 2.77295 2.35764 5.53429 5.65175 2.75869 2.88228 3.47108 4.43099 3.5395\n",
      " 5.41111 6.89094 5.08547 5.29146 5.55921 6.024   5.71313 5.33437 3.56149\n",
      " 3.64278 8.32558 5.63413 5.99055 2.80073 5.17415 6.52975 6.11489 5.79257\n",
      " 5.87796 4.30065 3.25668 5.16996 3.37458 6.25368 2.59577 1.9323  4.88413\n",
      " 2.71576 2.22629 5.8793  5.2512  2.98503 6.37358 5.2697  4.14291 3.24978\n",
      " 6.26534 6.03097 6.29177 5.59782 4.28449 5.30799 5.42463 4.00227 5.74362\n",
      " 6.35389 3.40468 4.33029 4.78415 3.31096 5.67388 4.35298]\n",
      "2\n",
      "[2.30947 4.98044 6.27476 5.08069 5.3194  6.01048 4.26085 4.0259  3.42575\n",
      " 5.41607 5.11373 4.58357 6.0596  6.78175 3.58485 5.47425 2.38564 4.15887\n",
      " 4.40032 5.75297 2.36957 3.506   3.90118 6.69967 5.63552 4.25565 2.9292\n",
      " 5.377   6.41702 4.10138 6.40113 5.77485 3.28036 4.8987  5.43059 2.75104\n",
      " 6.17805 5.49318 4.25968 4.81198 5.35011 5.51985 5.77964 6.46355 5.91346\n",
      " 4.93496 3.88711 2.36639 3.48683 4.33493 4.85454 5.12347 5.37163 3.87264\n",
      " 3.93432 6.17049 5.14357 4.21472 5.2498  6.3234  5.39697 3.95482 4.56846\n",
      " 6.002   4.16641 6.48204 4.94387 5.22521 3.81049 6.68204 5.11489 5.85877\n",
      " 5.01079 3.39889 4.09837 4.19924 4.48959 6.35956 5.42668 4.60686 3.93613\n",
      " 4.35869 4.85914 6.30057 4.50503 3.7563  6.80778 6.25102 3.42827 5.52629\n",
      " 6.13493 4.83205 6.46604 2.58084 4.07733 2.60823 4.5915  3.65695 8.0401\n",
      " 7.43844 4.67742 5.20939 2.80314 6.34713 4.52287 3.89426]\n",
      "2\n",
      "[5.65776 6.52059 4.72182 3.64583 6.25633 3.95914 4.07628 4.67387 5.34516\n",
      " 4.70601 4.68115 5.61171 2.91224 3.93209 4.76648 4.9224  4.58732 2.41998\n",
      " 4.7558  5.91641 5.32337 4.05436 3.73079 5.07584 3.88752 6.22545 4.79831\n",
      " 5.63217 5.09708 5.92815 5.39931 5.72559 3.76899 4.72717 3.4958  5.83011\n",
      " 5.74144 3.86487 5.51273 3.59364 5.79307 6.73769 4.70093 7.17204 4.75861\n",
      " 6.47037 4.53292 5.41417 4.09795 4.62963 5.68386 5.547   4.17256 3.85062\n",
      " 4.9314  4.59333 5.86619 3.91739 3.65703 5.31379 4.55919 4.24127 6.62082\n",
      " 7.47111 8.4705  4.75539 4.86226 5.36357 4.14387 5.07717 5.80912 4.99845\n",
      " 4.72927 5.59876 5.838   3.89323 7.3544  5.86952 6.51391 5.30502 3.55051\n",
      " 3.50155 5.48862 5.80668 2.84719 4.85325 4.61801 4.67938 6.47766 6.85517\n",
      " 5.32654 5.85555 5.85433 4.87052 4.79332 4.58278 3.65142 5.19913 5.08581\n",
      " 4.9864  6.06914 4.56252 4.47839 8.02589 4.64149 2.97704]\n",
      "3\n",
      "[4.37915 7.03888 3.74841 6.41786 6.73264 4.17112 4.6387  5.08443 5.34374\n",
      " 5.52665 6.39506 5.83512 5.2922  6.74833 5.60562 3.24831 5.13704 5.89771\n",
      " 5.23076 7.14026 4.27542 4.65736 5.41395 4.46662 3.28612 6.10908 5.91091\n",
      " 1.92548 3.79642 2.9091  7.94004 6.22878 4.95263 4.16692 3.75581 4.71156\n",
      " 2.31322 5.21669 6.81808 4.34538 6.01734 6.49885 3.15827 7.41303 3.62162\n",
      " 6.07156 5.5863  5.85282 3.91091 5.33127 6.82586 6.15959 7.09658 5.05833\n",
      " 3.03766 4.22392 6.87893 3.79572 3.67181 3.48266 3.55614 5.21032 6.1065\n",
      " 7.35154 5.89275 4.14737 3.49031 5.6803  4.50924 3.88021 2.23112 2.63395\n",
      " 2.85241 6.34485 5.49632 3.41569 6.70611 3.47132 6.53898 5.51443 4.25945\n",
      " 5.90051 5.94732 3.04642 4.7498  4.99855 3.61576 3.42455 5.96956 6.95403\n",
      " 3.38851 3.70329 3.57856 4.35001 6.66795 4.78239 5.83328 6.00007 8.24123\n",
      " 4.36671 6.5423  7.03026 4.37571 7.81853 3.40023 4.81434]\n",
      "1\n",
      "[5.75151 1.91017 6.84552 5.94695 2.92665 6.33562 4.95675 5.37626 3.2177\n",
      " 5.84707 2.50893 3.18419 6.28306 4.87316 2.4336  6.40175 3.12104 4.68154\n",
      " 4.27396 4.2281  5.08878 5.11132 4.5858  6.91174 6.2674  2.77865 4.83444\n",
      " 6.63264 6.03268 6.25056 5.469   4.06791 5.07339 6.04571 6.00747 4.75808\n",
      " 6.31557 5.71482 6.14192 6.20982 2.64302 2.7282  6.7249  3.45821 6.71331\n",
      " 2.54429 2.17373 5.13438 5.81672 2.36256 2.90754 2.96739 5.47367 4.01436\n",
      " 5.3741  7.23029 6.31071 5.40481 6.02577 6.40408 5.68669 5.22642 2.72855\n",
      " 3.3461  7.70432 6.17303 5.96366 2.94712 4.74789 7.16345 6.26672 6.15036\n",
      " 6.01277 4.24601 2.90927 5.28019 3.18464 6.70417 2.70991 2.02806 5.11999\n",
      " 3.12858 2.16075 5.89871 5.74712 2.51074 6.9692  5.55119 3.42133 3.36007\n",
      " 6.65851 5.91407 6.66042 5.7136  4.81139 5.2419  5.38113 4.11222 6.84359\n",
      " 6.85986 3.2593  3.97388 4.62561 3.10868 5.7327  4.72974]\n",
      "2\n",
      "[2.58307 5.53434 6.29209 5.72055 5.6976  5.9766  4.2288  4.27011 3.95577\n",
      " 6.03304 5.50808 4.86233 6.51986 7.40915 4.19724 5.17213 2.73713 5.11566\n",
      " 4.47379 6.18903 2.13459 3.8251  4.84768 6.79493 5.84179 4.32154 3.68663\n",
      " 5.19585 6.33861 3.66713 7.41939 6.41887 3.79304 5.00523 5.71962 2.20957\n",
      " 6.09644 6.0908  5.09169 5.11193 5.85695 5.83474 5.79002 6.82063 5.69957\n",
      " 5.16213 4.29523 2.62304 4.27734 4.77572 5.33291 5.72603 6.04981 4.47034\n",
      " 4.11354 6.4899  6.03859 4.27662 5.31039 5.85723 5.38058 4.30673 4.22188\n",
      " 5.79059 3.64052 6.23863 4.72995 5.53876 3.49631 6.79555 4.65826 5.55288\n",
      " 5.03035 3.54445 4.4097  3.98777 4.55589 6.44028 5.66167 4.70458 4.53619\n",
      " 5.10849 5.32544 5.59223 5.16843 4.1465  7.06145 6.03208 3.81689 5.87986\n",
      " 5.99582 4.57528 6.10453 2.95255 4.736   3.16704 5.29458 4.51649 8.74904\n",
      " 7.20304 4.96174 5.15419 2.86199 6.49973 4.16901 4.47146]\n",
      "1\n",
      "[5.83582 2.63631 6.68698 5.6338  1.56406 6.42943 4.57184 5.79297 1.96934\n",
      " 5.81163 2.95827 1.34448 6.75474 5.16932 3.29226 6.3691  3.87179 4.68703\n",
      " 4.64774 2.72372 5.34081 5.82447 4.46967 6.62931 6.10255 1.56073 4.70868\n",
      " 6.32674 5.7553  5.68141 5.22041 3.563   4.91876 5.81144 5.82515 4.59744\n",
      " 5.53663 6.30854 6.98259 6.17737 2.57696 2.04948 6.30427 2.31604 6.63983\n",
      " 2.07014 2.3455  5.45098 5.50543 2.86125 2.24526 2.58922 5.66417 3.25225\n",
      " 5.66642 7.43916 5.68358 6.01585 6.12055 5.96839 5.43421 6.03103 2.24542\n",
      " 3.68447 7.28043 5.6146  5.77607 2.61497 4.92574 6.87428 6.12345 5.73204\n",
      " 5.6567  4.17599 1.47168 5.66342 3.55841 5.89312 1.95686 2.02143 5.75192\n",
      " 3.57028 2.65269 5.58518 6.02806 3.31532 6.96497 5.52148 3.08242 1.97047\n",
      " 6.01088 5.32956 6.0406  5.50399 5.29076 5.44254 6.40575 3.99298 6.78856\n",
      " 6.52136 1.32775 4.75974 5.14208 3.36647 6.16673 4.43447]\n",
      "1\n",
      "[5.25824 3.21449 5.67239 5.38467 3.35594 5.33913 3.8707  4.90872 2.68446\n",
      " 5.6246  2.46963 2.99661 5.59818 4.62351 1.82724 5.65309 3.08958 4.33206\n",
      " 3.90424 4.08476 4.71062 4.88462 3.54831 5.96221 5.21298 2.78803 4.27553\n",
      " 5.4024  5.61548 5.08368 5.86976 3.59399 3.99074 5.34016 4.83784 4.2469\n",
      " 5.45446 4.81533 6.16746 5.18575 2.22029 2.58777 5.40042 3.39709 5.99304\n",
      " 2.99295 2.18329 4.9318  4.77524 2.06231 3.01989 2.47943 5.3136  3.07914\n",
      " 4.84445 6.1043  6.32364 4.84372 5.19587 5.57825 4.74744 4.54482 2.90113\n",
      " 3.89054 6.90489 5.5882  5.17976 2.66881 4.26863 6.26063 5.01909 5.12161\n",
      " 4.96492 4.10905 2.61791 4.63074 4.06756 5.99127 2.55519 2.5979  4.14363\n",
      " 3.00796 1.38676 5.10218 4.68056 1.85801 5.9257  5.11228 2.61075 2.80266\n",
      " 5.91694 5.18483 6.01951 4.82069 5.01843 4.66663 5.15354 3.63948 6.324\n",
      " 6.01774 3.54814 4.45422 4.106   4.0731  5.01086 3.5417 ]\n",
      "3\n",
      "[5.75817 6.98429 3.14923 6.04087 6.78091 4.63102 5.3763  6.18481 5.77541\n",
      " 6.71592 6.4602  5.8582  5.93016 6.92557 6.25511 4.54715 5.89434 5.97827\n",
      " 6.20211 6.71061 5.84102 5.8513  6.04076 3.15882 3.57065 6.23723 6.83823\n",
      " 2.62501 2.91827 4.313   8.57897 6.43943 5.86135 4.9466  4.24491 5.91916\n",
      " 2.17496 5.65927 7.6805  5.06028 5.92994 6.28912 2.81364 7.0548  3.21035\n",
      " 5.86459 5.94877 7.09103 5.10697 5.80797 6.38623 6.37353 6.99171 4.90831\n",
      " 4.79972 4.31567 7.01109 5.01095 3.43815 1.99321 3.67505 6.37628 6.12397\n",
      " 6.86928 7.45133 4.72941 4.42713 5.70865 5.65376 2.41649 3.46542 2.21043\n",
      " 3.46515 7.03065 5.9362  4.59047 6.68577 2.59585 6.55816 5.37095 5.29519\n",
      " 5.77546 5.94463 2.49551 5.01486 5.60212 3.6676  3.38699 6.46606 6.74108\n",
      " 3.14105 5.30972 3.78473 5.73121 6.70375 6.23902 6.88383 7.03578 8.3378\n",
      " 3.0866  6.75328 7.46183 5.46125 7.31099 4.53485 5.60573]\n",
      "3\n",
      "[4.42891 6.93771 2.42897 5.1555  6.91059 2.66805 4.92841 4.72287 5.69201\n",
      " 6.15102 5.95148 6.17771 5.20424 6.65936 5.43176 3.60316 4.93207 4.97705\n",
      " 5.99126 6.73951 4.27711 4.37206 5.59856 2.58165 2.2812  6.28931 5.88685\n",
      " 1.85784 3.69002 3.05763 8.18973 6.18108 4.69708 3.92804 2.80817 4.18438\n",
      " 3.42675 4.58985 6.53965 3.64496 5.93505 6.54962 2.57342 7.57318 1.55534\n",
      " 6.2928  5.52997 5.74272 3.61136 5.21048 6.1457  5.88532 6.7849  4.31577\n",
      " 3.71112 2.65737 7.34763 3.80233 2.16871 2.54967 2.16408 4.8031  5.80905\n",
      " 7.02145 5.87627 5.02587 3.39347 5.76796 4.05516 2.6127  2.74191 2.3923\n",
      " 2.28755 6.45715 5.80765 3.28374 7.10362 3.64617 6.91308 5.50292 3.96703\n",
      " 5.27782 5.86023 2.88474 3.53007 4.87528 3.54596 3.70212 5.78636 7.01295\n",
      " 3.63535 4.62793 4.69525 4.39632 6.08126 4.91923 5.49244 6.45456 8.536\n",
      " 3.44483 6.72476 6.50957 4.23341 7.87152 3.1047  4.5414 ]\n",
      "2\n",
      "[3.25555 4.9227  5.48129 4.38677 5.06048 5.04707 2.98625 4.01196 3.13931\n",
      " 5.29833 4.38682 4.31787 4.82723 5.85384 2.70346 4.87476 1.63952 3.47831\n",
      " 3.4645  5.70849 1.98508 2.99506 2.98208 6.13466 4.8935  3.99785 3.05612\n",
      " 4.94377 5.99287 4.22469 5.99917 5.51767 1.94563 4.82899 4.51079 2.88592\n",
      " 5.80631 4.93578 4.28334 3.50625 5.04148 5.40447 5.12298 6.09239 5.21525\n",
      " 4.83454 2.99812 2.37756 3.46447 3.80429 4.58378 4.68682 4.49688 3.41288\n",
      " 3.65133 5.66372 5.24485 3.09381 4.35148 5.64361 4.9193  2.26109 4.41993\n",
      " 5.89119 5.157   5.79473 4.71429 4.86217 2.52785 6.09452 4.51807 5.09341\n",
      " 4.65616 3.30969 4.007   2.93563 4.86058 6.21593 5.16554 4.15757 2.78201\n",
      " 3.67024 4.48542 5.50824 3.49066 3.35577 5.83623 5.40698 3.66918 5.43056\n",
      " 5.88752 4.96645 6.0785  2.23458 4.06102 1.35217 3.53895 3.22695 7.12136\n",
      " 6.50036 4.62418 4.19981 1.53855 6.41063 3.55485 2.57284]\n",
      "1\n",
      "[4.34943 5.36579 7.33815 6.70477 4.59754 6.94072 5.44532 5.07455 4.00345\n",
      " 4.75986 5.54547 4.12264 6.70795 6.3441  5.02599 6.27097 4.60815 5.42914\n",
      " 4.51861 5.37783 4.5708  5.04217 5.10135 7.40866 6.06202 4.86549 5.03706\n",
      " 5.9378  6.41234 5.1546  6.4427  5.37712 5.50463 5.87036 6.33398 5.10082\n",
      " 5.44492 6.09643 5.94862 5.92112 5.26125 5.36586 6.73889 6.38629 6.89074\n",
      " 5.1647  4.91677 5.12503 4.46589 4.67929 5.56546 5.3691  6.44818 4.91028\n",
      " 4.25062 7.12694 4.89487 5.26793 6.17023 6.74267 5.91825 6.24806 5.06225\n",
      " 5.82584 6.14903 6.11509 5.67558 5.16324 5.82932 7.11354 5.61299 6.42334\n",
      " 5.45401 5.35773 4.25717 5.28154 4.73791 6.10541 5.47296 4.63604 5.5163\n",
      " 5.20862 5.36414 6.64647 6.32826 4.71751 7.23494 6.21632 4.76355 5.69248\n",
      " 6.25745 4.5268  6.41255 4.8477  5.07559 4.94189 6.32326 5.06187 8.14571\n",
      " 7.6964  4.34101 6.65821 4.91486 5.95361 5.4394  5.29766]\n",
      "1\n",
      "[4.84721 3.96884 5.76118 5.85084 3.37344 4.80733 4.2646  3.76349 3.36417\n",
      " 4.50221 2.06051 3.14154 5.30883 3.73026 2.3512  5.33702 3.44751 4.15902\n",
      " 3.82087 3.84942 4.79949 4.45247 3.87732 5.96321 4.66418 3.71634 3.95943\n",
      " 5.31587 5.13916 4.69177 5.46609 2.90168 4.36171 4.89431 4.42593 4.1844\n",
      " 5.11815 3.86319 5.85663 5.18972 2.26227 3.2197  5.45543 4.30101 5.93713\n",
      " 3.6149  2.76811 4.79787 4.18435 1.62789 3.80517 2.45809 5.80415 3.35915\n",
      " 4.55964 5.87852 6.66647 4.5814  5.2311  5.6059  4.1228  4.95647 3.54836\n",
      " 4.39454 6.95664 4.92183 4.65962 2.45583 4.33066 6.34621 5.00368 5.19532\n",
      " 4.60927 4.2863  2.87159 4.64568 4.77463 5.76515 3.30025 3.01751 4.16876\n",
      " 2.9613  1.96783 5.08339 4.95305 1.86542 5.86358 4.75518 3.20637 3.44435\n",
      " 5.55178 4.37945 5.64275 5.0103  4.94988 4.94522 4.81157 3.96256 5.92819\n",
      " 5.8505  3.37927 4.28293 4.38586 4.77065 4.94895 3.53662]\n",
      "2\n",
      "[3.43151 5.19011 5.85478 3.63539 5.10304 5.49543 3.18884 3.85425 3.43762\n",
      " 4.98038 4.29258 4.19541 5.00313 5.6864  3.20011 5.46644 2.01171 2.76467\n",
      " 3.02463 4.97246 3.10063 3.28557 2.71763 6.34801 5.32303 4.22426 2.18894\n",
      " 5.75196 6.22081 4.94114 6.1387  5.92357 2.34607 4.8845  5.00271 3.90252\n",
      " 6.41131 4.83377 4.03458 4.10732 5.34914 5.70154 5.42543 6.33886 5.67526\n",
      " 5.27508 3.3845  2.46155 3.63585 4.08387 4.35072 5.17085 3.26006 3.04348\n",
      " 4.46201 5.86114 4.4157  3.63991 4.65343 5.81555 5.30375 3.36423 4.67294\n",
      " 5.67692 5.81821 5.84989 4.90478 5.15575 3.51001 6.39173 5.28957 5.6321\n",
      " 5.03721 2.81833 4.42633 3.71244 4.69453 6.59675 5.3121  4.29005 3.38344\n",
      " 2.93705 4.62777 6.10296 3.47646 3.72022 6.59931 5.87824 4.00452 5.48038\n",
      " 6.10961 5.26591 6.33503 2.80985 2.77544 2.50425 3.894   3.49593 6.82343\n",
      " 6.76516 4.50261 3.84592 2.40656 6.35324 4.24262 2.61963]\n",
      "1\n",
      "[5.05341 2.7341  6.50815 5.15719 2.43016 5.88648 4.22057 4.90537 2.2158\n",
      " 5.56313 2.41123 2.59908 6.09127 4.90581 1.61086 6.17586 2.55673 3.98307\n",
      " 3.99964 3.55619 4.23918 4.79503 3.74731 6.64025 5.78472 2.30173 3.98739\n",
      " 6.19497 6.23042 5.52916 5.28314 3.80726 3.94225 5.73763 5.48883 3.85176\n",
      " 6.15198 5.40139 5.82387 5.22793 2.8864  3.04596 6.3492  3.68422 6.39258\n",
      " 2.95897 1.65037 4.28437 4.79297 2.26146 2.46554 2.31653 5.08107 3.04923\n",
      " 5.05627 6.90372 5.92401 5.01089 5.66633 6.27517 5.29981 4.59609 2.55621\n",
      " 3.95045 6.71553 6.22498 5.62854 3.21198 4.06298 6.98242 5.90191 5.96536\n",
      " 5.49218 3.8055  2.15274 4.82256 3.75614 6.5303  3.07789 2.57646 4.57846\n",
      " 2.72884 2.54111 5.9084  5.1041  2.53178 6.86923 5.76392 2.2532  3.13563\n",
      " 6.48876 5.48808 6.64633 4.7689  4.5715  4.23031 5.05134 3.51763 6.70726\n",
      " 6.86957 2.44004 4.0155  3.86217 4.09342 5.35481 3.58493]\n",
      "3\n",
      "[5.73093 8.2368  2.68699 5.29901 8.30598 3.66092 6.17447 6.37033 7.11007\n",
      " 6.74741 7.49946 7.71682 6.60011 8.09742 6.80304 3.66663 6.20159 6.32335\n",
      " 6.99383 7.53649 5.36996 5.91072 6.83485 2.78837 4.0859  7.50466 6.98778\n",
      " 4.01254 4.61071 5.01446 9.46099 8.06979 5.95508 3.79299 4.4735  5.60278\n",
      " 4.85999 6.26079 8.31458 5.38315 7.59684 8.07128 3.5959  8.86544 2.22407\n",
      " 7.83901 6.85922 7.17221 4.97646 6.55577 7.25097 7.27428 7.28445 5.28335\n",
      " 4.86406 3.03193 8.18642 5.41599 3.68761 3.0928  3.77277 6.21908 7.09771\n",
      " 8.51492 6.75689 5.55565 3.40625 7.42398 4.95009 3.39929 4.77003 3.31978\n",
      " 3.01384 7.7487  7.03302 4.66005 8.27457 4.31287 8.127   6.91134 5.55252\n",
      " 6.20709 7.30205 3.79514 4.25199 6.28055 4.97123 4.56379 7.12134 8.55259\n",
      " 3.77708 5.2007  4.87405 5.74722 7.5392  6.09042 6.89463 7.66073 9.81074\n",
      " 4.16701 8.09268 7.54591 5.53687 9.25736 4.81496 5.70824]\n",
      "2\n",
      "[2.62567 5.04686 6.33347 4.9773  5.24761 5.95665 3.33464 3.6318  3.27346\n",
      " 5.62527 4.60712 4.17108 5.58215 6.4125  3.34997 5.61229 1.8904  3.88757\n",
      " 3.44882 5.63485 2.59206 3.18323 3.43216 6.88138 5.68362 3.95937 2.39536\n",
      " 5.42389 6.53537 4.05732 6.67615 5.83269 2.73785 5.20998 5.38762 2.9771\n",
      " 6.38742 5.18293 3.76925 4.53993 5.23735 5.3569  5.65437 6.3035  6.04285\n",
      " 4.91079 3.63142 1.60801 3.8648  4.21156 4.68356 5.33472 4.75412 3.78555\n",
      " 4.2536  6.27934 5.01299 3.78361 5.04457 6.11974 5.48099 3.47137 4.1564\n",
      " 5.18736 4.55571 6.22029 5.10223 4.98215 3.68755 6.79614 4.69103 5.79308\n",
      " 5.26145 2.27661 4.26884 3.80681 4.12979 6.81381 5.10357 4.24528 3.60994\n",
      " 4.1481  4.51983 6.1058  4.36964 3.48641 6.87183 6.21814 3.40851 5.16795\n",
      " 6.39041 5.01647 6.54232 2.26567 3.13796 2.58373 4.3988  3.50661 7.55092\n",
      " 7.23806 4.55018 4.37615 2.35833 5.9793  3.99102 3.51936]\n",
      "1\n",
      "[5.18503 6.04527 8.58348 7.46725 5.26672 7.96587 6.82078 5.99288 5.02762\n",
      " 4.8915  6.46023 5.32621 7.95815 7.24826 5.75656 7.18936 5.43651 6.23762\n",
      " 5.68604 5.96526 5.28027 6.01438 6.10433 8.64818 7.34957 5.7834  5.3964\n",
      " 7.59839 7.54883 6.58203 6.12936 6.31973 6.45741 6.5209  7.43453 5.74198\n",
      " 6.96238 7.37877 6.71077 7.25485 6.40045 6.56502 8.17534 7.24792 8.08738\n",
      " 6.19697 5.69189 5.6026  5.40269 5.60514 6.39442 5.97631 7.23253 5.95175\n",
      " 5.46123 8.42361 5.71219 6.53977 7.71904 8.2322  7.08748 7.1524  6.21146\n",
      " 7.40999 6.70407 7.12468 6.5852  6.3816  6.43932 8.59938 7.46053 7.83275\n",
      " 6.65577 6.01294 4.96633 6.67746 5.81623 7.24912 6.48712 5.88624 6.7482\n",
      " 5.92315 6.54484 8.0633  7.43569 5.82648 8.60122 7.38077 5.62184 6.77038\n",
      " 7.34826 5.40977 7.40876 5.87077 6.26723 5.56063 6.85853 5.38305 8.99531\n",
      " 9.07974 4.83993 7.12399 5.9839  7.14464 7.08579 6.15097]\n",
      "3\n",
      "[4.71967 6.80675 2.12008 5.69769 6.90916 3.70969 5.1599  5.40644 5.65338\n",
      " 5.88563 6.24726 6.16005 5.78284 6.96425 5.43023 3.06652 5.04233 5.76174\n",
      " 5.76005 6.73005 4.79177 5.10412 5.59544 2.91124 3.28895 6.08887 5.83053\n",
      " 2.5611  2.65098 3.77187 8.2381  6.53998 5.17238 3.42063 3.65692 4.87358\n",
      " 2.90678 5.20202 7.24322 5.01509 5.91573 6.44937 2.31123 7.20407 2.62381\n",
      " 5.87095 5.47297 6.1913  4.34519 5.27896 6.35593 5.97658 6.74733 4.59427\n",
      " 4.03261 3.51675 7.35179 4.41599 3.53908 2.25459 3.08344 5.50243 6.0629\n",
      " 7.36876 6.46785 4.34568 2.92402 5.75204 4.43565 3.01657 3.50046 1.75758\n",
      " 2.54037 6.38841 5.55929 4.1073  6.57928 2.68855 6.43479 5.47055 4.55402\n",
      " 5.20813 5.625   2.12799 4.21549 4.87981 3.62778 2.94605 5.86486 6.86316\n",
      " 2.40829 4.41377 2.89697 5.06143 6.78399 5.32181 5.88998 6.23658 8.34173\n",
      " 3.43522 6.72651 6.76359 4.63073 7.6525  4.3227  4.92237]\n",
      "1\n",
      "[4.77463 2.52414 6.03334 5.83383 3.40987 5.41752 4.7575  4.77981 3.09563\n",
      " 5.59881 3.07606 3.52433 6.2589  5.43761 2.38702 5.37717 2.80091 4.77863\n",
      " 4.55569 4.51893 3.99756 4.55105 4.76013 6.08313 5.44924 2.82366 4.67456\n",
      " 5.47499 5.47096 4.91119 5.90945 3.89915 4.69305 5.07493 5.23388 3.21628\n",
      " 5.43982 5.46453 6.13329 5.67211 2.72245 2.80616 5.94848 4.01354 5.71588\n",
      " 2.7413  2.42238 4.69165 4.93137 2.08476 3.18484 2.6764  6.13841 3.67908\n",
      " 4.29599 6.32278 6.63215 4.91082 5.3414  5.65324 4.60335 4.78996 2.08471\n",
      " 3.74791 6.2046  5.76244 4.90485 2.97147 3.85207 6.42056 5.18254 5.26299\n",
      " 4.8861  4.343   2.4203  4.55734 3.6359  5.84935 3.14276 2.28612 4.66023\n",
      " 3.62797 2.4647  4.96618 5.27814 1.89149 6.33027 4.98109 2.68188 3.67864\n",
      " 5.83447 4.7443  6.03624 4.89776 5.16945 4.66228 5.29458 4.09646 7.66388\n",
      " 6.29795 3.49879 4.40052 4.06119 3.89092 4.89326 4.46147]\n",
      "1\n",
      "[5.77785 2.42927 6.41618 5.76078 2.55323 6.0795  4.97238 5.71347 2.92623\n",
      " 6.23343 2.92047 2.95407 6.74302 5.42691 2.61174 6.37285 3.4809  4.97201\n",
      " 4.64573 3.70355 4.94108 5.56879 4.78256 6.34285 5.95687 2.42454 5.21485\n",
      " 6.09029 5.98114 5.82649 6.27557 4.02449 5.04624 6.03518 5.82119 4.4552\n",
      " 5.82734 5.94897 6.81948 5.90919 2.55152 2.34729 6.37134 3.16129 6.28922\n",
      " 2.60859 2.52864 5.48803 5.56631 2.60988 2.40237 2.48412 5.82257 3.56553\n",
      " 5.32925 6.96076 6.50071 5.57678 5.78057 5.87368 5.25658 5.43768 1.90143\n",
      " 3.0801  7.12931 6.35439 5.8173  3.22059 4.79889 6.70793 5.79913 5.7184\n",
      " 5.5085  4.82044 2.46353 5.25065 3.45817 6.22468 2.82348 2.23131 5.26972\n",
      " 3.38534 2.42813 5.38336 5.66492 2.81097 6.85357 5.53707 2.66538 3.00463\n",
      " 6.41451 5.72774 6.58775 5.61615 5.29966 5.2753  6.05806 4.56261 7.56966\n",
      " 6.53467 3.05838 4.86926 4.6272  3.10271 5.60692 4.6427 ]\n",
      "1\n",
      "[4.05334 3.17824 5.545   5.279   3.94372 5.24195 4.15475 4.61226 2.61854\n",
      " 5.2718  3.6749  3.6478  5.93415 5.71621 2.1713  4.94702 2.42901 4.47895\n",
      " 4.13717 4.73294 3.28348 4.20075 3.94407 5.81364 5.12928 2.89534 3.99237\n",
      " 4.91151 5.5459  4.31707 5.9841  4.2759  3.86044 4.53513 4.81549 2.87298\n",
      " 5.20127 5.27438 5.77622 5.15053 3.2234  3.32819 5.30106 4.3765  5.46188\n",
      " 3.32554 2.56143 4.18718 4.12482 2.4395  3.43761 3.08479 5.65144 3.20357\n",
      " 3.66435 5.72191 5.93062 4.50048 4.98055 5.4898  4.48105 4.14706 2.77269\n",
      " 4.49965 5.29819 5.63584 4.47651 3.48586 3.56732 6.03617 4.5746  4.89475\n",
      " 4.35493 3.97733 2.47987 4.13528 3.75608 5.5746  3.40006 2.90243 3.95855\n",
      " 3.58895 2.74331 4.99835 4.48808 1.81728 5.93541 5.06001 2.26765 3.88659\n",
      " 5.55352 4.30046 5.81439 3.84761 4.98276 3.75099 4.99977 3.33107 7.645\n",
      " 6.30937 3.86649 4.79586 3.44225 4.59378 4.49636 3.78384]\n",
      "3\n",
      "[4.40507 6.40447 3.11434 5.35475 6.22889 4.35431 5.33346 5.47847 5.07061\n",
      " 4.53441 6.19517 5.70344 6.12199 6.71141 5.13004 3.18233 4.94949 5.54792\n",
      " 5.33238 5.8151  4.59392 5.29122 5.07984 3.52586 3.70044 5.75167 5.36919\n",
      " 3.48786 3.25869 4.24282 7.50496 6.19657 5.14612 2.70153 4.12917 5.03004\n",
      " 2.8895  5.33697 7.38421 5.32701 5.65012 6.16973 3.26314 6.84928 3.67111\n",
      " 5.74288 5.24541 6.20739 3.53648 4.86326 5.9867  5.39241 6.31937 4.01883\n",
      " 3.49007 3.80443 6.38607 4.80663 4.29576 3.50762 3.51743 5.89971 6.03578\n",
      " 7.53533 6.25011 4.29383 2.5182  5.66693 4.74569 3.74808 4.38905 2.947\n",
      " 2.09485 6.38896 4.81149 4.54778 6.22575 2.23895 6.05013 5.37264 4.72093\n",
      " 4.64969 5.43415 3.63576 4.24129 4.68063 4.39866 3.51574 5.36894 6.59686\n",
      " 2.23087 3.48579 2.85414 4.94981 6.73303 5.03437 6.0406  5.63467 8.19862\n",
      " 4.61237 6.08474 7.07652 4.73507 7.45385 5.00653 4.60157]\n",
      "1\n",
      "[5.48538 4.24237 5.51723 5.02058 3.56685 4.50954 3.94855 4.1062  3.5845\n",
      " 4.18071 1.91836 3.15152 4.15168 2.1361  3.14648 5.28755 3.85269 2.91825\n",
      " 4.00101 3.84767 5.31553 4.31792 3.51029 5.60039 4.23455 4.1882  4.23039\n",
      " 5.5528  4.62892 5.32677 4.11542 2.8301  4.1926  4.87532 3.84966 4.97763\n",
      " 4.94959 3.71688 5.69156 4.7056  2.81543 3.88916 5.20894 4.49596 5.6049\n",
      " 3.99834 2.69825 5.16726 4.28713 2.18315 3.84056 2.97503 4.99269 3.11513\n",
      " 4.80189 5.70292 5.92553 4.45813 4.67344 5.39702 4.10462 4.89697 4.43848\n",
      " 5.12862 8.06491 4.21515 4.8667  2.43139 4.27498 5.78935 5.46226 5.01062\n",
      " 4.75007 4.51431 3.52322 4.47714 5.51591 5.49277 3.83694 3.00709 4.09091\n",
      " 2.50801 2.82905 5.22093 4.48493 2.87374 5.15512 4.2492  4.62747 4.07528\n",
      " 5.27484 4.92248 5.48631 5.1535  4.55161 5.03039 4.35065 4.0392  4.5337\n",
      " 5.13521 3.5552  3.75009 4.67714 5.42644 5.01533 3.12363]\n",
      "1\n",
      "[4.34527 2.88341 5.95169 5.22496 3.00512 5.1143  4.0235  3.82657 2.64628\n",
      " 5.25561 2.22063 2.63667 5.1873  4.35317 2.44503 5.58622 2.55435 3.41481\n",
      " 4.07968 4.10877 3.95285 3.70878 3.96815 5.90569 4.75696 3.00302 4.19044\n",
      " 5.09972 5.29876 4.4744  5.30866 3.06492 4.00266 5.26833 4.64754 3.39226\n",
      " 5.15506 4.37764 4.90956 4.54561 2.45102 2.88448 5.62439 4.2689  5.49496\n",
      " 2.85104 2.21378 4.07998 4.1675  1.95008 2.9495  2.80165 5.42569 3.0766\n",
      " 4.11636 5.97565 5.73572 4.13236 4.53716 5.48837 4.27465 4.34284 2.46132\n",
      " 3.28071 6.41989 5.57822 5.06936 2.39558 3.9316  5.98584 4.76827 5.22668\n",
      " 4.7746  3.90649 2.72975 3.95111 3.83643 5.7709  3.48215 1.91494 3.93152\n",
      " 3.07358 2.4599  5.18583 4.709   2.00906 5.90222 4.95881 2.9774  3.47576\n",
      " 5.81252 4.87684 6.20523 4.31202 3.6614  4.27631 4.60652 4.02783 6.61883\n",
      " 5.99481 2.99177 4.01096 3.61646 3.98999 4.15929 3.76501]\n",
      "1\n",
      "[6.61397 5.59608 8.72312 7.5289  4.6914  8.05719 6.74849 6.43759 5.07298\n",
      " 5.12904 5.75607 4.69816 7.25777 5.77225 6.06211 7.72022 6.12485 5.84989\n",
      " 5.84127 5.54137 6.72147 6.44405 6.02278 8.57524 7.23563 5.8174  6.25215\n",
      " 7.83246 7.28535 7.26973 5.13069 5.23609 6.90605 7.13392 7.30079 6.94055\n",
      " 6.6966  7.02791 7.02835 7.34059 5.54838 5.77726 8.19871 6.36915 8.35428\n",
      " 5.77736 5.59096 6.78249 6.09911 5.30515 6.03957 5.66072 7.05419 5.93618\n",
      " 6.08006 8.51045 5.39555 6.88745 7.55925 8.22144 7.14873 7.64268 6.2605\n",
      " 6.71069 8.67629 6.72316 7.23327 5.40841 7.18267 8.32495 7.67373 7.86704\n",
      " 7.07415 6.47204 5.12091 6.96831 6.04941 7.22935 5.86221 5.27168 6.9429\n",
      " 5.77841 5.96799 8.15907 7.58979 5.81255 8.1172  7.12216 6.34847 6.10715\n",
      " 7.48552 6.13386 7.62483 6.74885 6.01669 6.66812 7.13825 5.74811 7.57038\n",
      " 8.55518 4.65979 7.04565 6.8425  6.38295 7.32795 6.34851]\n",
      "3\n",
      "[3.71526 7.28027 2.50778 5.39274 7.03465 2.99937 4.67782 4.44982 5.59716\n",
      " 4.67065 6.27509 6.30716 5.11567 6.62752 5.13686 2.30978 4.74789 5.32195\n",
      " 4.99268 6.75198 3.7924  4.26692 4.91605 3.55929 2.66915 6.41138 5.0907\n",
      " 2.39508 3.86707 3.14715 7.99685 6.55616 4.36576 2.67675 3.09018 4.45024\n",
      " 3.42036 4.38924 6.61691 4.04696 6.24278 6.95388 2.53446 7.84222 2.91039\n",
      " 6.65748 5.5506  5.46479 2.71028 5.10207 6.69378 5.99242 6.41848 4.38649\n",
      " 2.80266 2.53939 7.00917 3.48752 3.3263  3.36741 2.88951 4.71921 6.40793\n",
      " 7.84863 5.51793 4.23999 1.97458 6.10552 3.92252 3.67084 3.00539 2.64732\n",
      " 1.44458 6.2365  5.62276 3.2675  7.06927 3.60608 6.85446 5.93687 3.56286\n",
      " 5.05683 5.90339 3.4125  3.34107 4.70697 3.80023 3.60249 5.67865 7.29442\n",
      " 2.99168 3.29906 3.55273 4.01589 6.48462 4.256   5.12638 5.76338 8.16631\n",
      " 4.3578  6.78292 6.69033 3.89113 8.35584 3.49865 3.98094]\n",
      "y_true :  [1 1 3 1 2 1 2 3 2 3 1 3 1 2 1 2 2 2 1 2 1 2 2 3 3 3 2 2 2 1 1 2 3 1 1 1 3\n",
      " 3 2 3 1 2 2 2 3 1 2 2 3 1 2 1 1 3 3 2 2 1 2 1 3 2 2 3 1 1 1 3 1 1 2 3]\n",
      "y_pred :  [1 1 3 1 2 1 2 3 2 3 1 3 1 3 1 2 2 2 1 2 1 2 2 3 3 3 2 1 2 1 1 2 3 1 1 1 3\n",
      " 3 2 3 1 2 2 2 3 1 2 2 3 1 2 1 1 3 3 2 1 1 2 1 3 2 1 3 1 1 1 3 1 1 1 3]\n"
     ]
    }
   ],
   "source": [
    "y_test_pred = nn_classify(X[train], y[train], X[test])\n",
    "print(\"y_true : \", y[test])\n",
    "print(\"y_pred : \", y_test_pred)"
   ]
  },
  {
   "cell_type": "code",
   "execution_count": 72,
   "metadata": {},
   "outputs": [
    {
     "name": "stdout",
     "output_type": "stream",
     "text": [
      "              precision    recall  f1-score   support\n",
      "\n",
      "           1       0.87      1.00      0.93        26\n",
      "           2       1.00      0.81      0.90        27\n",
      "           3       0.95      1.00      0.97        19\n",
      "\n",
      "    accuracy                           0.93        72\n",
      "   macro avg       0.94      0.94      0.93        72\n",
      "weighted avg       0.94      0.93      0.93        72\n",
      "\n"
     ]
    },
    {
     "data": {
      "image/png": "[encoded data removed]",
      "text/plain": [
       "<Figure size 432x288 with 2 Axes>"
      ]
     },
     "metadata": {
      "needs_background": "light"
     },
     "output_type": "display_data"
    }
   ],
   "source": [
    "labels_names=['1', '2', '3']\n",
    "C = skmetrics.confusion_matrix(y_true=y[test], y_pred=y_test_pred)\n",
    "plot_confusion_matrix(C, labels_names)\n",
    "\n",
    "print(skmetrics.classification_report(y_true=y[test], y_pred=y_test_pred))"
   ]
  },
  {
   "cell_type": "markdown",
   "metadata": {},
   "source": [
    "<p style=\"background-color:#660066; color:#fff;padding:5px; font-weight:bold\">Q: Now, normalize (scale) the columns of your data matrix and re-run the classification. What do you observe ?</p>"
   ]
  },
  {
   "cell_type": "code",
   "execution_count": 70,
   "metadata": {},
   "outputs": [
    {
     "name": "stdout",
     "output_type": "stream",
     "text": [
      "              precision    recall  f1-score   support\n",
      "\n",
      "           1       0.87      1.00      0.93        26\n",
      "           2       1.00      0.81      0.90        27\n",
      "           3       0.95      1.00      0.97        19\n",
      "\n",
      "    accuracy                           0.93        72\n",
      "   macro avg       0.94      0.94      0.93        72\n",
      "weighted avg       0.94      0.93      0.93        72\n",
      "\n"
     ]
    },
    {
     "data": {
      "image/png": "[encoded data removed]",
      "text/plain": [
       "<Figure size 432x288 with 2 Axes>"
      ]
     },
     "metadata": {
      "needs_background": "light"
     },
     "output_type": "display_data"
    }
   ],
   "source": [
    " X = scale(df[colnames[1:]])\n",
    "y_test_pred = nn_classify(X[train], y[train], X[test])\n",
    "\n",
    "labels_names=['1', '2', '3']\n",
    "C = skmetrics.confusion_matrix(y_true=y[test], y_pred=y_test_pred)\n",
    "plot_confusion_matrix(C, labels_names)\n",
    "\n",
    "print(skmetrics.classification_report(y_true=y[test], y_pred=y_test_pred))"
   ]
  },
  {
   "cell_type": "code",
   "execution_count": null,
   "metadata": {},
   "outputs": [],
   "source": []
  },
  {
   "cell_type": "markdown",
   "metadata": {},
   "source": [
    "<p style=\"background-color:#660066; color:#fff;padding:5px; font-weight:bold\">Q: Above, we implemented a basic nearest neighbor classifier (k=1). Modify it so that it is a k nearest neighbor classifier. Evaluate it for k=3, k=5 and k=10. Does increasing k help ? Is there a limit after which increasing k is useless ? Why ?</p>"
   ]
  },
  {
   "cell_type": "code",
   "execution_count": 102,
   "metadata": {},
   "outputs": [
    {
     "name": "stdout",
     "output_type": "stream",
     "text": [
      "              precision    recall  f1-score   support\n",
      "\n",
      "           1       0.84      1.00      0.91        26\n",
      "           2       1.00      0.81      0.90        27\n",
      "           3       1.00      1.00      1.00        19\n",
      "\n",
      "    accuracy                           0.93        72\n",
      "   macro avg       0.95      0.94      0.94        72\n",
      "weighted avg       0.94      0.93      0.93        72\n",
      "\n"
     ]
    },
    {
     "data": {
      "image/png": "[encoded data removed]",
      "text/plain": [
       "<Figure size 432x288 with 2 Axes>"
      ]
     },
     "metadata": {
      "needs_background": "light"
     },
     "output_type": "display_data"
    }
   ],
   "source": [
    "def nn_classify_k(X_train, y_train, X, k):\n",
    "    \"\"\"\n",
    "    Nearest neighbor classifier. Returns the class of the nearest training vector\n",
    "    \"\"\"\n",
    "#   Returns a vector containing the distance between x and each sample in X_train\n",
    "    dists = distances(X_train, X)\n",
    "    closest = np.argpartition(dists,k)\n",
    "    closest_class = []\n",
    "    for i in range(k):\n",
    "        closest_class.append(y_train[closest[i]])\n",
    "    return closest_class\n",
    "# y_train[closest]\n",
    "\n",
    "def nn_classify_with_k(X_train, y_train, X, k):\n",
    "    \"\"\"\n",
    "    Assign to each row in X the class of its k nearest neighbor in X_train\n",
    "    \"\"\"\n",
    "    y_pred = np.zeros(X.shape[0], dtype=np.int)\n",
    "    for i in range(X.shape[0]):\n",
    "        y_pred[i] = np.argmax(np.bincount(nn_classify_k(X_train, y_train, X[i], k )))\n",
    "    return y_pred\n",
    "\n",
    "X = scale(df[colnames[1:]])\n",
    "y_test_pred = nn_classify_with_k(X[train], y[train], X[test],5)\n",
    "\n",
    "labels_names=['1', '2', '3']\n",
    "C = skmetrics.confusion_matrix(y_true=y[test], y_pred=y_test_pred)\n",
    "plot_confusion_matrix(C, labels_names)\n",
    "\n",
    "print(skmetrics.classification_report(y_true=y[test], y_pred=y_test_pred))"
   ]
  },
  {
   "cell_type": "markdown",
   "metadata": {},
   "source": [
    "<p style=\"background-color:#660066; color:#fff;padding:5px; font-weight:bold\">Q: In our example, we only used two features (magnesium and total phenols). Try classifying with all the features and compare the performance.</p>"
   ]
  },
  {
   "cell_type": "code",
   "execution_count": null,
   "metadata": {},
   "outputs": [],
   "source": []
  }
 ],
 "metadata": {
  "kernelspec": {
   "display_name": "Python 3",
   "language": "python",
   "name": "python3"
  },
  "language_info": {
   "codemirror_mode": {
    "name": "ipython",
    "version": 3
   },
   "file_extension": ".py",
   "mimetype": "text/x-python",
   "name": "python",
   "nbconvert_exporter": "python",
   "pygments_lexer": "ipython3",
   "version": "3.8.1"
  }
 },
 "nbformat": 4,
 "nbformat_minor": 1
}
